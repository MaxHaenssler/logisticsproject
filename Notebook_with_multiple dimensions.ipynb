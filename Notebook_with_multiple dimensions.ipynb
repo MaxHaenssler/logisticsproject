{
 "cells": [
  {
   "cell_type": "markdown",
   "id": "046f3a31",
   "metadata": {},
   "source": [
    "# Vessel Route Optimization"
   ]
  },
  {
   "cell_type": "code",
   "execution_count": 23,
   "id": "4967c137",
   "metadata": {},
   "outputs": [],
   "source": [
    "import math\n",
    "import numpy as np\n",
    "from numpy import random\n",
    "from scipy.optimize import fsolve\n",
    "import ortools\n",
    "from tabulate import tabulate\n",
    "from ortools.linear_solver import pywraplp"
   ]
  },
  {
   "cell_type": "markdown",
   "id": "8cb722ab",
   "metadata": {},
   "source": [
    "## Semi-random vectors generation"
   ]
  },
  {
   "cell_type": "code",
   "execution_count": 2,
   "id": "6fe669da",
   "metadata": {},
   "outputs": [
    {
     "name": "stdout",
     "output_type": "stream",
     "text": [
      "Wind direction (degrees): [246, 223, 187, 175, 175, 166, 162, 116, 143, 177]\n",
      "Wind speed (m/s): [8, 3, 14, 12, 18, 13, 22, 10, 23, 19]\n"
     ]
    }
   ],
   "source": [
    "wind_degrees = []\n",
    "x_positions = 10\n",
    "max_change = 0.3\n",
    "#random.seed(1234)\n",
    "\n",
    "for day in range(x_positions):\n",
    "    if day == 0:\n",
    "        wind_degrees.append(random.randint(0,360))\n",
    "    else:\n",
    "        last_day = wind_degrees[day-1]\n",
    "        wind_degrees.append(random.randint(last_day*(1-max_change),last_day*(1+max_change)))\n",
    "        \n",
    "wind_speed = list(random.randint(0,28,(1,x_positions)).flatten())\n",
    "\n",
    "print(\"Wind direction (degrees):\", wind_degrees)\n",
    "print(\"Wind speed (m/s):\", wind_speed)"
   ]
  },
  {
   "cell_type": "markdown",
   "id": "9729dca9",
   "metadata": {},
   "source": [
    "## Multiple array problem"
   ]
  },
  {
   "cell_type": "code",
   "execution_count": 12,
   "id": "7b209d05",
   "metadata": {},
   "outputs": [
    {
     "name": "stdout",
     "output_type": "stream",
     "text": [
      "Wind direction (degrees): [[237, 51, 152, 244, 345], [236, 44, 161, 296, 267], [278, 43, 151, 213, 258]]\n",
      "Wind speed (m/s): [[8, 20, 19, 5, 16], [8, 18, 19, 3, 11], [8, 25, 13, 5, 16]]\n"
     ]
    }
   ],
   "source": [
    "def random_space(max_value, x_positions=5, y_positions=1, day_max_change=0.3, position_max_change=0.2, seed=None):    \n",
    "    random.seed(seed)\n",
    "    degrees_matrix = []\n",
    "    wind_degrees = []\n",
    "    \n",
    "    for day in range(x_positions):\n",
    "        wind_degrees.append(random.randint(1,max_value))\n",
    "    degrees_matrix.append(wind_degrees) \n",
    "\n",
    "    for position in range(0,y_positions-1):\n",
    "        position_degree = []\n",
    "        for day in range(x_positions):\n",
    "            same_day_other_position = abs(degrees_matrix[position-1][day])  \n",
    "            if same_day_other_position != 0:\n",
    "                position_degree.append(random.randint(same_day_other_position*(1-position_max_change),same_day_other_position*(1+position_max_change)))\n",
    "            else: \n",
    "                position_degree.append(random.randint(1,max_value))\n",
    "        degrees_matrix.append(position_degree)\n",
    "    \n",
    "    return degrees_matrix\n",
    "\n",
    "x_positions = 5\n",
    "y_positions = 3\n",
    "day_max_change = 0.3\n",
    "position_max_change = 0.3\n",
    "seed = 126\n",
    "\n",
    "wind_direction = random_space(360, x_positions, y_positions, day_max_change, position_max_change)\n",
    "wind_speed = random_space(27, x_positions, y_positions, day_max_change, position_max_change)\n",
    "\n",
    "print(\"Wind direction (degrees):\", wind_direction)\n",
    "print(\"Wind speed (m/s):\", wind_speed)"
   ]
  },
  {
   "cell_type": "markdown",
   "id": "b665f475",
   "metadata": {},
   "source": [
    "# Open_sail function"
   ]
  },
  {
   "cell_type": "code",
   "execution_count": 13,
   "id": "5cebd975",
   "metadata": {},
   "outputs": [
    {
     "name": "stdout",
     "output_type": "stream",
     "text": [
      "We open the sail :  True\n"
     ]
    }
   ],
   "source": [
    "#CONSTANTS TO BE DETERMINED\n",
    "min_wind_angle = 60 \n",
    "max_wind_angle = 300 \n",
    "min_wind_strength = 10\n",
    "\n",
    "def open_sail(wind_angle, wind_strength):\n",
    "    open_sail_bool = False \n",
    "    \n",
    "    if wind_angle > min_wind_angle and wind_angle < max_wind_angle and wind_strength > min_wind_strength :\n",
    "        open_sail_bool = True\n",
    "        \n",
    "    #EXCLUDING CRIETRIA FOR THE BOAT_SPEED FUNCTION NOT TO EXPLODE\n",
    "    if wind_angle > 80 and wind_angle < 120 : open_sail_bool = False\n",
    "    if wind_angle > 260 and wind_angle < 300 : open_sail_bool = False\n",
    "\n",
    "\n",
    "    return open_sail_bool\n",
    "\n",
    "\n",
    "print(\"We open the sail : \", open_sail(80,40))"
   ]
  },
  {
   "cell_type": "markdown",
   "id": "d2126e98",
   "metadata": {},
   "source": [
    "# Apparent wind function for boat speed"
   ]
  },
  {
   "cell_type": "code",
   "execution_count": 14,
   "id": "de53a428",
   "metadata": {},
   "outputs": [],
   "source": [
    "# 0<a0<180\n",
    "\n",
    "def boat_speed(a0,VW,eta):\n",
    "\n",
    "    f = lambda a: math.sin(math.pi*a0/180) * math.sin(math.pi*a/180) * math.pow((math.sin(math.pi*a/180/2) / math.sin(math.pi*a0/180-math.pi*a/180)), 2)-VW * eta\n",
    "    a = fsolve(f, [0])[0]\n",
    "    #print(\"a:\", a)\n",
    "    VB = VW * (math.sin(math.pi*(a0-a)/180)/math.sin(math.pi*a/180))\n",
    "    #print(\"a0:\",a0,\"and VB:\", VB)\n",
    "    \n",
    "    return VB"
   ]
  },
  {
   "cell_type": "markdown",
   "id": "f84ab242",
   "metadata": {},
   "source": [
    "# Problem in 1 dimension"
   ]
  },
  {
   "cell_type": "code",
   "execution_count": 167,
   "id": "911f6533",
   "metadata": {},
   "outputs": [
    {
     "name": "stdout",
     "output_type": "stream",
     "text": [
      "The squares length is 5.0\n",
      "Wind angles are : [59, 60, 49, 67, 43, 77]\n",
      "Wind speeds are : [20, 19, 23, 18, 26, 16]\n",
      "We open the sails : [False, False, False, True, False, True]\n",
      "Boat speeds are : [22, 22, 22, 38.29673455764048, 22, 37.70908920645781]\n",
      "The emissions for each square are: [16.0, 16.0, 16.0, 0, 16.0, 0]\n",
      "The total emissions are: 64.0\n",
      "The time need for each square is: [0.22727272727272727, 0.22727272727272727, 0.22727272727272727, 0.13055943431611622, 0.22727272727272727, 0.13259402720190158]\n",
      "The total time needed is: 1.1722443706089267\n"
     ]
    }
   ],
   "source": [
    "#ARBITRARY CONSTANTS TO CHECK !!!\n",
    "total_distance = 30 #miles\n",
    "x_positions = 6 #nb of squares between A and B\n",
    "eta = 0.001\n",
    "motor_speed = 22 #in mph\n",
    "motor_emission_per_mile = 3.2 #in kgCO2 per mile\n",
    "\n",
    "wind_angle = random_space(360,1,x_positions) #in degrees\n",
    "wind_speed = random_space(30,1,x_positions) #in mph\n",
    "square_length = total_distance/x_positions\n",
    "\n",
    "#defining the lists to be used\n",
    "list_sail = []\n",
    "list_boat_speed = []\n",
    "list_co2 = []\n",
    "list_time = []\n",
    "\n",
    "#flatten the list of list into a simple list\n",
    "wind_angle = [item for sublist in wind_angle for item in sublist]\n",
    "wind_speed = [item for sublist in wind_speed for item in sublist]\n",
    "\n",
    "#evaluating if we open the sails for each position\n",
    "for i in range(x_positions):\n",
    "    list_sail.append(open_sail(wind_angle[i],wind_speed[i]))\n",
    "    \n",
    "#determining the boat speeds depending on whether we use sails on motor   \n",
    "for i in range(x_positions):\n",
    "    if list_sail[i]==True:\n",
    "        list_boat_speed.append(boat_speed(wind_angle[i],wind_speed[i],eta))\n",
    "        \n",
    "    else:\n",
    "        list_boat_speed.append(motor_speed)\n",
    "        \n",
    "#CO2 emissions calculations\n",
    "for i in range(x_positions):\n",
    "    if list_sail[i]==True:\n",
    "        list_co2.append(0)\n",
    "        \n",
    "    else:\n",
    "        list_co2.append(motor_emission_per_mile*square_length)\n",
    "        \n",
    "total_emissions = sum(list_co2)\n",
    "        \n",
    "#determining the time needed for the journey\n",
    "for i in range(x_positions):\n",
    "    list_time.append(square_length/list_boat_speed[i])\n",
    "        \n",
    "total_time = sum(list_time)        \n",
    "        \n",
    "    \n",
    "    \n",
    "#printing results\n",
    "print(\"The squares length is\", square_length)\n",
    "print(\"Wind angles are :\", wind_angle)\n",
    "print(\"Wind speeds are :\", wind_speed)\n",
    "print(\"We open the sails :\", list_sail)\n",
    "print(\"Boat speeds are :\", list_boat_speed)\n",
    "print(\"The emissions for each square are:\", list_co2)\n",
    "print(\"The total emissions are:\", total_emissions)\n",
    "print(\"The time need for each square is:\", list_time)\n",
    "print(\"The total time needed is:\", total_time)"
   ]
  },
  {
   "cell_type": "code",
   "execution_count": 16,
   "id": "e79704ab",
   "metadata": {},
   "outputs": [
    {
     "name": "stdout",
     "output_type": "stream",
     "text": [
      "The squares length is 5.0\n",
      "Wind angles are : [332, 395, 268, 392, 262, 335]\n",
      "Wind speeds are : [12, 12, 10, 11, 11, 11]\n",
      "We open the sails : [False, False, False, False, False, False]\n",
      "Boat speeds are : [15, 15, 15, 15, 15, 15]\n",
      "The emissions for each square are: [16.0, 16.0, 16.0, 16.0, 16.0, 16.0]\n",
      "The total emissions are: 96.0\n",
      "The time need for each square is: [0.3333333333333333, 0.3333333333333333, 0.3333333333333333, 0.3333333333333333, 0.3333333333333333, 0.3333333333333333]\n",
      "The total time needed is: 1.9999999999999998\n"
     ]
    }
   ],
   "source": [
    "#ARBITRARY CONSTANTS TO CHECK !!!\n",
    "total_distance = 30 #miles\n",
    "x_positions = 6 #nb of squares between A and B\n",
    "eta = 0.001\n",
    "motor_speed = 15 #in mph\n",
    "motor_emission_per_mile = 3.2 #in kgCO2 per mile\n",
    "\n",
    "wind_angle = random_space(360,1,x_positions, seed =12) #in degrees\n",
    "wind_speed = random_space(30,1,x_positions, seed =12) #in mph\n",
    "square_length = total_distance/x_positions\n",
    "\n",
    "#defining the lists to be used\n",
    "list_sail = []\n",
    "list_boat_speed = []\n",
    "list_co2 = []\n",
    "list_time = []\n",
    "\n",
    "#flatten the list of list into a simple list\n",
    "wind_angle = [item for sublist in wind_angle for item in sublist]\n",
    "wind_speed = [item for sublist in wind_speed for item in sublist]\n",
    "\n",
    "for i in range(x_positions):\n",
    "    #evaluating if we open the sails for each position\n",
    "    list_sail.append(open_sail(wind_angle[i],wind_speed[i]))\n",
    "    \n",
    "    #determining the boat speeds depending on whether we use sails on motor   \n",
    "    if list_sail[i]==True:\n",
    "        list_boat_speed.append(boat_speed(wind_angle[i],wind_speed[i],eta))\n",
    "        \n",
    "    else:\n",
    "        list_boat_speed.append(motor_speed)\n",
    "        \n",
    "    #CO2 emissions calculations    \n",
    "    if list_sail[i]==True:\n",
    "        list_co2.append(0)\n",
    "        \n",
    "    else:\n",
    "        list_co2.append(motor_emission_per_mile*square_length)\n",
    "        \n",
    "    #determining the time needed for the journey    \n",
    "    list_time.append(square_length/list_boat_speed[i])\n",
    "        \n",
    "        \n",
    "total_emissions = sum(list_co2)     \n",
    "total_time = sum(list_time)         \n",
    "    \n",
    "#printing results\n",
    "print(\"The squares length is\", square_length)\n",
    "print(\"Wind angles are :\", wind_angle)\n",
    "print(\"Wind speeds are :\", wind_speed)\n",
    "print(\"We open the sails :\", list_sail)\n",
    "print(\"Boat speeds are :\", list_boat_speed)\n",
    "print(\"The emissions for each square are:\", list_co2)\n",
    "print(\"The total emissions are:\", total_emissions)\n",
    "print(\"The time need for each square is:\", list_time)\n",
    "print(\"The total time needed is:\", total_time)"
   ]
  },
  {
   "cell_type": "markdown",
   "id": "9b9219b0",
   "metadata": {},
   "source": [
    "# Problem in 2 dimension"
   ]
  },
  {
   "cell_type": "code",
   "execution_count": 169,
   "id": "7c2bc4d6",
   "metadata": {},
   "outputs": [
    {
     "data": {
      "text/plain": [
       "[[15, 42.100653176140995, 15, 42.174311017157926, 15, 15, 15, 15],\n",
       " [15, 28.319058761513368, 15, 31.197733463575737, 15, 15, 15, 15],\n",
       " [15, 27.875479109241823, 15, 25.923195293178775, 15, 15, 15, 15]]"
      ]
     },
     "execution_count": 169,
     "metadata": {},
     "output_type": "execute_result"
    }
   ],
   "source": [
    "#ARBITRARY CONSTANTS TO CHECK !!!\n",
    "total_distance = 60 #miles\n",
    "x_positions = 8 #nb of squares between A and B\n",
    "y_positions = 3\n",
    "eta = 0.001\n",
    "motor_speed = 15 #in mph\n",
    "motor_emission_per_mile = 3.2 #in kgCO2 per mile\n",
    "\n",
    "wind_angle_matrix = random_space(360, x_positions, y_positions, seed =12) #in degrees\n",
    "wind_speed_matrix = random_space(30, x_positions, y_positions, seed =12) #in mph\n",
    "\n",
    "\n",
    "def single_line(wind_angle, wind_speed, print_=False):\n",
    "    \n",
    "    #defining the lists to be used\n",
    "    list_sail = []\n",
    "    list_boat_speed = []\n",
    "    list_co2 = []\n",
    "    list_time = []\n",
    "    \n",
    "    for i in range(x_positions):\n",
    "        #evaluating if we open the sails for each position\n",
    "        list_sail.append(open_sail(wind_angle[i],wind_speed[i]))\n",
    "\n",
    "        #determining the boat speeds depending on whether we use sails on motor   \n",
    "        if list_sail[i]==True:\n",
    "            list_boat_speed.append(boat_speed(wind_angle[i],wind_speed[i],eta))\n",
    "\n",
    "        else:\n",
    "            list_boat_speed.append(motor_speed)\n",
    "\n",
    "        #CO2 emissions calculations    \n",
    "        if list_sail[i]==True:\n",
    "            list_co2.append(0)\n",
    "\n",
    "        else:\n",
    "            list_co2.append(motor_emission_per_mile*square_length)\n",
    "\n",
    "        #determining the time needed for the journey    \n",
    "        list_time.append(square_length/list_boat_speed[i])    \n",
    "\n",
    "    #printing results\n",
    "    if print_:\n",
    "        print(\"Wind angles are :\", wind_angle)\n",
    "        print(\"Wind speeds are :\", wind_speed)\n",
    "        print(\"We open the sails :\", list_sail)\n",
    "        print(\"Boat speeds are :\", list_boat_speed)\n",
    "    return (wind_angle,wind_speed, list_sail,list_boat_speed, list_co2)\n",
    "\n",
    "path = np.zeros((y_positions, x_positions), int)\n",
    "result_wind_angle = []\n",
    "result_wind_speed = []\n",
    "result_sail = []\n",
    "result_boat_speed = []\n",
    "result_co2 = []\n",
    "\n",
    "for y in range(y_positions):\n",
    "    results = single_line(wind_angle_matrix[y], wind_speed_matrix[y])\n",
    "    result_wind_angle.append(results[0])\n",
    "    result_wind_speed.append(results[1])\n",
    "    result_sail.append(results[2])\n",
    "    result_boat_speed.append(results[3])\n",
    "    result_co2.append(results[4])\n",
    "    \n",
    "result_boat_speed"
   ]
  },
  {
   "cell_type": "code",
   "execution_count": 173,
   "id": "f1564d80",
   "metadata": {},
   "outputs": [],
   "source": [
    "solver = pywraplp.Solver.CreateSolver('CLP')\n",
    "\n",
    "x = {}\n",
    "for i in range(y_positions):\n",
    "    for j in range(x_positions):\n",
    "        x[i, j] = solver.IntVar(0, 1, '')\n",
    "        \n",
    "# Constraints\n",
    "\n",
    "# for each x_position, we need the boat to pass by there\n",
    "for j in range(x_positions):\n",
    "    solver.Add(solver.Sum([x[i, j] for i in range(y_positions)]) == 1)\n",
    "\n",
    "# you can only move either the square in front of you either in the two closest diagonals    \n",
    "for j in range(1, x_positions):\n",
    "    solver.Add(solver.Sum([x[i+1,j-1] + x[i,j-1] + x[i-1, j-1] for i in range(1,y_positions-1)]) == 1)\n",
    "    solver.Add((x[0,j-1] + x[1,j-1]) == 1)\n",
    "    solver.Add((x[y_positions-2,j-1] + x[y_positions-1,j-1]) == 1)\n",
    "\n",
    "middle_point = y_positions // 2    \n",
    "#choose a specific starting point (i)\n",
    "solver.Add(x[middle_point,0] == 1)\n",
    "#chose a specific ending point (i)\n",
    "solver.Add(x[middle_point,x_positions-1] == 1)\n",
    "\n",
    "solver.Minimize(solver.Sum([result_co2[i][j] * x[i,j] for i in range(y_positions)\n",
    "                                                  for j in range(x_positions)]))\n",
    "status = solver.Solve()"
   ]
  },
  {
   "cell_type": "code",
   "execution_count": 174,
   "id": "5e345e3a",
   "metadata": {},
   "outputs": [
    {
     "name": "stdout",
     "output_type": "stream",
     "text": [
      "Total co2 =  96.0 \n",
      "\n",
      "x_position 0 took y_position 1.  CO2 = 16\n",
      "x_position 1 took y_position 1.  CO2 = 0\n",
      "x_position 2 took y_position 1.  CO2 = 16\n",
      "x_position 3 took y_position 1.  CO2 = 0\n",
      "x_position 4 took y_position 1.  CO2 = 16\n",
      "x_position 5 took y_position 1.  CO2 = 16\n",
      "x_position 6 took y_position 1.  CO2 = 16\n",
      "x_position 7 took y_position 0.  CO2 = 16\n"
     ]
    }
   ],
   "source": [
    "# Print solution.\n",
    "if status == pywraplp.Solver.OPTIMAL:\n",
    "    print('Total co2 = ', solver.Objective().Value(), '\\n')\n",
    "    for j in range(x_positions):\n",
    "        for i in range(y_positions):\n",
    "            # Test if x[i,j] is 1 (with tolerance for floating point arithmetic).\n",
    "            if x[i, j].solution_value() > 0.5:\n",
    "                print('x_position %d took y_position %d.  CO2 = %d' %\n",
    "                      (j, i, result_co2[i][j]))"
   ]
  },
  {
   "cell_type": "code",
   "execution_count": 175,
   "id": "9a863937",
   "metadata": {},
   "outputs": [
    {
     "name": "stdout",
     "output_type": "stream",
     "text": [
      "+---+---+---+---+---+---+---+---+\n",
      "|   |   |   |   |   |   |   | # |\n",
      "+---+---+---+---+---+---+---+---+\n",
      "| # | # | # | # | # | # | # |   |\n",
      "+---+---+---+---+---+---+---+---+\n",
      "|   |   |   |   |   |   |   |   |\n",
      "+---+---+---+---+---+---+---+---+\n"
     ]
    }
   ],
   "source": [
    "for j in range(x_positions):\n",
    "        for i in range(y_positions):\n",
    "            # Test if x[i,j] is 1 (with tolerance for floating point arithmetic).\n",
    "            path[i,j] = (x[i,j].solution_value())\n",
    "\n",
    "def show_table(path):\n",
    "    results = path.tolist()          \n",
    "    for i in range(len(results)):\n",
    "        for j in range(len(results[i])):\n",
    "            if results[i][j] == 1:\n",
    "                results[i][j] = \"#\"\n",
    "            elif results[i][j] == 0:\n",
    "                results[i][j] = \"\"\n",
    "    print(tabulate(list(map(tuple, results)), tablefmt=\"grid\", stralign=\"center\"))\n",
    "\n",
    "show_table(path)"
   ]
  },
  {
   "cell_type": "markdown",
   "id": "e12067a3",
   "metadata": {},
   "source": [
    "# Creating measures of the field to calculate distance and velocity"
   ]
  },
  {
   "cell_type": "code",
   "execution_count": 178,
   "id": "201f4452",
   "metadata": {},
   "outputs": [],
   "source": [
    "tot_y_distance = 18 #miles\n",
    "tot_x_distance = total_distance #miles\n",
    "y_square = tot_y_distance/y_positions\n",
    "x_square = tot_x_distance/x_positions"
   ]
  },
  {
   "cell_type": "code",
   "execution_count": 179,
   "id": "e88cc491",
   "metadata": {},
   "outputs": [
    {
     "name": "stdout",
     "output_type": "stream",
     "text": [
      "+-------------+-------------+--------------+--------------+--------------+--------------+--------------+--------------+\n",
      "| (0.0, 0.0)  | (0.0, 7.5)  | (0.0, 15.0)  | (0.0, 22.5)  | (0.0, 30.0)  | (0.0, 37.5)  | (0.0, 45.0)  | (0.0, 52.5)  |\n",
      "+-------------+-------------+--------------+--------------+--------------+--------------+--------------+--------------+\n",
      "| (6.0, 0.0)  | (6.0, 7.5)  | (6.0, 15.0)  | (6.0, 22.5)  | (6.0, 30.0)  | (6.0, 37.5)  | (6.0, 45.0)  | (6.0, 52.5)  |\n",
      "+-------------+-------------+--------------+--------------+--------------+--------------+--------------+--------------+\n",
      "| (12.0, 0.0) | (12.0, 7.5) | (12.0, 15.0) | (12.0, 22.5) | (12.0, 30.0) | (12.0, 37.5) | (12.0, 45.0) | (12.0, 52.5) |\n",
      "+-------------+-------------+--------------+--------------+--------------+--------------+--------------+--------------+\n"
     ]
    }
   ],
   "source": [
    "coordinates_field = [[(y_square*i,x_square*j) for j in range(x_positions)] for i in range(y_positions)]\n",
    "print(tabulate(coordinates_field, tablefmt=\"grid\", stralign=\"center\"))"
   ]
  },
  {
   "cell_type": "code",
   "execution_count": 180,
   "id": "151d61ed",
   "metadata": {},
   "outputs": [
    {
     "data": {
      "text/plain": [
       "9.604686356149273"
      ]
     },
     "execution_count": 180,
     "metadata": {},
     "output_type": "execute_result"
    }
   ],
   "source": [
    "# we start from (10,0)\n",
    "start_point = coordinates_field[1][0]\n",
    "# we go straight\n",
    "straight_point = coordinates_field[1][1]\n",
    "# we go diagonally\n",
    "diagonal_point = coordinates_field[0][1]\n",
    "\n",
    "def get_distance(starting_point, end_point):\n",
    "    return math.sqrt((end_point[0]-starting_point[0])**2 + (end_point[1]-starting_point[1])**2)\n",
    "\n",
    "get_distance(start_point, diagonal_point)"
   ]
  },
  {
   "cell_type": "code",
   "execution_count": 181,
   "id": "1790b0a8",
   "metadata": {},
   "outputs": [
    {
     "data": {
      "text/plain": [
       "[7.5, 7.5, 7.5, 7.5, 7.5, 7.5, 9.604686356149273]"
      ]
     },
     "execution_count": 181,
     "metadata": {},
     "output_type": "execute_result"
    }
   ],
   "source": [
    "def get_path_distance(path, coordinates_field):\n",
    "    passed_by = []\n",
    "    for j in range(x_positions):\n",
    "        for i in range(y_positions):\n",
    "            if path[i][j] == 1:\n",
    "                passed_by.append(coordinates_field[i][j])\n",
    "\n",
    "    total_distances = []            \n",
    "    for way in range(len(passed_by)-1):\n",
    "        total_distances.append(get_distance(passed_by[way], passed_by[way+1]))\n",
    "    return total_distances\n",
    "\n",
    "get_path_distance(path, coordinates_field)"
   ]
  },
  {
   "cell_type": "code",
   "execution_count": 185,
   "id": "f6cbbd43",
   "metadata": {},
   "outputs": [
    {
     "data": {
      "text/plain": [
       "array([[0, 0, 0, 0, 0, 0, 0, 1],\n",
       "       [1, 1, 1, 1, 1, 1, 1, 0],\n",
       "       [0, 0, 0, 0, 0, 0, 0, 0]])"
      ]
     },
     "execution_count": 185,
     "metadata": {},
     "output_type": "execute_result"
    }
   ],
   "source": [
    "path"
   ]
  },
  {
   "cell_type": "markdown",
   "id": "deb4878e",
   "metadata": {},
   "source": [
    "# Experiment"
   ]
  },
  {
   "cell_type": "code",
   "execution_count": 110,
   "id": "3f58815e",
   "metadata": {},
   "outputs": [],
   "source": [
    "#ARBITRARY CONSTANTS TO CHECK !!!\n",
    "tot_y_distance = 60 #miles\n",
    "tot_x_distance = total_distance\n",
    "x_positions = 8 #nb of squares between A and B\n",
    "y_positions = 3\n",
    "eta = 0.001\n",
    "motor_speed = 15 #in mph\n",
    "motor_emission_per_mile = 3.2 #in kgCO2 per mile\n",
    "\n",
    "wind_angle_matrix = random_space(360, x_positions, y_positions, seed =12) #in degrees\n",
    "wind_speed_matrix = random_space(30, x_positions, y_positions, seed =12) #in mph\n",
    "\n",
    "\n",
    "def single_line(wind_angle, wind_speed, print_=False):\n",
    "    \n",
    "    #defining the lists to be used\n",
    "    list_sail = []\n",
    "    list_boat_speed = []\n",
    "    list_co2 = []\n",
    "    list_time = []\n",
    "    \n",
    "    for i in range(x_positions):\n",
    "        #evaluating if we open the sails for each position\n",
    "        list_sail.append(open_sail(wind_angle[i],wind_speed[i]))\n",
    "\n",
    "        #determining the boat speeds depending on whether we use sails on motor   \n",
    "        if list_sail[i]==True:\n",
    "            list_boat_speed.append(boat_speed(wind_angle[i],wind_speed[i],eta))\n",
    "\n",
    "        else:\n",
    "            list_boat_speed.append(motor_speed)\n",
    "\n",
    "        #CO2 emissions calculations    \n",
    "        if list_sail[i]==True:\n",
    "            list_co2.append(0)\n",
    "\n",
    "        else:\n",
    "            list_co2.append(motor_emission_per_mile*square_length)\n",
    "\n",
    "        #determining the time needed for the journey    \n",
    "        list_time.append(square_length/list_boat_speed[i])    \n",
    "\n",
    "    #printing results\n",
    "    if print_:\n",
    "        print(\"Wind angles are :\", wind_angle)\n",
    "        print(\"Wind speeds are :\", wind_speed)\n",
    "        print(\"We open the sails :\", list_sail)\n",
    "        print(\"Boat speeds are :\", list_boat_speed)\n",
    "    return (wind_angle,wind_speed, list_sail,list_boat_speed, list_co2)\n",
    "\n",
    "path = np.zeros((y_positions, x_positions), int)\n",
    "result_wind_angle = []\n",
    "result_wind_speed = []\n",
    "result_sail = []\n",
    "result_boat_speed = []\n",
    "result_co2 = []\n",
    "\n",
    "for y in range(y_positions):\n",
    "    results = single_line(wind_angle_matrix[y], wind_speed_matrix[y])\n",
    "    result_wind_angle.append(results[0])\n",
    "    result_wind_speed.append(results[1])\n",
    "    result_sail.append(results[2])\n",
    "    result_boat_speed.append(results[3])\n",
    "    result_co2.append(results[4])\n",
    "    \n",
    "get_sail_integer = np.vectorize(int)\n",
    "sail_integer = get_sail_integer(result_sail)\n",
    "\n",
    "get_motor = np.vectorize(np.logical_not)\n",
    "motor_integer = get_sail_integer(get_motor(result_sail))"
   ]
  },
  {
   "cell_type": "code",
   "execution_count": 186,
   "id": "809aadda",
   "metadata": {},
   "outputs": [
    {
     "data": {
      "text/plain": [
       "array([[0, 1, 0, 1, 0, 0, 0, 0],\n",
       "       [0, 1, 0, 1, 0, 0, 0, 0],\n",
       "       [0, 1, 0, 1, 0, 0, 0, 0]])"
      ]
     },
     "execution_count": 186,
     "metadata": {},
     "output_type": "execute_result"
    }
   ],
   "source": [
    "sail_integer"
   ]
  },
  {
   "cell_type": "code",
   "execution_count": 187,
   "id": "f89b44d2",
   "metadata": {},
   "outputs": [
    {
     "data": {
      "text/plain": [
       "array([[1, 0, 1, 0, 1, 1, 1, 1],\n",
       "       [1, 0, 1, 0, 1, 1, 1, 1],\n",
       "       [1, 0, 1, 0, 1, 1, 1, 1]])"
      ]
     },
     "execution_count": 187,
     "metadata": {},
     "output_type": "execute_result"
    }
   ],
   "source": [
    "motor_integer"
   ]
  },
  {
   "cell_type": "code",
   "execution_count": 113,
   "id": "3ad04f8d",
   "metadata": {},
   "outputs": [],
   "source": [
    "fixed = {\"speed\":result_boat_speed, \"sail\":sail_integer, \"motor\":motor_integer}\n",
    "tot_y_distance = 60 #miles\n",
    "tot_x_distance = total_distance #miles\n",
    "y_square = tot_y_distance/y_positions\n",
    "x_square = tot_x_distance/x_positions\n",
    "coordinates_field = [[(y_square*i,x_square*j) for j in range(x_positions)] for i in range(y_positions)]\n",
    "# print(tabulate(coordinates_field, tablefmt=\"grid\", stralign=\"center\"))\n"
   ]
  },
  {
   "cell_type": "code",
   "execution_count": 188,
   "id": "b41b36f7",
   "metadata": {},
   "outputs": [],
   "source": [
    "solver = pywraplp.Solver.CreateSolver('CLP')\n",
    "\n",
    "x = {}\n",
    "for i in range(y_positions):\n",
    "    for j in range(x_positions):\n",
    "        x[i, j] = solver.IntVar(0, 1, '')\n",
    "        \n",
    "# Constraints\n",
    "\n",
    "# for each x_position, we need the boat to pass by there\n",
    "for j in range(x_positions):\n",
    "    solver.Add(solver.Sum([x[i, j] for i in range(y_positions)]) == 1)\n",
    "\n",
    "# you can only move either the square in front of you either in the two closest diagonals    \n",
    "for j in range(1, x_positions):\n",
    "    solver.Add(solver.Sum([x[i+1,j-1] + x[i,j-1] + x[i-1, j-1] for i in range(1,y_positions-1)]) == 1)\n",
    "    solver.Add((x[0,j-1] + x[1,j-1]) == 1)\n",
    "    solver.Add((x[y_positions-2,j-1] + x[y_positions-1,j-1]) == 1)\n",
    "\n",
    "middle_point = y_positions // 2    \n",
    "#choose a specific starting point (i)\n",
    "solver.Add(x[middle_point,0] == 1)\n",
    "#chose a specific ending point (i)\n",
    "solver.Add(x[middle_point,x_positions-1] == 1)\n",
    "\n",
    "def get_distance(starting_point, end_point):\n",
    "    return math.sqrt((end_point[0]-starting_point[0])**2 + (end_point[1]-starting_point[1])**2)\n",
    "\n",
    "solver.Minimize(solver.Sum([     * x[i,j] * motor_integer[i][j] * motor_emission_per_mile for i in range(y_positions)\n",
    "                                                  for j in range(1,x_positions)]))\n",
    "status = solver.Solve()"
   ]
  },
  {
   "cell_type": "code",
   "execution_count": 189,
   "id": "1aedeae8",
   "metadata": {},
   "outputs": [
    {
     "name": "stdout",
     "output_type": "stream",
     "text": [
      "Total co2 =  120.0 \n",
      "\n",
      "x_position 1 took y_position 1.  CO2 = 0\n",
      "x_position 2 took y_position 1.  CO2 = 24\n",
      "x_position 3 took y_position 1.  CO2 = 0\n",
      "x_position 4 took y_position 1.  CO2 = 24\n",
      "x_position 5 took y_position 1.  CO2 = 24\n",
      "x_position 6 took y_position 1.  CO2 = 24\n",
      "x_position 7 took y_position 1.  CO2 = 24\n"
     ]
    }
   ],
   "source": [
    "# Print solution.\n",
    "if status == pywraplp.Solver.OPTIMAL:\n",
    "    print('Total co2 = ', solver.Objective().Value(), '\\n')\n",
    "    for j in range(1,x_positions):\n",
    "        for i in range(y_positions):\n",
    "            # Test if x[i,j] is 1 (with tolerance for floating point arithmetic).\n",
    "            if x[i, j].solution_value() > 0.5:\n",
    "                print('x_position %d took y_position %d.  CO2 = %d' %\n",
    "                      (j, i, get_distance(coordinates_field[i][j],coordinates_field[i][j-1])*x[i,j].solution_value() * motor_emission_per_mile * motor_integer[i][j]))"
   ]
  },
  {
   "cell_type": "code",
   "execution_count": null,
   "id": "218b3298",
   "metadata": {},
   "outputs": [],
   "source": []
  }
 ],
 "metadata": {
  "kernelspec": {
   "display_name": "Python 3 (ipykernel)",
   "language": "python",
   "name": "python3"
  },
  "language_info": {
   "codemirror_mode": {
    "name": "ipython",
    "version": 3
   },
   "file_extension": ".py",
   "mimetype": "text/x-python",
   "name": "python",
   "nbconvert_exporter": "python",
   "pygments_lexer": "ipython3",
   "version": "3.9.7"
  }
 },
 "nbformat": 4,
 "nbformat_minor": 5
}
