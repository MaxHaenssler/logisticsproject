{
 "cells": [
  {
   "cell_type": "markdown",
   "id": "046f3a31",
   "metadata": {},
   "source": [
    "# Vessel Route Optimization"
   ]
  },
  {
   "cell_type": "code",
   "execution_count": 1,
   "id": "4967c137",
   "metadata": {},
   "outputs": [],
   "source": [
    "import math\n",
    "import numpy as np\n",
    "from numpy import random\n",
    "from scipy.optimize import fsolve\n",
    "import ortools\n",
    "from tabulate import tabulate\n",
    "from ortools.linear_solver import pywraplp"
   ]
  },
  {
   "cell_type": "markdown",
   "id": "8cb722ab",
   "metadata": {},
   "source": [
    "## Semi-random vectors generation"
   ]
  },
  {
   "cell_type": "code",
   "execution_count": 2,
   "id": "6fe669da",
   "metadata": {},
   "outputs": [
    {
     "name": "stdout",
     "output_type": "stream",
     "text": [
      "Wind direction (degrees): [323, 268, 286, 327, 321, 259, 235, 302, 335, 248]\n",
      "Wind speed (m/s): [26, 0, 14, 5, 0, 12, 0, 25, 3, 1]\n"
     ]
    }
   ],
   "source": [
    "wind_degrees = []\n",
    "x_positions = 10\n",
    "max_change = 0.3\n",
    "#random.seed(1234)\n",
    "\n",
    "for day in range(x_positions):\n",
    "    if day == 0:\n",
    "        wind_degrees.append(random.randint(0,360))\n",
    "    else:\n",
    "        last_day = wind_degrees[day-1]\n",
    "        wind_degrees.append(random.randint(last_day*(1-max_change),last_day*(1+max_change)))\n",
    "        \n",
    "wind_speed = list(random.randint(0,28,(1,x_positions)).flatten())\n",
    "\n",
    "print(\"Wind direction (degrees):\", wind_degrees)\n",
    "print(\"Wind speed (m/s):\", wind_speed)"
   ]
  },
  {
   "cell_type": "markdown",
   "id": "9729dca9",
   "metadata": {},
   "source": [
    "## Multiple array problem"
   ]
  },
  {
   "cell_type": "code",
   "execution_count": 3,
   "id": "7b209d05",
   "metadata": {},
   "outputs": [
    {
     "name": "stdout",
     "output_type": "stream",
     "text": [
      "Wind direction (degrees): [[347, 22, 6, 358, 64], [385, 17, 6, 322, 53], [286, 20, 5, 287, 69]]\n",
      "Wind speed (m/s): [[5, 8, 9, 18, 24], [4, 5, 8, 21, 25], [4, 6, 6, 17, 18]]\n"
     ]
    }
   ],
   "source": [
    "def random_space(max_value, x_positions=5, y_positions=1, day_max_change=0.3, position_max_change=0.2, seed=None):    \n",
    "    random.seed(seed)\n",
    "    degrees_matrix = []\n",
    "    wind_degrees = []\n",
    "    \n",
    "    for day in range(x_positions):\n",
    "        wind_degrees.append(random.randint(1,max_value))\n",
    "    degrees_matrix.append(wind_degrees) \n",
    "\n",
    "    for position in range(0,y_positions-1):\n",
    "        position_degree = []\n",
    "        for day in range(x_positions):\n",
    "            same_day_other_position = abs(degrees_matrix[position-1][day])  \n",
    "            if same_day_other_position != 0:\n",
    "                position_degree.append(random.randint(same_day_other_position*(1-position_max_change),same_day_other_position*(1+position_max_change)))\n",
    "            else: \n",
    "                position_degree.append(random.randint(1,max_value))\n",
    "        degrees_matrix.append(position_degree)\n",
    "    \n",
    "    return degrees_matrix\n",
    "\n",
    "x_positions = 5\n",
    "y_positions = 3\n",
    "day_max_change = 0.3\n",
    "position_max_change = 0.3\n",
    "seed = 126\n",
    "\n",
    "wind_direction = random_space(360, x_positions, y_positions, day_max_change, position_max_change)\n",
    "wind_speed = random_space(27, x_positions, y_positions, day_max_change, position_max_change)\n",
    "\n",
    "print(\"Wind direction (degrees):\", wind_direction)\n",
    "print(\"Wind speed (m/s):\", wind_speed)"
   ]
  },
  {
   "cell_type": "markdown",
   "id": "b665f475",
   "metadata": {},
   "source": [
    "# Open_sail function"
   ]
  },
  {
   "cell_type": "code",
   "execution_count": 4,
   "id": "5cebd975",
   "metadata": {},
   "outputs": [
    {
     "name": "stdout",
     "output_type": "stream",
     "text": [
      "We open the sail :  True\n"
     ]
    }
   ],
   "source": [
    "#CONSTANTS TO BE DETERMINED\n",
    "min_wind_angle = 60 \n",
    "max_wind_angle = 300 \n",
    "min_wind_strength = 10\n",
    "\n",
    "def open_sail(wind_angle, wind_strength):\n",
    "    open_sail_bool = False \n",
    "    \n",
    "    if wind_angle > min_wind_angle and wind_angle < max_wind_angle and wind_strength > min_wind_strength :\n",
    "        open_sail_bool = True\n",
    "        \n",
    "    #EXCLUDING CRIETRIA FOR THE BOAT_SPEED FUNCTION NOT TO EXPLODE\n",
    "    if wind_angle > 80 and wind_angle < 120 : open_sail_bool = False\n",
    "    if wind_angle > 260 and wind_angle < 300 : open_sail_bool = False\n",
    "\n",
    "\n",
    "    return open_sail_bool\n",
    "\n",
    "\n",
    "print(\"We open the sail : \", open_sail(80,40))"
   ]
  },
  {
   "cell_type": "markdown",
   "id": "d2126e98",
   "metadata": {},
   "source": [
    "# Apparent wind function for boat speed"
   ]
  },
  {
   "cell_type": "code",
   "execution_count": 5,
   "id": "de53a428",
   "metadata": {},
   "outputs": [],
   "source": [
    "# 0<a0<180\n",
    "\n",
    "def boat_speed(a0,VW,eta):\n",
    "\n",
    "    f = lambda a: math.sin(math.pi*a0/180) * math.sin(math.pi*a/180) * math.pow((math.sin(math.pi*a/180/2) / math.sin(math.pi*a0/180-math.pi*a/180)), 2)-VW * eta\n",
    "    a = fsolve(f, [0])[0]\n",
    "    #print(\"a:\", a)\n",
    "    VB = VW * (math.sin(math.pi*(a0-a)/180)/math.sin(math.pi*a/180))\n",
    "    #print(\"a0:\",a0,\"and VB:\", VB)\n",
    "    \n",
    "    return VB"
   ]
  },
  {
   "cell_type": "markdown",
   "id": "f84ab242",
   "metadata": {},
   "source": [
    "# Problem in 1 dimension, simplest problem"
   ]
  },
  {
   "cell_type": "code",
   "execution_count": 6,
   "id": "911f6533",
   "metadata": {},
   "outputs": [
    {
     "name": "stdout",
     "output_type": "stream",
     "text": [
      "The squares length is 5.0\n",
      "Wind angles are : [108, 112, 126, 96, 140, 83]\n",
      "Wind speeds are : [26, 25, 22, 20, 19, 16]\n",
      "We open the sails : [False, False, True, False, True, False]\n",
      "Boat speeds are : [22, 22, 5.208156073174721, 22, 5.005278631463802, 22]\n",
      "The emissions for each square are: [16.0, 16.0, 0, 16.0, 0, 16.0]\n",
      "The total emissions are: 64.0\n",
      "The time need for each square is: [0.22727272727272727, 0.22727272727272727, 0.9600326737044507, 0.22727272727272727, 0.9989453870898176, 0.22727272727272727]\n",
      "The total time needed is: 2.868068969885177\n"
     ]
    }
   ],
   "source": [
    "#ARBITRARY CONSTANTS TO CHECK !!!\n",
    "total_distance = 30 #miles\n",
    "x_positions = 6 #nb of squares between A and B\n",
    "eta = 0.5\n",
    "motor_speed = 22 #in mph\n",
    "motor_emission_per_mile = 3.2 #in kgCO2 per mile\n",
    "\n",
    "wind_angle = random_space(360,1,x_positions) #in degrees\n",
    "wind_speed = random_space(30,1,x_positions) #in mph\n",
    "square_length = total_distance/x_positions\n",
    "\n",
    "#defining the lists to be used\n",
    "list_sail = []\n",
    "list_boat_speed = []\n",
    "list_co2 = []\n",
    "list_time = []\n",
    "\n",
    "#flatten the list of list into a simple list\n",
    "wind_angle = [item for sublist in wind_angle for item in sublist]\n",
    "wind_speed = [item for sublist in wind_speed for item in sublist]\n",
    "\n",
    "#evaluating if we open the sails for each position\n",
    "for i in range(x_positions):\n",
    "    list_sail.append(open_sail(wind_angle[i],wind_speed[i]))\n",
    "    \n",
    "#determining the boat speeds depending on whether we use sails on motor   \n",
    "for i in range(x_positions):\n",
    "    if list_sail[i]==True:\n",
    "        list_boat_speed.append(boat_speed(wind_angle[i],wind_speed[i],eta))\n",
    "        \n",
    "    else:\n",
    "        list_boat_speed.append(motor_speed)\n",
    "        \n",
    "#CO2 emissions calculations\n",
    "for i in range(x_positions):\n",
    "    if list_sail[i]==True:\n",
    "        list_co2.append(0)\n",
    "        \n",
    "    else:\n",
    "        list_co2.append(motor_emission_per_mile*square_length)\n",
    "        \n",
    "total_emissions = sum(list_co2)\n",
    "        \n",
    "#determining the time needed for the journey\n",
    "for i in range(x_positions):\n",
    "    list_time.append(square_length/list_boat_speed[i])\n",
    "        \n",
    "total_time = sum(list_time)        \n",
    "        \n",
    "    \n",
    "    \n",
    "#printing results\n",
    "print(\"The squares length is\", square_length)\n",
    "print(\"Wind angles are :\", wind_angle)\n",
    "print(\"Wind speeds are :\", wind_speed)\n",
    "print(\"We open the sails :\", list_sail)\n",
    "print(\"Boat speeds are :\", list_boat_speed)\n",
    "print(\"The emissions for each square are:\", list_co2)\n",
    "print(\"The total emissions are:\", total_emissions)\n",
    "print(\"The time need for each square is:\", list_time)\n",
    "print(\"The total time needed is:\", total_time)"
   ]
  },
  {
   "cell_type": "markdown",
   "id": "78de2ab6",
   "metadata": {},
   "source": [
    "# Problem 1 consistent"
   ]
  },
  {
   "cell_type": "code",
   "execution_count": 7,
   "id": "e79704ab",
   "metadata": {},
   "outputs": [
    {
     "name": "stdout",
     "output_type": "stream",
     "text": [
      "The squares length is 5.0\n",
      "Wind angles are : [332, 395, 268, 392, 262, 335]\n",
      "Wind speeds are : [12, 12, 10, 11, 11, 11]\n",
      "We open the sails : [False, False, False, False, False, False]\n",
      "Boat speeds are : [15, 15, 15, 15, 15, 15]\n",
      "The emissions for each square are: [3755.0, 3755.0, 3755.0, 3755.0, 3755.0, 3755.0]\n",
      "The total emissions are: 22530.0\n",
      "The time need for each square is: [0.3333333333333333, 0.3333333333333333, 0.3333333333333333, 0.3333333333333333, 0.3333333333333333, 0.3333333333333333]\n",
      "The total time needed is: 1.9999999999999998\n"
     ]
    }
   ],
   "source": [
    "#ARBITRARY CONSTANTS TO CHECK !!!\n",
    "total_distance = 30 #miles\n",
    "x_positions = 6 #nb of squares between A and B\n",
    "eta = 0.001\n",
    "motor_speed = 15 #in mph\n",
    "motor_emission_per_mile = 751 #in kgCO2 per mile\n",
    "\n",
    "wind_angle = random_space(360,1,x_positions, seed =12) #in degrees\n",
    "wind_speed = random_space(30,1,x_positions, seed =12) #in mph\n",
    "square_length = total_distance/x_positions\n",
    "\n",
    "#defining the lists to be used\n",
    "list_sail = []\n",
    "list_boat_speed = []\n",
    "list_co2 = []\n",
    "list_time = []\n",
    "\n",
    "#flatten the list of list into a simple list\n",
    "wind_angle = [item for sublist in wind_angle for item in sublist]\n",
    "wind_speed = [item for sublist in wind_speed for item in sublist]\n",
    "\n",
    "for i in range(x_positions):\n",
    "    #evaluating if we open the sails for each position\n",
    "    list_sail.append(open_sail(wind_angle[i],wind_speed[i]))\n",
    "    \n",
    "    #determining the boat speeds depending on whether we use sails on motor   \n",
    "    if list_sail[i]==True:\n",
    "        list_boat_speed.append(boat_speed(wind_angle[i],wind_speed[i],eta))\n",
    "        \n",
    "    else:\n",
    "        list_boat_speed.append(motor_speed)\n",
    "        \n",
    "    #CO2 emissions calculations    \n",
    "    if list_sail[i]==True:\n",
    "        list_co2.append(0)\n",
    "        \n",
    "    else:\n",
    "        list_co2.append(motor_emission_per_mile*square_length)\n",
    "        \n",
    "    #determining the time needed for the journey    \n",
    "    list_time.append(square_length/list_boat_speed[i])\n",
    "        \n",
    "        \n",
    "total_emissions = sum(list_co2)     \n",
    "total_time = sum(list_time)         \n",
    "    \n",
    "#printing results\n",
    "print(\"The squares length is\", square_length)\n",
    "print(\"Wind angles are :\", wind_angle)\n",
    "print(\"Wind speeds are :\", wind_speed)\n",
    "print(\"We open the sails :\", list_sail)\n",
    "print(\"Boat speeds are :\", list_boat_speed)\n",
    "print(\"The emissions for each square are:\", list_co2)\n",
    "print(\"The total emissions are:\", total_emissions)\n",
    "print(\"The time need for each square is:\", list_time)\n",
    "print(\"The total time needed is:\", total_time)"
   ]
  },
  {
   "cell_type": "markdown",
   "id": "9b9219b0",
   "metadata": {},
   "source": [
    "# Problem in 2 dimension"
   ]
  },
  {
   "cell_type": "code",
   "execution_count": 49,
   "id": "7c2bc4d6",
   "metadata": {},
   "outputs": [
    {
     "data": {
      "text/plain": [
       "[[16.0, 0, 16.0, 0, 16.0, 16.0, 16.0, 16.0],\n",
       " [16.0, 0, 16.0, 0, 16.0, 16.0, 16.0, 16.0],\n",
       " [16.0, 0, 16.0, 0, 16.0, 16.0, 16.0, 16.0],\n",
       " [16.0, 0, 16.0, 0, 16.0, 16.0, 16.0, 16.0],\n",
       " [16.0, 0, 16.0, 0, 16.0, 16.0, 16.0, 16.0]]"
      ]
     },
     "execution_count": 49,
     "metadata": {},
     "output_type": "execute_result"
    }
   ],
   "source": [
    "#ARBITRARY CONSTANTS TO CHECK !!!\n",
    "total_distance = 60 #miles\n",
    "x_positions = 8 #nb of squares between A and B\n",
    "y_positions = 5\n",
    "eta = 0.001\n",
    "motor_speed = 15 #in mph\n",
    "motor_emission_per_mile = 3.2 #in kgCO2 per mile\n",
    "\n",
    "wind_angle_matrix = random_space(360, x_positions, y_positions, seed =12) #in degrees\n",
    "wind_speed_matrix = random_space(30, x_positions, y_positions, seed =12) #in mph\n",
    "\n",
    "\n",
    "def single_line(wind_angle, wind_speed, print_=False):\n",
    "    \n",
    "    #defining the lists to be used\n",
    "    list_sail = []\n",
    "    list_boat_speed = []\n",
    "    list_co2 = []\n",
    "    list_time = []\n",
    "    \n",
    "    for i in range(x_positions):\n",
    "        #evaluating if we open the sails for each position\n",
    "        list_sail.append(open_sail(wind_angle[i],wind_speed[i]))\n",
    "\n",
    "        #determining the boat speeds depending on whether we use sails on motor   \n",
    "        if list_sail[i]==True:\n",
    "            list_boat_speed.append(boat_speed(wind_angle[i],wind_speed[i],eta))\n",
    "\n",
    "        else:\n",
    "            list_boat_speed.append(motor_speed)\n",
    "\n",
    "        #CO2 emissions calculations    \n",
    "        if list_sail[i]==True:\n",
    "            list_co2.append(0)\n",
    "\n",
    "        else:\n",
    "            list_co2.append(motor_emission_per_mile*square_length)\n",
    "\n",
    "        #determining the time needed for the journey    \n",
    "        list_time.append(square_length/list_boat_speed[i])    \n",
    "\n",
    "    #printing results\n",
    "    if print_:\n",
    "        print(\"Wind angles are :\", wind_angle)\n",
    "        print(\"Wind speeds are :\", wind_speed)\n",
    "        print(\"We open the sails :\", list_sail)\n",
    "        print(\"Boat speeds are :\", list_boat_speed)\n",
    "    return (wind_angle,wind_speed, list_sail,list_boat_speed, list_co2)\n",
    "\n",
    "path = np.zeros((y_positions, x_positions), int)\n",
    "result_wind_angle = []\n",
    "result_wind_speed = []\n",
    "result_sail = []\n",
    "result_boat_speed = []\n",
    "result_co2 = []\n",
    "\n",
    "for y in range(y_positions):\n",
    "    results = single_line(wind_angle_matrix[y], wind_speed_matrix[y])\n",
    "    result_wind_angle.append(results[0])\n",
    "    result_wind_speed.append(results[1])\n",
    "    result_sail.append(results[2])\n",
    "    result_boat_speed.append(results[3])\n",
    "    result_co2.append(results[4])\n",
    "    \n",
    "result_co2"
   ]
  },
  {
   "cell_type": "raw",
   "id": "73b2ef64",
   "metadata": {},
   "source": []
  },
  {
   "cell_type": "code",
   "execution_count": 46,
   "id": "f1564d80",
   "metadata": {},
   "outputs": [],
   "source": [
    "solver = pywraplp.Solver.CreateSolver('CLP')\n",
    "\n",
    "x = {}\n",
    "for i in range(y_positions):\n",
    "    for j in range(x_positions):\n",
    "        x[i, j] = solver.IntVar(0, 1, '')\n",
    "        \n",
    "#d = {}\n",
    "#for i in range(y_positions):\n",
    "    #for k in range(y_positions):\n",
    "        #d[i, k] = solver.NumVar(0,solver.infinity(),'d')\n",
    "        #d[i, k] = math.sqrt(1+(k-i)**2)\n",
    "        \n",
    "# Constraints\n",
    "\n",
    "# for each x_position, we need the boat to pass by there\n",
    "for j in range(x_positions):\n",
    "    solver.Add(solver.Sum([x[i, j] for i in range(y_positions)]) == 1)        \n",
    "        \n",
    "#for j in range(x_positions-1):\n",
    " #   for i in range(y_positions):\n",
    "  #      for k in range(y_positions):\n",
    "   #         if(x[i, j]==1 and x[k, j+1]==1):\n",
    "    #            solver.Add(abs(k-i)<=1)\n",
    "     #           #solver.Add(math.sqrt(1+(k-i)**2) <= math.sqrt(2))\n",
    "\n",
    "#you can only move either the square in front of you either in the two closest diagonals    \n",
    "for j in range(1, x_positions):\n",
    "    for i in range(1,y_positions-1):\n",
    "        if x[i,j]==1:\n",
    "            solver.Add(solver.Sum([x[i+1,j-1] + x[i,j-1] + x[i-1, j-1]]) == 1) \n",
    "            #solver.Add((x[0,j-1] + x[1,j-1]) == 1)\n",
    "            #solver.Add((x[y_positions-2,j-1] + x[y_positions-1,j-1]) == 1)\n",
    "\n",
    "middle_point = y_positions // 2    \n",
    "#choose a specific starting point (i)\n",
    "solver.Add(x[middle_point,0] == 1)\n",
    "#chose a specific ending point (i)\n",
    "solver.Add(x[middle_point,x_positions-1] == 1)\n",
    "\n",
    "solver.Minimize(solver.Sum([result_co2[i][j] * x[i,j] for i in range(y_positions)\n",
    "                                                  for j in range(x_positions)]))\n",
    "status = solver.Solve()"
   ]
  },
  {
   "cell_type": "code",
   "execution_count": 47,
   "id": "5e345e3a",
   "metadata": {},
   "outputs": [
    {
     "name": "stdout",
     "output_type": "stream",
     "text": [
      "Total co2 =  96.0 \n",
      "\n",
      "x_position 0 took y_position 2.  CO2 = 16\n",
      "x_position 1 took y_position 2.  CO2 = 0\n",
      "x_position 2 took y_position 2.  CO2 = 16\n",
      "x_position 3 took y_position 2.  CO2 = 0\n",
      "x_position 4 took y_position 2.  CO2 = 16\n",
      "x_position 5 took y_position 2.  CO2 = 16\n",
      "x_position 6 took y_position 2.  CO2 = 16\n",
      "x_position 7 took y_position 2.  CO2 = 16\n"
     ]
    }
   ],
   "source": [
    "# Print solution.\n",
    "if status == pywraplp.Solver.OPTIMAL:\n",
    "    print('Total co2 = ', solver.Objective().Value(), '\\n')\n",
    "    for j in range(x_positions):\n",
    "        for i in range(y_positions):\n",
    "            # Test if x[i,j] is 1 (with tolerance for floating point arithmetic).\n",
    "            if x[i, j].solution_value() > 0.5:\n",
    "                print('x_position %d took y_position %d.  CO2 = %d' %\n",
    "                      (j, i, result_co2[i][j]))"
   ]
  },
  {
   "cell_type": "code",
   "execution_count": 48,
   "id": "9a863937",
   "metadata": {},
   "outputs": [
    {
     "name": "stdout",
     "output_type": "stream",
     "text": [
      "+---+---+---+---+---+---+---+---+\n",
      "|   |   |   |   |   |   |   |   |\n",
      "+---+---+---+---+---+---+---+---+\n",
      "|   |   |   |   |   |   |   |   |\n",
      "+---+---+---+---+---+---+---+---+\n",
      "| # | # | # | # | # | # | # | # |\n",
      "+---+---+---+---+---+---+---+---+\n",
      "|   |   |   |   |   |   |   |   |\n",
      "+---+---+---+---+---+---+---+---+\n",
      "|   |   |   |   |   |   |   |   |\n",
      "+---+---+---+---+---+---+---+---+\n"
     ]
    }
   ],
   "source": [
    "for j in range(x_positions):\n",
    "        for i in range(y_positions):\n",
    "            # Test if x[i,j] is 1 (with tolerance for floating point arithmetic).\n",
    "            path[i,j] = (x[i,j].solution_value())\n",
    "\n",
    "def show_table(path):\n",
    "    results = path.tolist()          \n",
    "    for i in range(len(results)):\n",
    "        for j in range(len(results[i])):\n",
    "            if results[i][j] == 1:\n",
    "                results[i][j] = \"#\"\n",
    "            elif results[i][j] == 0:\n",
    "                results[i][j] = \"\"\n",
    "    print(tabulate(list(map(tuple, results)), tablefmt=\"grid\", stralign=\"center\"))\n",
    "\n",
    "show_table(path)"
   ]
  },
  {
   "cell_type": "markdown",
   "id": "e12067a3",
   "metadata": {},
   "source": [
    "# Creating measures of the field to calculate distance and velocity"
   ]
  },
  {
   "cell_type": "code",
   "execution_count": 12,
   "id": "201f4452",
   "metadata": {},
   "outputs": [],
   "source": [
    "tot_y_distance = 18 #miles\n",
    "tot_x_distance = total_distance #miles\n",
    "y_square = tot_y_distance/y_positions\n",
    "x_square = tot_x_distance/x_positions"
   ]
  },
  {
   "cell_type": "code",
   "execution_count": 13,
   "id": "e88cc491",
   "metadata": {},
   "outputs": [
    {
     "name": "stdout",
     "output_type": "stream",
     "text": [
      "+-------------+-------------+--------------+--------------+--------------+--------------+--------------+--------------+\n",
      "| (0.0, 0.0)  | (0.0, 7.5)  | (0.0, 15.0)  | (0.0, 22.5)  | (0.0, 30.0)  | (0.0, 37.5)  | (0.0, 45.0)  | (0.0, 52.5)  |\n",
      "+-------------+-------------+--------------+--------------+--------------+--------------+--------------+--------------+\n",
      "| (3.6, 0.0)  | (3.6, 7.5)  | (3.6, 15.0)  | (3.6, 22.5)  | (3.6, 30.0)  | (3.6, 37.5)  | (3.6, 45.0)  | (3.6, 52.5)  |\n",
      "+-------------+-------------+--------------+--------------+--------------+--------------+--------------+--------------+\n",
      "| (7.2, 0.0)  | (7.2, 7.5)  | (7.2, 15.0)  | (7.2, 22.5)  | (7.2, 30.0)  | (7.2, 37.5)  | (7.2, 45.0)  | (7.2, 52.5)  |\n",
      "+-------------+-------------+--------------+--------------+--------------+--------------+--------------+--------------+\n",
      "| (10.8, 0.0) | (10.8, 7.5) | (10.8, 15.0) | (10.8, 22.5) | (10.8, 30.0) | (10.8, 37.5) | (10.8, 45.0) | (10.8, 52.5) |\n",
      "+-------------+-------------+--------------+--------------+--------------+--------------+--------------+--------------+\n",
      "| (14.4, 0.0) | (14.4, 7.5) | (14.4, 15.0) | (14.4, 22.5) | (14.4, 30.0) | (14.4, 37.5) | (14.4, 45.0) | (14.4, 52.5) |\n",
      "+-------------+-------------+--------------+--------------+--------------+--------------+--------------+--------------+\n"
     ]
    }
   ],
   "source": [
    "coordinates_field = [[(y_square*i,x_square*j) for j in range(x_positions)] for i in range(y_positions)]\n",
    "print(tabulate(coordinates_field, tablefmt=\"grid\", stralign=\"center\"))"
   ]
  },
  {
   "cell_type": "code",
   "execution_count": 14,
   "id": "151d61ed",
   "metadata": {},
   "outputs": [
    {
     "data": {
      "text/plain": [
       "8.31925477431723"
      ]
     },
     "execution_count": 14,
     "metadata": {},
     "output_type": "execute_result"
    }
   ],
   "source": [
    "# we start from (10,0)\n",
    "start_point = coordinates_field[1][0]\n",
    "# we go straight\n",
    "straight_point = coordinates_field[1][1]\n",
    "# we go diagonally\n",
    "diagonal_point = coordinates_field[0][1]\n",
    "\n",
    "def get_distance(starting_point, end_point):\n",
    "    return math.sqrt((end_point[0]-starting_point[0])**2 + (end_point[1]-starting_point[1])**2)\n",
    "\n",
    "get_distance(start_point, diagonal_point)"
   ]
  },
  {
   "cell_type": "code",
   "execution_count": 15,
   "id": "1790b0a8",
   "metadata": {},
   "outputs": [
    {
     "data": {
      "text/plain": [
       "[]"
      ]
     },
     "execution_count": 15,
     "metadata": {},
     "output_type": "execute_result"
    }
   ],
   "source": [
    "def get_path_distance(path, coordinates_field):\n",
    "    passed_by = []\n",
    "    for j in range(x_positions):\n",
    "        for i in range(y_positions):\n",
    "            if path[i][j] == 1:\n",
    "                passed_by.append(coordinates_field[i][j])\n",
    "\n",
    "    total_distances = []            \n",
    "    for way in range(len(passed_by)-1):\n",
    "        total_distances.append(get_distance(passed_by[way], passed_by[way+1]))\n",
    "    return total_distances\n",
    "\n",
    "get_path_distance(path, coordinates_field)"
   ]
  },
  {
   "cell_type": "code",
   "execution_count": 16,
   "id": "f6cbbd43",
   "metadata": {},
   "outputs": [
    {
     "data": {
      "text/plain": [
       "array([[0, 0, 0, 0, 0, 0, 0, 0],\n",
       "       [0, 0, 0, 0, 0, 0, 0, 0],\n",
       "       [0, 0, 0, 0, 0, 0, 0, 0],\n",
       "       [0, 0, 0, 0, 0, 0, 0, 0],\n",
       "       [0, 0, 0, 0, 0, 0, 0, 0]])"
      ]
     },
     "execution_count": 16,
     "metadata": {},
     "output_type": "execute_result"
    }
   ],
   "source": [
    "path"
   ]
  },
  {
   "cell_type": "markdown",
   "id": "deb4878e",
   "metadata": {},
   "source": [
    "# Experiment"
   ]
  },
  {
   "cell_type": "code",
   "execution_count": 17,
   "id": "3f58815e",
   "metadata": {},
   "outputs": [],
   "source": [
    "#ARBITRARY CONSTANTS TO CHECK !!!\n",
    "tot_y_distance = 60 #miles\n",
    "tot_x_distance = total_distance\n",
    "x_positions = 8 #nb of squares between A and B\n",
    "y_positions = 3\n",
    "eta = 0.001\n",
    "motor_speed = 15 #in mph\n",
    "motor_emission_per_mile = 3.2 #in kgCO2 per mile\n",
    "\n",
    "wind_angle_matrix = random_space(360, x_positions, y_positions, seed =12) #in degrees\n",
    "wind_speed_matrix = random_space(30, x_positions, y_positions, seed =12) #in mph\n",
    "\n",
    "\n",
    "def single_line(wind_angle, wind_speed, print_=False):\n",
    "    \n",
    "    #defining the lists to be used\n",
    "    list_sail = []\n",
    "    list_boat_speed = []\n",
    "    list_co2 = []\n",
    "    list_time = []\n",
    "    \n",
    "    for i in range(x_positions):\n",
    "        #evaluating if we open the sails for each position\n",
    "        list_sail.append(open_sail(wind_angle[i],wind_speed[i]))\n",
    "\n",
    "        #determining the boat speeds depending on whether we use sails on motor   \n",
    "        if list_sail[i]==True:\n",
    "            list_boat_speed.append(boat_speed(wind_angle[i],wind_speed[i],eta))\n",
    "\n",
    "        else:\n",
    "            list_boat_speed.append(motor_speed)\n",
    "\n",
    "        #CO2 emissions calculations    \n",
    "        if list_sail[i]==True:\n",
    "            list_co2.append(0)\n",
    "\n",
    "        else:\n",
    "            list_co2.append(motor_emission_per_mile*square_length)\n",
    "\n",
    "        #determining the time needed for the journey    \n",
    "        list_time.append(square_length/list_boat_speed[i])    \n",
    "\n",
    "    #printing results\n",
    "    if print_:\n",
    "        print(\"Wind angles are :\", wind_angle)\n",
    "        print(\"Wind speeds are :\", wind_speed)\n",
    "        print(\"We open the sails :\", list_sail)\n",
    "        print(\"Boat speeds are :\", list_boat_speed)\n",
    "    return (wind_angle,wind_speed, list_sail,list_boat_speed, list_co2)\n",
    "\n",
    "path = np.zeros((y_positions, x_positions), int)\n",
    "result_wind_angle = []\n",
    "result_wind_speed = []\n",
    "result_sail = []\n",
    "result_boat_speed = []\n",
    "result_co2 = []\n",
    "\n",
    "for y in range(y_positions):\n",
    "    results = single_line(wind_angle_matrix[y], wind_speed_matrix[y])\n",
    "    result_wind_angle.append(results[0])\n",
    "    result_wind_speed.append(results[1])\n",
    "    result_sail.append(results[2])\n",
    "    result_boat_speed.append(results[3])\n",
    "    result_co2.append(results[4])\n",
    "    \n",
    "get_sail_integer = np.vectorize(int)\n",
    "sail_integer = get_sail_integer(result_sail)\n",
    "\n",
    "get_motor = np.vectorize(np.logical_not)\n",
    "motor_integer = get_sail_integer(get_motor(result_sail))"
   ]
  },
  {
   "cell_type": "code",
   "execution_count": 18,
   "id": "809aadda",
   "metadata": {},
   "outputs": [
    {
     "data": {
      "text/plain": [
       "array([[0, 1, 0, 1, 0, 0, 0, 0],\n",
       "       [0, 1, 0, 1, 0, 0, 0, 0],\n",
       "       [0, 1, 0, 1, 0, 0, 0, 0]])"
      ]
     },
     "execution_count": 18,
     "metadata": {},
     "output_type": "execute_result"
    }
   ],
   "source": [
    "sail_integer"
   ]
  },
  {
   "cell_type": "code",
   "execution_count": 19,
   "id": "f89b44d2",
   "metadata": {},
   "outputs": [
    {
     "data": {
      "text/plain": [
       "array([[1, 0, 1, 0, 1, 1, 1, 1],\n",
       "       [1, 0, 1, 0, 1, 1, 1, 1],\n",
       "       [1, 0, 1, 0, 1, 1, 1, 1]])"
      ]
     },
     "execution_count": 19,
     "metadata": {},
     "output_type": "execute_result"
    }
   ],
   "source": [
    "motor_integer"
   ]
  },
  {
   "cell_type": "code",
   "execution_count": 20,
   "id": "3ad04f8d",
   "metadata": {},
   "outputs": [],
   "source": [
    "fixed = {\"speed\":result_boat_speed, \"sail\":sail_integer, \"motor\":motor_integer}\n",
    "tot_y_distance = 60 #miles\n",
    "tot_x_distance = total_distance #miles\n",
    "y_square = tot_y_distance/y_positions\n",
    "x_square = tot_x_distance/x_positions\n",
    "coordinates_field = [[(y_square*i,x_square*j) for j in range(x_positions)] for i in range(y_positions)]\n",
    "# print(tabulate(coordinates_field, tablefmt=\"grid\", stralign=\"center\"))\n"
   ]
  },
  {
   "cell_type": "code",
   "execution_count": 21,
   "id": "b41b36f7",
   "metadata": {},
   "outputs": [
    {
     "ename": "SyntaxError",
     "evalue": "iterable unpacking cannot be used in comprehension (1051400171.py, line 29)",
     "output_type": "error",
     "traceback": [
      "\u001b[0;36m  Input \u001b[0;32mIn [21]\u001b[0;36m\u001b[0m\n\u001b[0;31m    solver.Minimize(solver.Sum([     * x[i,j] * motor_integer[i][j] * motor_emission_per_mile for i in range(y_positions)\u001b[0m\n\u001b[0m                                     ^\u001b[0m\n\u001b[0;31mSyntaxError\u001b[0m\u001b[0;31m:\u001b[0m iterable unpacking cannot be used in comprehension\n"
     ]
    }
   ],
   "source": [
    "solver = pywraplp.Solver.CreateSolver('CLP')\n",
    "\n",
    "x = {}\n",
    "for i in range(y_positions):\n",
    "    for j in range(x_positions):\n",
    "        x[i, j] = solver.IntVar(0, 1, '')\n",
    "        \n",
    "# Constraints\n",
    "\n",
    "# for each x_position, we need the boat to pass by there\n",
    "for j in range(x_positions):\n",
    "    solver.Add(solver.Sum([x[i, j] for i in range(y_positions)]) == 1)\n",
    "\n",
    "# you can only move either the square in front of you either in the two closest diagonals    \n",
    "for j in range(1, x_positions):\n",
    "    solver.Add(solver.Sum([x[i+1,j-1] + x[i,j-1] + x[i-1, j-1] for i in range(1,y_positions-1)]) == 1)\n",
    "    solver.Add((x[0,j-1] + x[1,j-1]) == 1)\n",
    "    solver.Add((x[y_positions-2,j-1] + x[y_positions-1,j-1]) == 1)\n",
    "\n",
    "middle_point = y_positions // 2    \n",
    "#choose a specific starting point (i)\n",
    "solver.Add(x[middle_point,0] == 1)\n",
    "#chose a specific ending point (i)\n",
    "solver.Add(x[middle_point,x_positions-1] == 1)\n",
    "\n",
    "def get_distance(starting_point, end_point):\n",
    "    return math.sqrt((end_point[0]-starting_point[0])**2 + (end_point[1]-starting_point[1])**2)\n",
    "\n",
    "solver.Minimize(solver.Sum([     * x[i,j] * motor_integer[i][j] * motor_emission_per_mile for i in range(y_positions)\n",
    "                                                  for j in range(1,x_positions)]))\n",
    "status = solver.Solve()"
   ]
  },
  {
   "cell_type": "code",
   "execution_count": null,
   "id": "1aedeae8",
   "metadata": {},
   "outputs": [],
   "source": [
    "# Print solution.\n",
    "if status == pywraplp.Solver.OPTIMAL:\n",
    "    print('Total co2 = ', solver.Objective().Value(), '\\n')\n",
    "    for j in range(1,x_positions):\n",
    "        for i in range(y_positions):\n",
    "            # Test if x[i,j] is 1 (with tolerance for floating point arithmetic).\n",
    "            if x[i, j].solution_value() > 0.5:\n",
    "                print('x_position %d took y_position %d.  CO2 = %d' %\n",
    "                      (j, i, get_distance(coordinates_field[i][j],coordinates_field[i][j-1])*x[i,j].solution_value() * motor_emission_per_mile * motor_integer[i][j]))"
   ]
  },
  {
   "cell_type": "code",
   "execution_count": null,
   "id": "218b3298",
   "metadata": {},
   "outputs": [],
   "source": []
  }
 ],
 "metadata": {
  "kernelspec": {
   "display_name": "Python 3 (ipykernel)",
   "language": "python",
   "name": "python3"
  },
  "language_info": {
   "codemirror_mode": {
    "name": "ipython",
    "version": 3
   },
   "file_extension": ".py",
   "mimetype": "text/x-python",
   "name": "python",
   "nbconvert_exporter": "python",
   "pygments_lexer": "ipython3",
   "version": "3.9.12"
  }
 },
 "nbformat": 4,
 "nbformat_minor": 5
}
