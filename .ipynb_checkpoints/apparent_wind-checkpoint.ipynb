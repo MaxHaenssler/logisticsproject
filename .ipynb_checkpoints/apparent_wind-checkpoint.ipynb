{
 "cells": [
  {
   "cell_type": "code",
   "execution_count": 1,
   "id": "196eaffe",
   "metadata": {},
   "outputs": [],
   "source": [
    "import math\n",
    "from scipy.optimize import rosen\n",
    "from scipy.optimize import fsolve"
   ]
  },
  {
   "cell_type": "code",
   "execution_count": 3,
   "id": "51d24ff5",
   "metadata": {},
   "outputs": [
    {
     "name": "stdout",
     "output_type": "stream",
     "text": [
      "a: 42.389945697015584\n",
      "VB: 14.4875313272045\n"
     ]
    }
   ],
   "source": [
    "# 0<a0<180\n",
    "a0 = 120\n",
    "VW = 10\n",
    "eta = 0.008\n",
    "\n",
    "\n",
    "f = lambda a: math.sin(math.pi*a0/180) * math.sin(math.pi*a/180) * math.pow((math.sin(math.pi*a/180/2) / math.sin(math.pi*a0/180-math.pi*a/180)), 2)-VW * eta\n",
    "a = fsolve(f, [0])[0]\n",
    "print(\"a:\", a)\n",
    "VB = VW * (math.sin(math.pi*(a0-a)/180)/math.sin(math.pi*a/180))\n",
    "print(\"VB:\", VB)"
   ]
  }
 ],
 "metadata": {
  "kernelspec": {
   "display_name": "Python 3 (ipykernel)",
   "language": "python",
   "name": "python3"
  },
  "language_info": {
   "codemirror_mode": {
    "name": "ipython",
    "version": 3
   },
   "file_extension": ".py",
   "mimetype": "text/x-python",
   "name": "python",
   "nbconvert_exporter": "python",
   "pygments_lexer": "ipython3",
   "version": "3.9.12"
  }
 },
 "nbformat": 4,
 "nbformat_minor": 5
}
