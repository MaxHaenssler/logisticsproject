{
 "cells": [
  {
   "cell_type": "markdown",
   "id": "046f3a31",
   "metadata": {},
   "source": [
    "# Vessel Route Optimization"
   ]
  },
  {
   "cell_type": "code",
   "execution_count": 2,
   "id": "4967c137",
   "metadata": {},
   "outputs": [],
   "source": [
    "import numpy as np\n",
    "from numpy import random"
   ]
  },
  {
   "cell_type": "markdown",
   "id": "8cb722ab",
   "metadata": {},
   "source": [
    "## Semi-random vectors generation"
   ]
  },
  {
   "cell_type": "code",
   "execution_count": 3,
   "id": "6fe669da",
   "metadata": {},
   "outputs": [
    {
     "name": "stdout",
     "output_type": "stream",
     "text": [
      "Wind direction (degrees): [316, 367, 339, 240, 294, 221, 171, 124, 142, 108]\n",
      "Wind speed (m/s): [14, 18, 15, 22, 20, 27, 23, 8, 23, 6]\n"
     ]
    }
   ],
   "source": [
    "wind_degrees = []\n",
    "days = 10\n",
    "max_change = 0.3\n",
    "#random.seed(1234)\n",
    "\n",
    "for day in range(days):\n",
    "    if day == 0:\n",
    "        wind_degrees.append(random.randint(0,360))\n",
    "    else:\n",
    "        last_day = wind_degrees[day-1]\n",
    "        wind_degrees.append(random.randint(last_day*(1-max_change),last_day*(1+max_change)))\n",
    "        \n",
    "wind_speed = list(random.randint(0,28,(1,days)).flatten())\n",
    "\n",
    "print(\"Wind direction (degrees):\", wind_degrees)\n",
    "print(\"Wind speed (m/s):\", wind_speed)"
   ]
  },
  {
   "cell_type": "markdown",
   "id": "9729dca9",
   "metadata": {},
   "source": [
    "## Multiple array problem"
   ]
  },
  {
   "cell_type": "code",
   "execution_count": 7,
   "id": "7b209d05",
   "metadata": {},
   "outputs": [
    {
     "name": "stdout",
     "output_type": "stream",
     "text": [
      "Wind direction (degrees): [[92, 257, 358, 50, 105], [111, 256, 283, 42, 81], [112, 261, 298, 35, 91]]\n",
      "Wind speed (m/s): [[19, 20, 22, 2, 10], [21, 19, 18, 1, 12], [20, 24, 17, 1, 11]]\n"
     ]
    }
   ],
   "source": [
    "def random_space(max_value, days=5, positions=1, day_max_change=0.3, position_max_change=0.2, seed=None):    \n",
    "    random.seed(seed)\n",
    "    degrees_matrix = []\n",
    "    wind_degrees = []\n",
    "    \n",
    "    for day in range(days):\n",
    "        wind_degrees.append(random.randint(1,max_value))\n",
    "    degrees_matrix.append(wind_degrees) \n",
    "\n",
    "    for position in range(0,positions-1):\n",
    "        position_degree = []\n",
    "        for day in range(days):\n",
    "            same_day_other_position = abs(degrees_matrix[position-1][day])  \n",
    "            if same_day_other_position != 0:\n",
    "                position_degree.append(random.randint(same_day_other_position*(1-position_max_change),same_day_other_position*(1+position_max_change)))\n",
    "            else: \n",
    "                position_degree.append(random.randint(1,max_value))\n",
    "        degrees_matrix.append(position_degree)\n",
    "    \n",
    "    return degrees_matrix\n",
    "\n",
    "days = 5\n",
    "positions = 3\n",
    "day_max_change = 0.3\n",
    "position_max_change = 0.3\n",
    "seed = 126\n",
    "\n",
    "print(\"Wind direction (degrees):\", random_space(360, days, positions, day_max_change, position_max_change))\n",
    "print(\"Wind speed (m/s):\", random_space(27, days, positions, day_max_change, position_max_change))"
   ]
  },
  {
   "cell_type": "markdown",
   "id": "a6c727b8",
   "metadata": {},
   "source": []
  },
  {
   "cell_type": "code",
   "execution_count": 14,
   "id": "5cebd975",
   "metadata": {},
   "outputs": [
    {
     "name": "stdout",
     "output_type": "stream",
     "text": [
      "We open the sail :  True\n"
     ]
    }
   ],
   "source": [
    "#CONSTANTS\n",
    "min_wind_angle = 20 \n",
    "max_wind_angle = 160 \n",
    "min_wind_strength = 20\n",
    "\n",
    "def open_sail(wind_angle, wind_strength):\n",
    "    open_sail_bool = False \n",
    "    \n",
    "    if wind_angle > min_wind_angle and wind_angle < max_wind_angle and wind_strength > min_wind_strength :\n",
    "        open_sail_bool = True\n",
    "\n",
    "\n",
    "    return open_sail_bool\n",
    "\n",
    "\n",
    "print(\"We open the sail : \", open_sail(80,40))"
   ]
  },
  {
   "cell_type": "code",
   "execution_count": null,
   "id": "223e08a0",
   "metadata": {},
   "outputs": [],
   "source": []
  }
 ],
 "metadata": {
  "kernelspec": {
   "display_name": "Python 3 (ipykernel)",
   "language": "python",
   "name": "python3"
  },
  "language_info": {
   "codemirror_mode": {
    "name": "ipython",
    "version": 3
   },
   "file_extension": ".py",
   "mimetype": "text/x-python",
   "name": "python",
   "nbconvert_exporter": "python",
   "pygments_lexer": "ipython3",
   "version": "3.9.12"
  }
 },
 "nbformat": 4,
 "nbformat_minor": 5
}
