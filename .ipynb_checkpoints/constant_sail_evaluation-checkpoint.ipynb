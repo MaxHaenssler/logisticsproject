{
 "cells": [
  {
   "cell_type": "markdown",
   "id": "046f3a31",
   "metadata": {},
   "source": [
    "# Vessel Route Optimization"
   ]
  },
  {
   "cell_type": "code",
   "execution_count": 1,
   "id": "4967c137",
   "metadata": {},
   "outputs": [],
   "source": [
    "import math\n",
    "import numpy as np\n",
    "from numpy import random\n",
    "from scipy.optimize import fsolve\n",
    "import ortools\n",
    "from tabulate import tabulate\n",
    "from ortools.linear_solver import pywraplp"
   ]
  },
  {
   "cell_type": "markdown",
   "id": "8cb722ab",
   "metadata": {},
   "source": [
    "## Semi-random vectors generation"
   ]
  },
  {
   "cell_type": "code",
   "execution_count": 2,
   "id": "6fe669da",
   "metadata": {},
   "outputs": [
    {
     "name": "stdout",
     "output_type": "stream",
     "text": [
      "Wind direction (degrees): [296, 306, 357, 452, 414, 531, 598, 736, 545, 522]\n",
      "Wind speed (m/s): [7, 16, 19, 18, 16, 9, 20, 10, 13, 26]\n"
     ]
    }
   ],
   "source": [
    "wind_degrees = []\n",
    "x_positions = 10\n",
    "max_change = 0.3\n",
    "#random.seed(1234)\n",
    "\n",
    "for day in range(x_positions):\n",
    "    if day == 0:\n",
    "        wind_degrees.append(random.randint(0,360))\n",
    "    else:\n",
    "        last_day = wind_degrees[day-1]\n",
    "        wind_degrees.append(random.randint(last_day*(1-max_change),last_day*(1+max_change)))\n",
    "        \n",
    "wind_speed = list(random.randint(0,28,(1,x_positions)).flatten())\n",
    "\n",
    "print(\"Wind direction (degrees):\", wind_degrees)\n",
    "print(\"Wind speed (m/s):\", wind_speed)"
   ]
  },
  {
   "cell_type": "markdown",
   "id": "9729dca9",
   "metadata": {},
   "source": [
    "## Multiple array problem"
   ]
  },
  {
   "cell_type": "code",
   "execution_count": 3,
   "id": "7b209d05",
   "metadata": {},
   "outputs": [
    {
     "name": "stdout",
     "output_type": "stream",
     "text": [
      "Wind direction (degrees): [[70, 93, 82, 178, 51], [80, 93, 100, 228, 43], [86, 90, 82, 200, 37]]\n",
      "Wind speed (m/s): [[15, 9, 13, 23, 4], [14, 8, 9, 17, 3], [15, 7, 15, 18, 4]]\n"
     ]
    }
   ],
   "source": [
    "def random_space(max_value, x_positions=5, y_positions=1, day_max_change=0.3, position_max_change=0.2, seed=None):    \n",
    "    random.seed(seed)\n",
    "    degrees_matrix = []\n",
    "    wind_degrees = []\n",
    "    \n",
    "    for day in range(x_positions):\n",
    "        wind_degrees.append(random.randint(1,max_value))\n",
    "    degrees_matrix.append(wind_degrees) \n",
    "\n",
    "    for position in range(0,y_positions-1):\n",
    "        position_degree = []\n",
    "        for day in range(x_positions):\n",
    "            same_day_other_position = abs(degrees_matrix[position-1][day])  \n",
    "            if same_day_other_position != 0:\n",
    "                position_degree.append(random.randint(same_day_other_position*(1-position_max_change),same_day_other_position*(1+position_max_change)))\n",
    "            else: \n",
    "                position_degree.append(random.randint(1,max_value))\n",
    "        degrees_matrix.append(position_degree)\n",
    "    \n",
    "    return degrees_matrix\n",
    "\n",
    "x_positions = 5\n",
    "y_positions = 3\n",
    "day_max_change = 0.3\n",
    "position_max_change = 0.3\n",
    "seed = 126\n",
    "\n",
    "wind_direction = random_space(360, x_positions, y_positions, day_max_change, position_max_change)\n",
    "wind_speed = random_space(27, x_positions, y_positions, day_max_change, position_max_change)\n",
    "\n",
    "print(\"Wind direction (degrees):\", wind_direction)\n",
    "print(\"Wind speed (m/s):\", wind_speed)"
   ]
  },
  {
   "cell_type": "markdown",
   "id": "b665f475",
   "metadata": {},
   "source": [
    "# Open_sail function"
   ]
  },
  {
   "cell_type": "code",
   "execution_count": 4,
   "id": "5cebd975",
   "metadata": {},
   "outputs": [
    {
     "name": "stdout",
     "output_type": "stream",
     "text": [
      "We open the sail :  True\n"
     ]
    }
   ],
   "source": [
    "#CONSTANTS TO BE DETERMINED\n",
    "min_wind_angle = 60 \n",
    "max_wind_angle = 300 \n",
    "min_wind_strength = 10\n",
    "\n",
    "def open_sail(wind_angle, wind_strength):\n",
    "    open_sail_bool = False \n",
    "    \n",
    "    if wind_angle > min_wind_angle and wind_angle < max_wind_angle and wind_strength > min_wind_strength :\n",
    "        open_sail_bool = True\n",
    "        \n",
    "    #EXCLUDING CRIETRIA FOR THE BOAT_SPEED FUNCTION NOT TO EXPLODE\n",
    "    if wind_angle > 80 and wind_angle < 120 : open_sail_bool = False\n",
    "    if wind_angle > 260 and wind_angle < 300 : open_sail_bool = False\n",
    "\n",
    "\n",
    "    return open_sail_bool\n",
    "\n",
    "\n",
    "print(\"We open the sail : \", open_sail(80,40))"
   ]
  },
  {
   "cell_type": "markdown",
   "id": "d2126e98",
   "metadata": {},
   "source": [
    "# Apparent wind function for boat speed"
   ]
  },
  {
   "cell_type": "code",
   "execution_count": 5,
   "id": "de53a428",
   "metadata": {},
   "outputs": [],
   "source": [
    "# 0<a0<180\n",
    "\n",
    "def boat_speed(a0,VW,eta): \n",
    "    if wind_angle > min_wind_angle and wind_angle < max_wind_angle and wind_strength > min_wind_strength:\n",
    "        open_sail_bool = True\n",
    "        \n",
    "    #EXCLUDING CRIETRIA FOR THE BOAT_SPEED FUNCTION NOT TO EXPLODE\n",
    "    if wind_angle > 80 and wind_angle < 120 : open_sail_bool = False\n",
    "    if wind_angle > 260 and wind_angle < 300 : open_sail_bool = False\n",
    "\n",
    "    f = lambda a: math.sin(math.pi*a0/180) * math.sin(math.pi*a/180) * math.pow((math.sin(math.pi*a/180/2) / math.sin(math.pi*a0/180-math.pi*a/180)), 2)-VW * eta\n",
    "    a = fsolve(f, [0])[0]\n",
    "    #print(\"a:\", a)\n",
    "    VB = VW * (math.sin(math.pi*(a0-a)/180)/math.sin(math.pi*a/180))\n",
    "    #print(\"a0:\",a0,\"and VB:\", VB)\n",
    "    \n",
    "    return VB"
   ]
  },
  {
   "cell_type": "markdown",
   "id": "f84ab242",
   "metadata": {},
   "source": [
    "# Problem in 1 dimension"
   ]
  },
  {
   "cell_type": "code",
   "execution_count": 388,
   "id": "911f6533",
   "metadata": {},
   "outputs": [
    {
     "name": "stdout",
     "output_type": "stream",
     "text": [
      "The squares length is 5.0\n",
      "Wind angles are : [166, 178, 163, 178, 156, 195]\n",
      "Wind speeds are : [15, 12, 13, 9, 14, 9]\n",
      "Speed gained from sails: [0, 8.441797890246367, 9.130309715763897, 0, 9.746549842987362, 0]\n",
      "Motor usage: [1.0, 0.5779101054876816, 0.5434845142118052, 1.0, 0.5126725078506319, 1.0]\n",
      "Boat speeds are : [20.0, 20.0, 20.0, 20.0, 20.0, 20.0]\n",
      "The emissions for each square are: [16.0, 9.246561687802906, 8.695752227388883, 16.0, 8.202760125610112, 16.0]\n",
      "The total emissions are: 74.1450740408019\n",
      "The time need for each square is: [0.25, 0.25, 0.25, 0.25, 0.25, 0.25]\n",
      "The total time needed is: 1.5\n"
     ]
    }
   ],
   "source": [
    "#ARBITRARY CONSTANTS TO CHECK !!!\n",
    "total_distance = 30 #miles\n",
    "x_positions = 6 #nb of squares between A and B\n",
    "eta = 0.05\n",
    "motor_speed = 20 #in mph\n",
    "motor_emission_per_mile = 3.2 #in kgCO2 per mile\n",
    "\n",
    "#generating random field\n",
    "wind_angle = random_space(360,1,x_positions) #in degrees\n",
    "wind_speed = random_space(30,1,x_positions) #in mph\n",
    "square_length = total_distance/x_positions\n",
    "\n",
    "#defining the lists to be used\n",
    "list_co2 = []\n",
    "list_time = []\n",
    "list_sail_speed = []\n",
    "list_motor_percentage = []\n",
    "list_boat_speed = []\n",
    "\n",
    "#flatten the list of list into a simple list\n",
    "wind_angle = [item for sublist in wind_angle for item in sublist]\n",
    "wind_speed = [item for sublist in wind_speed for item in sublist]\n",
    "\n",
    "#evaluating the increase of speed we can reach thanks to sails \n",
    "for i in range(x_positions):\n",
    "    if open_sail(wind_angle[i],wind_speed[i]):\n",
    "        speed = boat_speed(wind_angle[i],wind_speed[i],eta)\n",
    "        if 10 > speed > 3 :\n",
    "            list_sail_speed.append(speed)\n",
    "        else: \n",
    "            list_sail_speed.append(0)\n",
    "    else: list_sail_speed.append(0)\n",
    "\n",
    "#calculating the power needed of the motor in % to reach 20mph\n",
    "list_motor_percentage = [((motor_speed-i)/motor_speed) for i in list_sail_speed]\n",
    "\n",
    "#calculating the sum of the speeds (sail + motor)\n",
    "list_boat_speed = [list_sail_speed[i] + (list_motor_percentage[i]*motor_speed) for i in range(len(list_sail_speed))]\n",
    " \n",
    "#CO2 emissions calculations\n",
    "for i in range(x_positions):\n",
    "    list_co2.append(motor_emission_per_mile*list_motor_percentage[i]*square_length)\n",
    "    \n",
    "total_emissions = sum(list_co2)\n",
    "        \n",
    "#determining the time needed for the journey\n",
    "for i in range(x_positions):\n",
    "    list_time.append(square_length/list_boat_speed[i])\n",
    "        \n",
    "total_time = sum(list_time)        \n",
    "      \n",
    "    \n",
    "#printing results\n",
    "print(\"The squares length is\", square_length)\n",
    "print(\"Wind angles are :\", wind_angle)\n",
    "print(\"Wind speeds are :\", wind_speed)\n",
    "\n",
    "print(\"Speed gained from sails:\", list_sail_speed)\n",
    "print(\"Motor usage:\",  list_motor_percentage)\n",
    "print(\"Boat speeds are :\", list_boat_speed)\n",
    "\n",
    "print(\"The emissions for each square are:\", list_co2)\n",
    "print(\"The total emissions are:\", total_emissions)\n",
    "print(\"The time need for each square is:\", list_time)\n",
    "print(\"The total time needed is:\", total_time)"
   ]
  },
  {
   "cell_type": "markdown",
   "id": "a8566ad0",
   "metadata": {},
   "source": [
    "# Problem in 2 dimension"
   ]
  },
  {
   "cell_type": "code",
   "execution_count": 476,
   "id": "d8eeb119",
   "metadata": {},
   "outputs": [
    {
     "data": {
      "text/plain": [
       "[[16.0, 5.916776427184224, 16.0, 16.0, 16.0, 16.0],\n",
       " [16.0, 7.260166770146147, 16.0, 16.0, 16.0, 16.0],\n",
       " [16.0, 16.0, 16.0, 16.0, 16.0, 16.0],\n",
       " [16.0, 16.0, 16.0, 16.0, 16.0, 16.0],\n",
       " [16.0, 16.0, 16.0, 16.0, 16.0, 16.0],\n",
       " [16.0, 6.5495911558574385, 16.0, 5.86327573892261, 16.0, 16.0]]"
      ]
     },
     "execution_count": 476,
     "metadata": {},
     "output_type": "execute_result"
    }
   ],
   "source": [
    "#ARBITRARY CONSTANTS TO CHECK !!!\n",
    "total_distance = 60 #miles\n",
    "x_positions = 6 #nb of squares between A and B\n",
    "y_positions = 6\n",
    "eta = 0.05\n",
    "motor_speed = 15 #in mph\n",
    "motor_emission_per_mile = 3.2 #in kgCO2 per mile\n",
    "\n",
    "wind_angle_matrix = random_space(360, x_positions, y_positions) #in degrees\n",
    "wind_speed_matrix = random_space(30, x_positions, y_positions) #in mph\n",
    "\n",
    "\n",
    "def single_line(wind_angle, wind_speed, print_=False):\n",
    "    \n",
    "    #defining the lists to be used\n",
    "    list_co2 = []\n",
    "    list_time = []\n",
    "    list_sail_speed = []\n",
    "    list_motor_percentage = []\n",
    "    list_boat_speed = []\n",
    "\n",
    "    #evaluating the increase of speed we can reach thanks to sails \n",
    "    for i in range(x_positions):\n",
    "        if open_sail(wind_angle[i],wind_speed[i]):\n",
    "            speed = boat_speed(wind_angle[i],wind_speed[i],eta)\n",
    "            if 10 > speed > 3 :\n",
    "                list_sail_speed.append(speed)\n",
    "            else: \n",
    "                list_sail_speed.append(0)\n",
    "        else: list_sail_speed.append(0)\n",
    "\n",
    "    #calculating the power needed of the motor in % to reach 20mph\n",
    "    list_motor_percentage = [((motor_speed-i)/motor_speed) for i in list_sail_speed]\n",
    "\n",
    "    #calculating the sum of the speeds (sail + motor)\n",
    "    list_boat_speed = [list_sail_speed[i] + (list_motor_percentage[i]*motor_speed) for i in range(len(list_sail_speed))]\n",
    "\n",
    "    #CO2 emissions calculations\n",
    "    for i in range(x_positions):\n",
    "        list_co2.append(motor_emission_per_mile*list_motor_percentage[i]*square_length)\n",
    "\n",
    "    total_emissions = sum(list_co2)\n",
    "\n",
    "    #determining the time needed for the journey\n",
    "    for i in range(x_positions):\n",
    "        list_time.append(square_length/list_boat_speed[i])\n",
    "\n",
    "    total_time = sum(list_time)\n",
    "    \n",
    "    #printing results\n",
    "    if print_:\n",
    "        print(\"The squares length is\", square_length)\n",
    "        print(\"Wind angles are :\", wind_angle)\n",
    "        print(\"Wind speeds are :\", wind_speed)\n",
    "\n",
    "        print(\"Speed gained from sails:\", list_sail_speed)\n",
    "        print(\"Motor usage:\",  list_motor_percentage)\n",
    "        print(\"Boat speeds are :\", list_boat_speed)\n",
    "\n",
    "        print(\"The emissions for each square are:\", list_co2)\n",
    "        print(\"The total emissions are:\", total_emissions)\n",
    "        print(\"The time need for each square is:\", list_time)\n",
    "        print(\"The total time needed is:\", total_time)\n",
    "        \n",
    "    return (wind_angle, wind_speed, list_sail_speed, list_boat_speed, list_co2, list_motor_percentage)\n",
    "\n",
    "path = np.zeros((y_positions, x_positions), int)\n",
    "result_wind_angle = []\n",
    "result_wind_speed = []\n",
    "result_sail_speed = []\n",
    "result_boat_speed = []\n",
    "result_co2 = []\n",
    "result_motor_percentage = []\n",
    "\n",
    "for y in range(y_positions):\n",
    "    results = single_line(wind_angle_matrix[y], wind_speed_matrix[y])\n",
    "    result_wind_angle.append(results[0])\n",
    "    result_wind_speed.append(results[1])\n",
    "    result_sail.append(results[2])\n",
    "    result_boat_speed.append(results[3])\n",
    "    result_co2.append(results[4])\n",
    "    result_motor_percentage.append(results[5])\n",
    "    \n",
    "result_co2"
   ]
  },
  {
   "cell_type": "markdown",
   "id": "4069786a",
   "metadata": {},
   "source": [
    "# Solver Model"
   ]
  },
  {
   "cell_type": "code",
   "execution_count": 544,
   "id": "02910699",
   "metadata": {},
   "outputs": [],
   "source": [
    "solver = pywraplp.Solver.CreateSolver('CLP')\n",
    "\n",
    "x = {}\n",
    "for i in range(y_positions):\n",
    "    for j in range(x_positions):\n",
    "        x[i, j] = solver.IntVar(0, 1, '')\n",
    "        \n",
    "# Constraints\n",
    "\n",
    "# for each x_position, we need the boat to pass by there\n",
    "for j in range(x_positions):\n",
    "    solver.Add(solver.Sum([x[i, j] for i in range(y_positions)]) == 1)\n",
    "\n",
    "# you can only move either the square in front of you either in the two closest diagonals    \n",
    "#for j in range(1, x_positions):\n",
    "    #for i in range(range(1,y_positions-1))\n",
    "    #solver.Add(solver.Sum([(x[i+1,j-1] + x[i,j-1] + x[i-1, j-1]) for i in range(1,y_positions-1)]) == 1)\n",
    "    #solver.Add((x[0,j-1] + x[1,j-1]) == 1)\n",
    "    #solver.Add((x[y_positions-2,j-1] + x[y_positions-1,j-1]) == 1)\n",
    "    \n",
    "    \n",
    "#get_path_distance(path, coordinates_field)\n",
    "    \n",
    "# avoid first and last line\n",
    "#for i in [0, y_positions-1]:\n",
    "    #solver.Add(solver.Sum([x[i,j] for j in range(x_positions)]) == 0)\n",
    "\n",
    "middle_point = y_positions // 2    \n",
    "#choose a specific starting point (i)\n",
    "#solver.Add(x[middle_point,0] == 1)\n",
    "#chose a specific ending point (i)\n",
    "#solver.Add(x[middle_point,x_positions-1] == 1)\n",
    "\n",
    "def get_distance(starting_point, end_point):\n",
    "    return math.sqrt((end_point[0]-starting_point[0])**2 + (end_point[1]-starting_point[1])**2)\n",
    "\n",
    "solver.Minimize(solver.Sum([result_co2[i][j] * x[i,j] for i in range(y_positions)\n",
    "                                                  for j in range(1,x_positions)]))\n",
    "status = solver.Solve()"
   ]
  },
  {
   "cell_type": "code",
   "execution_count": 540,
   "id": "ac17521b",
   "metadata": {},
   "outputs": [
    {
     "data": {
      "text/plain": [
       "0"
      ]
     },
     "execution_count": 540,
     "metadata": {},
     "output_type": "execute_result"
    }
   ],
   "source": [
    "status"
   ]
  },
  {
   "cell_type": "code",
   "execution_count": 545,
   "id": "10407308",
   "metadata": {},
   "outputs": [
    {
     "name": "stdout",
     "output_type": "stream",
     "text": [
      "Total co2 =  59.780052166106834 \n",
      "\n",
      "x_position 0 took y_position 3.  CO2 = 16\n",
      "x_position 1 took y_position 0.  CO2 = 5\n",
      "x_position 2 took y_position 5.  CO2 = 16\n",
      "x_position 3 took y_position 5.  CO2 = 5\n",
      "x_position 4 took y_position 1.  CO2 = 16\n",
      "x_position 5 took y_position 2.  CO2 = 16\n"
     ]
    }
   ],
   "source": [
    "# Print solution.\n",
    "if status == pywraplp.Solver.OPTIMAL:\n",
    "    print('Total co2 = ', solver.Objective().Value(), '\\n')\n",
    "    for j in range(x_positions):\n",
    "        for i in range(y_positions):\n",
    "            # Test if x[i,j] is 1 (with tolerance for floating point arithmetic).\n",
    "            if x[i, j].solution_value() > 0.5:\n",
    "                print('x_position %d took y_position %d.  CO2 = %d' %\n",
    "                  (j, i, result_co2[i][j]))"
   ]
  },
  {
   "cell_type": "code",
   "execution_count": 546,
   "id": "b8741506",
   "metadata": {},
   "outputs": [
    {
     "ename": "AttributeError",
     "evalue": "'dict' object has no attribute 'tolist'",
     "output_type": "error",
     "traceback": [
      "\u001b[1;31m---------------------------------------------------------------------------\u001b[0m",
      "\u001b[1;31mAttributeError\u001b[0m                            Traceback (most recent call last)",
      "\u001b[1;32m~\\AppData\\Local\\Temp/ipykernel_28668/31659863.py\u001b[0m in \u001b[0;36m<module>\u001b[1;34m\u001b[0m\n\u001b[0;32m     16\u001b[0m     \u001b[0mprint\u001b[0m\u001b[1;33m(\u001b[0m\u001b[0mtabulate\u001b[0m\u001b[1;33m(\u001b[0m\u001b[0mlist\u001b[0m\u001b[1;33m(\u001b[0m\u001b[0mmap\u001b[0m\u001b[1;33m(\u001b[0m\u001b[0mtuple\u001b[0m\u001b[1;33m,\u001b[0m \u001b[0mresults\u001b[0m\u001b[1;33m)\u001b[0m\u001b[1;33m)\u001b[0m\u001b[1;33m,\u001b[0m \u001b[0mtablefmt\u001b[0m\u001b[1;33m=\u001b[0m\u001b[1;34m\"grid\"\u001b[0m\u001b[1;33m,\u001b[0m \u001b[0mstralign\u001b[0m\u001b[1;33m=\u001b[0m\u001b[1;34m\"center\"\u001b[0m\u001b[1;33m)\u001b[0m\u001b[1;33m)\u001b[0m\u001b[1;33m\u001b[0m\u001b[1;33m\u001b[0m\u001b[0m\n\u001b[0;32m     17\u001b[0m \u001b[1;33m\u001b[0m\u001b[0m\n\u001b[1;32m---> 18\u001b[1;33m \u001b[0mshow_table\u001b[0m\u001b[1;33m(\u001b[0m\u001b[0mpath\u001b[0m\u001b[1;33m)\u001b[0m\u001b[1;33m\u001b[0m\u001b[1;33m\u001b[0m\u001b[0m\n\u001b[0m",
      "\u001b[1;32m~\\AppData\\Local\\Temp/ipykernel_28668/31659863.py\u001b[0m in \u001b[0;36mshow_table\u001b[1;34m(path)\u001b[0m\n\u001b[0;32m      7\u001b[0m \u001b[1;31m# function to represent the solution graphically\u001b[0m\u001b[1;33m\u001b[0m\u001b[1;33m\u001b[0m\u001b[0m\n\u001b[0;32m      8\u001b[0m \u001b[1;32mdef\u001b[0m \u001b[0mshow_table\u001b[0m\u001b[1;33m(\u001b[0m\u001b[0mpath\u001b[0m\u001b[1;33m)\u001b[0m\u001b[1;33m:\u001b[0m\u001b[1;33m\u001b[0m\u001b[1;33m\u001b[0m\u001b[0m\n\u001b[1;32m----> 9\u001b[1;33m     \u001b[0mresults\u001b[0m \u001b[1;33m=\u001b[0m \u001b[0mpath\u001b[0m\u001b[1;33m.\u001b[0m\u001b[0mtolist\u001b[0m\u001b[1;33m(\u001b[0m\u001b[1;33m)\u001b[0m\u001b[1;33m\u001b[0m\u001b[1;33m\u001b[0m\u001b[0m\n\u001b[0m\u001b[0;32m     10\u001b[0m     \u001b[1;32mfor\u001b[0m \u001b[0mi\u001b[0m \u001b[1;32min\u001b[0m \u001b[0mrange\u001b[0m\u001b[1;33m(\u001b[0m\u001b[0mlen\u001b[0m\u001b[1;33m(\u001b[0m\u001b[0mresults\u001b[0m\u001b[1;33m)\u001b[0m\u001b[1;33m)\u001b[0m\u001b[1;33m:\u001b[0m\u001b[1;33m\u001b[0m\u001b[1;33m\u001b[0m\u001b[0m\n\u001b[0;32m     11\u001b[0m         \u001b[1;32mfor\u001b[0m \u001b[0mj\u001b[0m \u001b[1;32min\u001b[0m \u001b[0mrange\u001b[0m\u001b[1;33m(\u001b[0m\u001b[0mlen\u001b[0m\u001b[1;33m(\u001b[0m\u001b[0mresults\u001b[0m\u001b[1;33m[\u001b[0m\u001b[0mi\u001b[0m\u001b[1;33m]\u001b[0m\u001b[1;33m)\u001b[0m\u001b[1;33m)\u001b[0m\u001b[1;33m:\u001b[0m\u001b[1;33m\u001b[0m\u001b[1;33m\u001b[0m\u001b[0m\n",
      "\u001b[1;31mAttributeError\u001b[0m: 'dict' object has no attribute 'tolist'"
     ]
    }
   ],
   "source": [
    "#create a variavle path that store the solution from the solver\n",
    "for j in range(x_positions):\n",
    "        for i in range(y_positions):\n",
    "            # Test if x[i,j] is 1 (with tolerance for floating point arithmetic).\n",
    "            path[i,j] = (x[i,j].solution_value())\n",
    "\n",
    "# function to represent the solution graphically            \n",
    "def show_table(path):\n",
    "    results = path.tolist()          \n",
    "    for i in range(len(results)):\n",
    "        for j in range(len(results[i])):\n",
    "            if results[i][j] == 1:\n",
    "                results[i][j] = \"#\"\n",
    "            elif results[i][j] == 0:\n",
    "                results[i][j] = \"\"\n",
    "    print(tabulate(list(map(tuple, results)), tablefmt=\"grid\", stralign=\"center\"))\n",
    "\n",
    "show_table(path)"
   ]
  },
  {
   "cell_type": "markdown",
   "id": "a682e598",
   "metadata": {},
   "source": [
    "# Creating measures of the field to calculate distance and velocity"
   ]
  },
  {
   "cell_type": "code",
   "execution_count": 409,
   "id": "760beb27",
   "metadata": {},
   "outputs": [],
   "source": [
    "# define hight of the map\n",
    "tot_y_distance = 60 #miles\n",
    "tot_x_distance = total_distance #miles\n",
    "y_square = tot_y_distance/y_positions\n",
    "x_square = tot_x_distance/x_positions"
   ]
  },
  {
   "cell_type": "code",
   "execution_count": 410,
   "id": "544b0501",
   "metadata": {},
   "outputs": [
    {
     "name": "stdout",
     "output_type": "stream",
     "text": [
      "+-------------+--------------+--------------+--------------+--------------+--------------+\n",
      "| (0.0, 0.0)  | (0.0, 10.0)  | (0.0, 20.0)  | (0.0, 30.0)  | (0.0, 40.0)  | (0.0, 50.0)  |\n",
      "+-------------+--------------+--------------+--------------+--------------+--------------+\n",
      "| (10.0, 0.0) | (10.0, 10.0) | (10.0, 20.0) | (10.0, 30.0) | (10.0, 40.0) | (10.0, 50.0) |\n",
      "+-------------+--------------+--------------+--------------+--------------+--------------+\n",
      "| (20.0, 0.0) | (20.0, 10.0) | (20.0, 20.0) | (20.0, 30.0) | (20.0, 40.0) | (20.0, 50.0) |\n",
      "+-------------+--------------+--------------+--------------+--------------+--------------+\n",
      "| (30.0, 0.0) | (30.0, 10.0) | (30.0, 20.0) | (30.0, 30.0) | (30.0, 40.0) | (30.0, 50.0) |\n",
      "+-------------+--------------+--------------+--------------+--------------+--------------+\n",
      "| (40.0, 0.0) | (40.0, 10.0) | (40.0, 20.0) | (40.0, 30.0) | (40.0, 40.0) | (40.0, 50.0) |\n",
      "+-------------+--------------+--------------+--------------+--------------+--------------+\n",
      "| (50.0, 0.0) | (50.0, 10.0) | (50.0, 20.0) | (50.0, 30.0) | (50.0, 40.0) | (50.0, 50.0) |\n",
      "+-------------+--------------+--------------+--------------+--------------+--------------+\n"
     ]
    }
   ],
   "source": [
    "coordinates_field = [[(y_square*i,x_square*j) for j in range(x_positions)] for i in range(y_positions)]\n",
    "print(tabulate(coordinates_field, tablefmt=\"grid\", stralign=\"center\"))"
   ]
  },
  {
   "cell_type": "code",
   "execution_count": 411,
   "id": "86140dee",
   "metadata": {},
   "outputs": [
    {
     "name": "stdout",
     "output_type": "stream",
     "text": [
      "going straight: 10.0\n",
      "going diagonally: 14.142135623730951\n"
     ]
    }
   ],
   "source": [
    "# we start from (10,0)\n",
    "start_point = coordinates_field[1][0]\n",
    "# we go straight\n",
    "straight_point = coordinates_field[1][1]\n",
    "# we go diagonally\n",
    "diagonal_point = coordinates_field[0][1]\n",
    "\n",
    "def get_distance(starting_point, end_point):\n",
    "    return math.sqrt((end_point[0]-starting_point[0])**2 + (end_point[1]-starting_point[1])**2)\n",
    "\n",
    "print(\"going straight:\", get_distance(start_point, straight_point))\n",
    "print(\"going diagonally:\", get_distance(start_point, diagonal_point))"
   ]
  },
  {
   "cell_type": "code",
   "execution_count": 482,
   "id": "0f5ad742",
   "metadata": {},
   "outputs": [
    {
     "name": "stdout",
     "output_type": "stream",
     "text": [
      "total distance: 101.5298244508295 miles\n"
     ]
    }
   ],
   "source": [
    "def get_path_distance(path, coordinates_field):\n",
    "    passed_by = []\n",
    "    for j in range(x_positions):\n",
    "        for i in range(y_positions):\n",
    "            if path[i][j] == 1:\n",
    "                passed_by.append(coordinates_field[i][j])\n",
    "    total_distances = [0]            \n",
    "    for way in range(len(passed_by)-1):\n",
    "        total_distances.append(get_distance(passed_by[way], passed_by[way+1]))\n",
    "    return total_distances\n",
    "\n",
    "print(\"total distance: {} miles\".format(sum(get_path_distance(path, coordinates_field))))"
   ]
  },
  {
   "cell_type": "markdown",
   "id": "f8f16b7c",
   "metadata": {},
   "source": [
    "# Results"
   ]
  },
  {
   "cell_type": "code",
   "execution_count": 489,
   "id": "39a05f7b",
   "metadata": {},
   "outputs": [
    {
     "data": {
      "text/plain": [
       "array([16., 16., 16., 16., 16., 16.])"
      ]
     },
     "execution_count": 489,
     "metadata": {},
     "output_type": "execute_result"
    }
   ],
   "source": [
    "#calculate the resulting emission\n",
    "co2_path = path*result_co2\n",
    "co2_consumption = co2_path[co2_path!=0]\n",
    "co2_consumption"
   ]
  },
  {
   "cell_type": "code",
   "execution_count": null,
   "id": "ed1b2dd1",
   "metadata": {},
   "outputs": [],
   "source": []
  },
  {
   "cell_type": "code",
   "execution_count": null,
   "id": "3d8d5e46",
   "metadata": {},
   "outputs": [],
   "source": []
  },
  {
   "cell_type": "code",
   "execution_count": null,
   "id": "b2747bef",
   "metadata": {},
   "outputs": [],
   "source": []
  },
  {
   "cell_type": "markdown",
   "id": "c9fa7883",
   "metadata": {},
   "source": [
    "# Experiment"
   ]
  },
  {
   "cell_type": "code",
   "execution_count": 469,
   "id": "c6ffb7ab",
   "metadata": {},
   "outputs": [],
   "source": [
    "solver = pywraplp.Solver.CreateSolver('CLP')\n",
    "\n",
    "x = {}\n",
    "for i in range(y_positions):\n",
    "    for j in range(x_positions):\n",
    "        x[i, j] = solver.IntVar(0, 1, '')\n",
    "        \n",
    "# Constraints\n",
    "\n",
    "# for each x_position, we need the boat to pass by there\n",
    "for j in range(x_positions):\n",
    "    solver.Add(solver.Sum([x[i, j] for i in range(y_positions)]) == 1)\n",
    "\n",
    "# you can only move either the square in front of you either in the two closest diagonals    \n",
    "#for j in range(1, x_positions):\n",
    "#    solver.Add(solver.Sum([x[i+1,j-1] + x[i,j-1] + x[i-1, j-1] for i in range(1,y_positions-1)]) == 1)\n",
    "#    solver.Add((x[0,j-1] + x[1,j-1]) == 1)\n",
    "#    solver.Add((x[y_positions-2,j-1] + x[y_positions-1,j-1]) == 1)\n",
    "\n",
    "middle_point = y_positions // 2    \n",
    "#choose a specific starting point (i)\n",
    "solver.Add(x[middle_point,0] == 1)\n",
    "#chose a specific ending point (i)\n",
    "solver.Add(x[0,x_positions-1] == 1)\n",
    "\n",
    "\n",
    "def get_distance(starting_point, end_point):\n",
    "    return math.sqrt((end_point[0]-starting_point[0])**2 + (end_point[1]-starting_point[1])**2)\n",
    "\n",
    "solver.Minimize(solver.Sum([get_distance(coordinates_field[i][j], coordinates_field[i][j-1]) * x[i,j] * motor_integer[i][j] * motor_emission_per_mile for i in range(y_positions)\n",
    "                                                  for j in range(1,x_positions)]))\n",
    "status = solver.Solve()"
   ]
  },
  {
   "cell_type": "code",
   "execution_count": 470,
   "id": "01a70765",
   "metadata": {},
   "outputs": [
    {
     "name": "stdout",
     "output_type": "stream",
     "text": [
      "Total co2 =  96.0 \n",
      "\n",
      "x_position 1 took y_position 2.  CO2 = 999\n",
      "x_position 2 took y_position 5.  CO2 = 999\n",
      "x_position 3 took y_position 3.  CO2 = 999\n",
      "x_position 4 took y_position 5.  CO2 = 999\n",
      "x_position 5 took y_position 0.  CO2 = 999\n"
     ]
    }
   ],
   "source": [
    "# Print solution.\n",
    "if status == pywraplp.Solver.OPTIMAL:\n",
    "    print('Total co2 = ', solver.Objective().Value(), '\\n')\n",
    "    for j in range(1,x_positions):\n",
    "        for i in range(y_positions):\n",
    "            # Test if x[i,j] is 1 (with tolerance for floating point arithmetic).\n",
    "            if x[i, j].solution_value() > 0.5:\n",
    "                print('x_position %d took y_position %d.  CO2 = %d' %\n",
    "                      (j, i, 999))"
   ]
  },
  {
   "cell_type": "code",
   "execution_count": 471,
   "id": "72a7a459",
   "metadata": {},
   "outputs": [
    {
     "data": {
      "text/plain": [
       "[[0.0, 0.0, 0.0, 0.0, 0.0, 0],\n",
       " [0.0, 0.0, 0.0, 10.0, 0.0, 0],\n",
       " [0.0, 0.0, 0.0, 0.0, 0.0, 0],\n",
       " [10.0, 0.0, 0.0, 0.0, 0.0, 1],\n",
       " [0.0, 10.0, 10.0, 0.0, 10.0, 0],\n",
       " [0.0, 0.0, 0.0, 0.0, 0.0, 0]]"
      ]
     },
     "execution_count": 471,
     "metadata": {},
     "output_type": "execute_result"
    }
   ],
   "source": [
    "passed_by = list(map(list,path))\n",
    "for j in range(x_positions-1):\n",
    "    for i in range(y_positions):\n",
    "        passed_by[i][j] = passed_by[i][j] * get_distance(coordinates_field[i][j], coordinates_field[i][j+1])\n",
    "\n",
    "passed_by\n",
    "#def get_distance(starting_point, end_point):"
   ]
  },
  {
   "cell_type": "code",
   "execution_count": 472,
   "id": "048a8b19",
   "metadata": {},
   "outputs": [
    {
     "ename": "NameError",
     "evalue": "name 'way' is not defined",
     "output_type": "error",
     "traceback": [
      "\u001b[1;31m---------------------------------------------------------------------------\u001b[0m",
      "\u001b[1;31mNameError\u001b[0m                                 Traceback (most recent call last)",
      "\u001b[1;32m~\\AppData\\Local\\Temp/ipykernel_28668/2581778262.py\u001b[0m in \u001b[0;36m<module>\u001b[1;34m\u001b[0m\n\u001b[0;32m     11\u001b[0m     \u001b[1;32mreturn\u001b[0m \u001b[0mresult\u001b[0m\u001b[1;33m\u001b[0m\u001b[1;33m\u001b[0m\u001b[0m\n\u001b[0;32m     12\u001b[0m \u001b[1;33m\u001b[0m\u001b[0m\n\u001b[1;32m---> 13\u001b[1;33m \u001b[0mget_path_distance\u001b[0m\u001b[1;33m(\u001b[0m\u001b[0mpath\u001b[0m\u001b[1;33m,\u001b[0m \u001b[0mcoordinates_field\u001b[0m\u001b[1;33m)\u001b[0m\u001b[1;33m\u001b[0m\u001b[1;33m\u001b[0m\u001b[0m\n\u001b[0m",
      "\u001b[1;32m~\\AppData\\Local\\Temp/ipykernel_28668/2581778262.py\u001b[0m in \u001b[0;36mget_path_distance\u001b[1;34m(path, coordinates_field)\u001b[0m\n\u001b[0;32m      8\u001b[0m     \u001b[1;32mfor\u001b[0m \u001b[0mi\u001b[0m \u001b[1;32min\u001b[0m \u001b[0mrange\u001b[0m\u001b[1;33m(\u001b[0m\u001b[0my_positions\u001b[0m\u001b[1;33m)\u001b[0m\u001b[1;33m:\u001b[0m\u001b[1;33m\u001b[0m\u001b[1;33m\u001b[0m\u001b[0m\n\u001b[0;32m      9\u001b[0m         \u001b[1;32mfor\u001b[0m \u001b[0mj\u001b[0m \u001b[1;32min\u001b[0m \u001b[0mrange\u001b[0m\u001b[1;33m(\u001b[0m\u001b[0mx_positions\u001b[0m\u001b[1;33m)\u001b[0m\u001b[1;33m:\u001b[0m\u001b[1;33m\u001b[0m\u001b[1;33m\u001b[0m\u001b[0m\n\u001b[1;32m---> 10\u001b[1;33m             \u001b[0mresult\u001b[0m\u001b[1;33m[\u001b[0m\u001b[0mi\u001b[0m\u001b[1;33m,\u001b[0m\u001b[0mj\u001b[0m\u001b[1;33m]\u001b[0m \u001b[1;33m+=\u001b[0m \u001b[0mget_distance\u001b[0m\u001b[1;33m(\u001b[0m\u001b[0mpassed_by\u001b[0m\u001b[1;33m[\u001b[0m\u001b[0mway\u001b[0m\u001b[1;33m]\u001b[0m\u001b[1;33m,\u001b[0m \u001b[0mpassed_by\u001b[0m\u001b[1;33m[\u001b[0m\u001b[0mway\u001b[0m\u001b[1;33m+\u001b[0m\u001b[1;36m1\u001b[0m\u001b[1;33m]\u001b[0m\u001b[1;33m)\u001b[0m\u001b[1;33m\u001b[0m\u001b[1;33m\u001b[0m\u001b[0m\n\u001b[0m\u001b[0;32m     11\u001b[0m     \u001b[1;32mreturn\u001b[0m \u001b[0mresult\u001b[0m\u001b[1;33m\u001b[0m\u001b[1;33m\u001b[0m\u001b[0m\n\u001b[0;32m     12\u001b[0m \u001b[1;33m\u001b[0m\u001b[0m\n",
      "\u001b[1;31mNameError\u001b[0m: name 'way' is not defined"
     ]
    }
   ],
   "source": [
    "def get_path_distance(path, coordinates_field):\n",
    "    passed_by = list(map(list,path))\n",
    "    for j in range(1,x_positions-2):\n",
    "        for i in range(y_positions):\n",
    "            passed_by[i][j] = passed_by[i][j] * get_distance(coordinates_field[i][j], coordinates_field[i][j+1])\n",
    "     \n",
    "    result = path\n",
    "    for i in range(y_positions):\n",
    "        for j in range(x_positions):\n",
    "            result[i,j] += get_distance(passed_by[way], passed_by[way+1])\n",
    "    return result\n",
    "\n",
    "get_path_distance(path, coordinates_field)"
   ]
  },
  {
   "cell_type": "code",
   "execution_count": 344,
   "id": "1fbac6c9",
   "metadata": {},
   "outputs": [
    {
     "data": {
      "text/plain": [
       "array([[0, 0, 0, 0, 0, 0],\n",
       "       [0, 0, 0, 1, 0, 0],\n",
       "       [0, 0, 0, 0, 0, 1],\n",
       "       [1, 0, 0, 0, 0, 0],\n",
       "       [0, 1, 0, 0, 0, 0],\n",
       "       [0, 0, 1, 0, 1, 0]])"
      ]
     },
     "execution_count": 344,
     "metadata": {},
     "output_type": "execute_result"
    }
   ],
   "source": [
    "path"
   ]
  },
  {
   "cell_type": "code",
   "execution_count": null,
   "id": "2fc62fcf",
   "metadata": {},
   "outputs": [],
   "source": [
    "passed_by = np.zeros((y_positions, x_positions), int)\n",
    "passed_by[i,j] = path[i,j] + passed_by[i,j]\n",
    "get_distance(passed_by[1], passed_by[1+1])"
   ]
  },
  {
   "cell_type": "code",
   "execution_count": null,
   "id": "604ed63e",
   "metadata": {},
   "outputs": [],
   "source": [
    "def get_distance(starting_point, end_point):\n",
    "    return math.sqrt((end_point[0]-starting_point[0])**2 + (end_point[1]-starting_point[1])**2)"
   ]
  },
  {
   "cell_type": "code",
   "execution_count": null,
   "id": "c83c0697",
   "metadata": {},
   "outputs": [],
   "source": []
  },
  {
   "cell_type": "code",
   "execution_count": 537,
   "id": "2ceba24b",
   "metadata": {},
   "outputs": [],
   "source": [
    "from ortools.linear_solver import pywraplp\n",
    "\n",
    "# define the solver\n",
    "solver = pywraplp.Solver('SolveShortestPathProblem',\n",
    "                         pywraplp.Solver.CLP_LINEAR_PROGRAMMING)\n",
    "\n",
    "# define the matrix\n",
    "matrix = [[5, 2, 3, 4, 5, 6],\n",
    "          [5, 2, 3, 4, 7, 6],\n",
    "          [5, 4, 5, 0, 5, 6],\n",
    "          [6, 6, 5, 4, 1, 10],\n",
    "          [8, 2, 3, 6, 4, 6],\n",
    "          [9, 2, 3, 4, 6, 6]]\n",
    "\n",
    "# define the variables\n",
    "path = {}\n",
    "for i in range(6):\n",
    "    for j in range(6):\n",
    "        path[i, j] = solver.IntVar(0, 1, 'path[%i,%i]' % (i, j))\n",
    "\n",
    "# define the constraints\n",
    "# each position can be visited only once\n",
    "for i in range(6):\n",
    "    for j in range(6):\n",
    "        solver.Add(solver.Sum([path[i, j] for i in range(6) for j in range(6)]) == 1)\n",
    "\n",
    "# the path must start at position (3,0) and end at position (3,5)\n",
    "solver.Add(path[3, 0] == 1)\n",
    "solver.Add(path[3, 5] == 1)\n",
    "\n",
    "# the path must pass through each column exactly once\n",
    "for j in range(6):\n",
    "    solver.Add(solver.Sum([path[i, j] for i in range(6)]) == 1)\n",
    "\n",
    "# the path can only move in straight or diagonal directions\n",
    "for i in range(6):\n",
    "    for j in range(6):\n",
    "        if i > 0:\n",
    "            solver.Add(path[i, j] <= path[i - 1, j])\n",
    "        if i < 5:\n",
    "            solver.Add(path[i, j] <= path[i + 1, j])\n",
    "        if j > 0:\n",
    "            solver.Add(path[i, j] <= path[i, j - 1])\n",
    "        if j < 5:\n",
    "            solver.Add(path[i, j] <= path[i, j + 1])\n",
    "        if i > 0 and j > 0:\n",
    "            solver.Add(path[i, j] <= path[i - 1, j - 1])\n",
    "        if i > 0 and j < 5:\n",
    "            solver.Add(path[i, j] <= path[i - 1, j + 1])\n",
    "        if i < 5 and j > 0:\n",
    "            solver.Add(path[i, j] <= path[i + 1, j - 1])\n",
    "        if i < 5 and j < 5:\n",
    "            solver.Add(path[i, j] <= path[i + 1, j + 1])\n"
   ]
  },
  {
   "cell_type": "code",
   "execution_count": 538,
   "id": "e87175f1",
   "metadata": {},
   "outputs": [
    {
     "name": "stdout",
     "output_type": "stream",
     "text": [
      "The problem does not have an optimal solution.\n"
     ]
    }
   ],
   "source": [
    "# minimize the total distance of the path\n",
    "total_distance = solver.Sum([matrix[i][j] * path[i, j]\n",
    "                             for i in range(6)\n",
    "                             for j in range(6)])\n",
    "solver.Minimize(total_distance)\n",
    "\n",
    "# solve the problem\n",
    "status = solver.Solve()\n",
    "\n",
    "# print the results\n",
    "if status == pywraplp.Solver.OPTIMAL:\n",
    "    print('Minimum distance:', solver.Objective().Value())\n",
    "    for i in range(6):\n",
    "        for j in range(6):\n",
    "            if path[i, j].solution_value() > 0:\n",
    "                print('Position (%i, %i) is part of the path.' % (i, j))\n",
    "else:\n",
    "    print('The problem does not have an optimal solution.')"
   ]
  },
  {
   "cell_type": "code",
   "execution_count": null,
   "id": "dec491a0",
   "metadata": {
    "collapsed": true
   },
   "outputs": [],
   "source": []
  },
  {
   "cell_type": "code",
   "execution_count": null,
   "id": "ee3b5f51",
   "metadata": {},
   "outputs": [],
   "source": []
  }
 ],
 "metadata": {
  "kernelspec": {
   "display_name": "Python 3 (ipykernel)",
   "language": "python",
   "name": "python3"
  },
  "language_info": {
   "codemirror_mode": {
    "name": "ipython",
    "version": 3
   },
   "file_extension": ".py",
   "mimetype": "text/x-python",
   "name": "python",
   "nbconvert_exporter": "python",
   "pygments_lexer": "ipython3",
   "version": "3.9.7"
  }
 },
 "nbformat": 4,
 "nbformat_minor": 5
}
