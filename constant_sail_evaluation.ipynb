{
 "cells": [
  {
   "cell_type": "markdown",
   "id": "046f3a31",
   "metadata": {},
   "source": [
    "# Vessel Route Optimization"
   ]
  },
  {
   "cell_type": "code",
   "execution_count": 1,
   "id": "4967c137",
   "metadata": {},
   "outputs": [],
   "source": [
    "import math\n",
    "import numpy as np\n",
    "from numpy import random\n",
    "from scipy.optimize import fsolve\n",
    "import ortools\n",
    "from tabulate import tabulate\n",
    "from ortools.linear_solver import pywraplp"
   ]
  },
  {
   "cell_type": "markdown",
   "id": "8cb722ab",
   "metadata": {},
   "source": [
    "## Semi-random vectors generation"
   ]
  },
  {
   "cell_type": "code",
   "execution_count": 2,
   "id": "6fe669da",
   "metadata": {},
   "outputs": [
    {
     "name": "stdout",
     "output_type": "stream",
     "text": [
      "Wind direction (degrees): [59, 64, 74, 81, 72, 71, 56, 55, 51, 50]\n",
      "Wind speed (m/s): [17, 8, 26, 1, 16, 2, 21, 15, 13, 27]\n"
     ]
    }
   ],
   "source": [
    "wind_degrees = []\n",
    "x_positions = 10\n",
    "max_change = 0.3\n",
    "#random.seed(1234)\n",
    "\n",
    "for day in range(x_positions):\n",
    "    if day == 0:\n",
    "        wind_degrees.append(random.randint(0,360))\n",
    "    else:\n",
    "        last_day = wind_degrees[day-1]\n",
    "        wind_degrees.append(random.randint(last_day*(1-max_change),last_day*(1+max_change)))\n",
    "        \n",
    "wind_speed = list(random.randint(0,28,(1,x_positions)).flatten())\n",
    "\n",
    "print(\"Wind direction (degrees):\", wind_degrees)\n",
    "print(\"Wind speed (m/s):\", wind_speed)"
   ]
  },
  {
   "cell_type": "markdown",
   "id": "9729dca9",
   "metadata": {},
   "source": [
    "## Multiple array problem"
   ]
  },
  {
   "cell_type": "code",
   "execution_count": 16,
   "id": "7b209d05",
   "metadata": {},
   "outputs": [
    {
     "name": "stdout",
     "output_type": "stream",
     "text": [
      "Wind direction (degrees): [[115, 62, 91, 13, 305], [141, 52, 69, 10, 293], [120, 66, 99, 10, 386]]\n",
      "Wind speed (m/s): [[1, 8, 16, 2, 16], [0, 6, 15, 1, 14], [0, 7, 14, 1, 18]]\n"
     ]
    }
   ],
   "source": [
    "def random_space(max_value, x_positions=5, y_positions=1, day_max_change=0.3, position_max_change=0.2, seed=None):    \n",
    "    random.seed(seed)\n",
    "    degrees_matrix = []\n",
    "    wind_degrees = []\n",
    "    \n",
    "    for day in range(x_positions):\n",
    "        wind_degrees.append(random.randint(1,max_value))\n",
    "    degrees_matrix.append(wind_degrees) \n",
    "\n",
    "    for position in range(0,y_positions-1):\n",
    "        position_degree = []\n",
    "        for day in range(x_positions):\n",
    "            same_day_other_position = abs(degrees_matrix[position-1][day])  \n",
    "            if same_day_other_position != 0:\n",
    "                position_degree.append(random.randint(same_day_other_position*(1-position_max_change),same_day_other_position*(1+position_max_change)))\n",
    "            else: \n",
    "                position_degree.append(random.randint(1,max_value))\n",
    "        degrees_matrix.append(position_degree)\n",
    "    \n",
    "    return degrees_matrix\n",
    "\n",
    "x_positions = 5\n",
    "y_positions = 3\n",
    "day_max_change = 0.3\n",
    "position_max_change = 0.3\n",
    "seed = 126\n",
    "\n",
    "wind_direction = random_space(360, x_positions, y_positions, day_max_change, position_max_change)\n",
    "wind_speed = random_space(27, x_positions, y_positions, day_max_change, position_max_change)\n",
    "\n",
    "print(\"Wind direction (degrees):\", wind_direction)\n",
    "print(\"Wind speed (m/s):\", wind_speed)"
   ]
  },
  {
   "cell_type": "markdown",
   "id": "b665f475",
   "metadata": {},
   "source": [
    "# Open_sail function"
   ]
  },
  {
   "cell_type": "code",
   "execution_count": 4,
   "id": "5cebd975",
   "metadata": {},
   "outputs": [
    {
     "name": "stdout",
     "output_type": "stream",
     "text": [
      "We open the sail :  True\n"
     ]
    }
   ],
   "source": [
    "#CONSTANTS TO BE DETERMINED\n",
    "min_wind_angle = 60 \n",
    "max_wind_angle = 300 \n",
    "min_wind_strength = 10\n",
    "\n",
    "def open_sail(wind_angle, wind_strength):\n",
    "    open_sail_bool = False \n",
    "    \n",
    "    if wind_angle > min_wind_angle and wind_angle < max_wind_angle and wind_strength > min_wind_strength :\n",
    "        open_sail_bool = True\n",
    "        \n",
    "    #EXCLUDING CRIETRIA FOR THE BOAT_SPEED FUNCTION NOT TO EXPLODE\n",
    "    if wind_angle > 80 and wind_angle < 120 : open_sail_bool = False\n",
    "    if wind_angle > 260 and wind_angle < 300 : open_sail_bool = False\n",
    "\n",
    "\n",
    "    return open_sail_bool\n",
    "\n",
    "\n",
    "print(\"We open the sail : \", open_sail(80,40))"
   ]
  },
  {
   "cell_type": "markdown",
   "id": "d2126e98",
   "metadata": {},
   "source": [
    "# Apparent wind function for boat speed"
   ]
  },
  {
   "cell_type": "code",
   "execution_count": 5,
   "id": "de53a428",
   "metadata": {},
   "outputs": [],
   "source": [
    "# 0<a0<180\n",
    "\n",
    "def boat_speed(a0,VW,eta): \n",
    "\n",
    "    f = lambda a: math.sin(math.pi*a0/180) * math.sin(math.pi*a/180) * math.pow((math.sin(math.pi*a/180/2) / math.sin(math.pi*a0/180-math.pi*a/180)), 2)-VW * eta\n",
    "    a = fsolve(f, [0])[0]\n",
    "    #print(\"a:\", a)\n",
    "    VB = VW * (math.sin(math.pi*(a0-a)/180)/math.sin(math.pi*a/180))\n",
    "    #print(\"a0:\",a0,\"and VB:\", VB)\n",
    "    \n",
    "    return VB"
   ]
  },
  {
   "cell_type": "markdown",
   "id": "f84ab242",
   "metadata": {},
   "source": [
    "# Problem in 1 dimension"
   ]
  },
  {
   "cell_type": "code",
   "execution_count": 6,
   "id": "911f6533",
   "metadata": {},
   "outputs": [
    {
     "name": "stdout",
     "output_type": "stream",
     "text": [
      "The squares length is 5.0\n",
      "Wind angles are : [108, 116, 118, 118, 119, 140]\n",
      "Wind speeds are : [7, 5, 6, 5, 5, 4]\n",
      "Speed gained from sails: [0, 0, 0, 0, 0, 0]\n",
      "Motor usage: [1.0, 1.0, 1.0, 1.0, 1.0, 1.0]\n",
      "Boat speeds are : [20.0, 20.0, 20.0, 20.0, 20.0, 20.0]\n",
      "The emissions for each square are: [16.0, 16.0, 16.0, 16.0, 16.0, 16.0]\n",
      "The total emissions are: 96.0\n",
      "The time need for each square is: [0.25, 0.25, 0.25, 0.25, 0.25, 0.25]\n",
      "The total time needed is: 1.5\n"
     ]
    }
   ],
   "source": [
    "#ARBITRARY CONSTANTS TO CHECK !!!\n",
    "total_distance = 30 #miles\n",
    "x_positions = 6 #nb of squares between A and B\n",
    "eta = 0.05\n",
    "motor_speed = 20 #in mph\n",
    "motor_emission_per_mile = 3.2 #in kgCO2 per mile\n",
    "\n",
    "#generating random field\n",
    "wind_angle = random_space(360,1,x_positions) #in degrees\n",
    "wind_speed = random_space(30,1,x_positions) #in mph\n",
    "square_length = total_distance/x_positions\n",
    "\n",
    "#defining the lists to be used\n",
    "list_co2 = []\n",
    "list_time = []\n",
    "list_sail_speed = []\n",
    "list_motor_percentage = []\n",
    "list_boat_speed = []\n",
    "\n",
    "#flatten the list of list into a simple list\n",
    "wind_angle = [item for sublist in wind_angle for item in sublist]\n",
    "wind_speed = [item for sublist in wind_speed for item in sublist]\n",
    "\n",
    "#evaluating the increase of speed we can reach thanks to sails \n",
    "for i in range(x_positions):\n",
    "    if open_sail(wind_angle[i],wind_speed[i]):\n",
    "        speed = boat_speed(wind_angle[i],wind_speed[i],eta)\n",
    "        if 10 > speed > 3 :\n",
    "            list_sail_speed.append(speed)\n",
    "        else: \n",
    "            list_sail_speed.append(0)\n",
    "    else: list_sail_speed.append(0)\n",
    "\n",
    "#calculating the power needed of the motor in % to reach 20mph\n",
    "list_motor_percentage = [((motor_speed-i)/motor_speed) for i in list_sail_speed]\n",
    "\n",
    "#calculating the sum of the speeds (sail + motor)\n",
    "list_boat_speed = [list_sail_speed[i] + (list_motor_percentage[i]*motor_speed) for i in range(len(list_sail_speed))]\n",
    " \n",
    "#CO2 emissions calculations\n",
    "for i in range(x_positions):\n",
    "    list_co2.append(motor_emission_per_mile*list_motor_percentage[i]*square_length)\n",
    "    \n",
    "total_emissions = sum(list_co2)\n",
    "        \n",
    "#determining the time needed for the journey\n",
    "for i in range(x_positions):\n",
    "    list_time.append(square_length/list_boat_speed[i])\n",
    "        \n",
    "total_time = sum(list_time)        \n",
    "      \n",
    "    \n",
    "#printing results\n",
    "print(\"The squares length is\", square_length)\n",
    "print(\"Wind angles are :\", wind_angle)\n",
    "print(\"Wind speeds are :\", wind_speed)\n",
    "\n",
    "print(\"Speed gained from sails:\", list_sail_speed)\n",
    "print(\"Motor usage:\",  list_motor_percentage)\n",
    "print(\"Boat speeds are :\", list_boat_speed)\n",
    "\n",
    "print(\"The emissions for each square are:\", list_co2)\n",
    "print(\"The total emissions are:\", total_emissions)\n",
    "print(\"The time need for each square is:\", list_time)\n",
    "print(\"The total time needed is:\", total_time)"
   ]
  },
  {
   "cell_type": "markdown",
   "id": "747f8d95",
   "metadata": {},
   "source": [
    "# Problem in 2 dimension"
   ]
  },
  {
   "cell_type": "code",
   "execution_count": 17,
   "id": "bd8a88b9",
   "metadata": {},
   "outputs": [
    {
     "data": {
      "text/plain": [
       "[[5.994087538411876,\n",
       "  16.0,\n",
       "  16.0,\n",
       "  16.0,\n",
       "  16.0,\n",
       "  16.0,\n",
       "  16.0,\n",
       "  6.378042037905476,\n",
       "  16.0,\n",
       "  16.0],\n",
       " [7.484472223398866,\n",
       "  16.0,\n",
       "  16.0,\n",
       "  16.0,\n",
       "  16.0,\n",
       "  16.0,\n",
       "  16.0,\n",
       "  5.895296129415533,\n",
       "  16.0,\n",
       "  16.0],\n",
       " [6.480879677766423,\n",
       "  16.0,\n",
       "  16.0,\n",
       "  16.0,\n",
       "  16.0,\n",
       "  16.0,\n",
       "  16.0,\n",
       "  6.921215557322817,\n",
       "  5.440370430894367,\n",
       "  16.0],\n",
       " [16.0, 16.0, 16.0, 16.0, 16.0, 16.0, 16.0, 16.0, 16.0, 16.0],\n",
       " [7.006805251541456, 16.0, 16.0, 16.0, 16.0, 16.0, 16.0, 16.0, 16.0, 16.0],\n",
       " [16.0, 16.0, 16.0, 16.0, 16.0, 16.0, 16.0, 16.0, 16.0, 16.0],\n",
       " [7.2463809033665685,\n",
       "  16.0,\n",
       "  16.0,\n",
       "  16.0,\n",
       "  6.403989126690428,\n",
       "  16.0,\n",
       "  16.0,\n",
       "  16.0,\n",
       "  16.0,\n",
       "  16.0],\n",
       " [16.0, 16.0, 16.0, 16.0, 16.0, 16.0, 16.0, 16.0, 16.0, 16.0],\n",
       " [16.0, 16.0, 16.0, 16.0, 16.0, 16.0, 16.0, 16.0, 16.0, 16.0],\n",
       " [16.0, 16.0, 16.0, 16.0, 5.474477042891389, 16.0, 16.0, 16.0, 16.0, 16.0]]"
      ]
     },
     "execution_count": 17,
     "metadata": {},
     "output_type": "execute_result"
    }
   ],
   "source": [
    "#ARBITRARY CONSTANTS TO CHECK !!!\n",
    "total_distance = 60 #miles\n",
    "x_positions = 10 #nb of squares between A and B\n",
    "y_positions = 10\n",
    "eta = 0.05\n",
    "motor_speed = 15 #in mph\n",
    "motor_emission_per_mile = 3.2 #in kgCO2 per mile\n",
    "\n",
    "wind_angle_matrix = random_space(360, x_positions, y_positions) #in degrees\n",
    "wind_speed_matrix = random_space(30, x_positions, y_positions) #in mph\n",
    "\n",
    "\n",
    "def single_line(wind_angle, wind_speed, print_=False):\n",
    "    \n",
    "    #defining the lists to be used\n",
    "    list_co2 = []\n",
    "    list_time = []\n",
    "    list_sail_speed = []\n",
    "    list_motor_percentage = []\n",
    "    list_boat_speed = []\n",
    "\n",
    "    #evaluating the increase of speed we can reach thanks to sails \n",
    "    for i in range(x_positions):\n",
    "        if open_sail(wind_angle[i],wind_speed[i]):\n",
    "            speed = boat_speed(wind_angle[i],wind_speed[i],eta)\n",
    "            if 10 > speed > 3 :\n",
    "                list_sail_speed.append(speed)\n",
    "            else: \n",
    "                list_sail_speed.append(0)\n",
    "        else: list_sail_speed.append(0)\n",
    "\n",
    "    #calculating the power needed of the motor in % to reach 20mph\n",
    "    list_motor_percentage = [((motor_speed-i)/motor_speed) for i in list_sail_speed]\n",
    "\n",
    "    #calculating the sum of the speeds (sail + motor)\n",
    "    list_boat_speed = [list_sail_speed[i] + (list_motor_percentage[i]*motor_speed) for i in range(len(list_sail_speed))]\n",
    "\n",
    "    #CO2 emissions calculations\n",
    "    for i in range(x_positions):\n",
    "        list_co2.append(motor_emission_per_mile*list_motor_percentage[i]*square_length)\n",
    "\n",
    "    total_emissions = sum(list_co2)\n",
    "\n",
    "    #determining the time needed for the journey\n",
    "    for i in range(x_positions):\n",
    "        list_time.append(square_length/list_boat_speed[i])\n",
    "\n",
    "    total_time = sum(list_time)\n",
    "    \n",
    "    #printing results\n",
    "    if print_:\n",
    "        print(\"The squares length is\", square_length)\n",
    "        print(\"Wind angles are :\", wind_angle)\n",
    "        print(\"Wind speeds are :\", wind_speed)\n",
    "\n",
    "        print(\"Speed gained from sails:\", list_sail_speed)\n",
    "        print(\"Motor usage:\",  list_motor_percentage)\n",
    "        print(\"Boat speeds are :\", list_boat_speed)\n",
    "\n",
    "        print(\"The emissions for each square are:\", list_co2)\n",
    "        print(\"The total emissions are:\", total_emissions)\n",
    "        print(\"The time need for each square is:\", list_time)\n",
    "        print(\"The total time needed is:\", total_time)\n",
    "        \n",
    "    return (wind_angle, wind_speed, list_sail_speed, list_boat_speed, list_co2, list_motor_percentage)\n",
    "\n",
    "path = np.zeros((y_positions, x_positions), int)\n",
    "result_wind_angle = []\n",
    "result_wind_speed = []\n",
    "result_sail_speed = []\n",
    "result_boat_speed = []\n",
    "result_co2 = []\n",
    "result_motor_percentage = []\n",
    "\n",
    "for y in range(y_positions):\n",
    "    results = single_line(wind_angle_matrix[y], wind_speed_matrix[y])\n",
    "    result_wind_angle.append(results[0])\n",
    "    result_wind_speed.append(results[1])\n",
    "    result_sail_speed.append(results[2])\n",
    "    result_boat_speed.append(results[3])\n",
    "    result_co2.append(results[4])\n",
    "    result_motor_percentage.append(results[5])\n",
    "    \n",
    "result_co2"
   ]
  },
  {
   "cell_type": "markdown",
   "id": "9b3ab41f",
   "metadata": {},
   "source": [
    "# Solver Model"
   ]
  },
  {
   "cell_type": "code",
   "execution_count": 18,
   "id": "eea1da6d",
   "metadata": {},
   "outputs": [],
   "source": [
    "solver = pywraplp.Solver.CreateSolver('CLP')\n",
    "\n",
    "x = {}\n",
    "for i in range(y_positions):\n",
    "    for j in range(x_positions):\n",
    "        x[i, j] = solver.IntVar(0, 1, '')\n",
    "        \n",
    "# Constraints\n",
    "\n",
    "middle_point = y_positions // 2  \n",
    "\n",
    "# for each x_position, we need the boat to pass by there\n",
    "for j in range(x_positions):\n",
    "    solver.Add(solver.Sum([x[i, j] for i in range(y_positions)]) == 1)\n",
    "\n",
    "# you can only move either the square in front of you either in the two closest diagonals        \n",
    "r = [middle_point-1, middle_point, middle_point+1]    \n",
    "    \n",
    "for j in range(1, x_positions):\n",
    "    for i in range(y_positions-1):\n",
    "        if i > 0 & i < y_positions-1:\n",
    "            solver.Add(x[i,j] <= x[i,j-1] + x[i-1,j-1] + x[i+1,j-1])\n",
    "        if i == 0:\n",
    "            solver.Add(x[i,j] <= x[i,j-1] + x[i+1,j-1])\n",
    "        if i == y_positions-1:\n",
    "            solver.Add(x[i,j] <= x[i,j-1] + x[i-1,j-1])\n",
    "        if j == 1:\n",
    "            solver.Add(solver.Sum([x[i, j] for i in r]) == 1) \n",
    "\n",
    "  \n",
    "#choose a specific starting point (i)\n",
    "solver.Add(x[middle_point,0] == 1)\n",
    "#chose a specific ending point (i)\n",
    "solver.Add(x[middle_point,x_positions-1] == 1)\n",
    "\n",
    "def get_distance(starting_point, end_point):\n",
    "    return math.sqrt((end_point[0]-starting_point[0])**2 + (end_point[1]-starting_point[1])**2)\n",
    "\n",
    "solver.Minimize(solver.Sum([result_co2[i][j] * x[i,j] for i in range(y_positions)\n",
    "                                                  for j in range(1,x_positions)]))\n",
    "status = solver.Solve()"
   ]
  },
  {
   "cell_type": "code",
   "execution_count": 9,
   "id": "d5f5de83",
   "metadata": {},
   "outputs": [
    {
     "ename": "NameError",
     "evalue": "name 'status' is not defined",
     "output_type": "error",
     "traceback": [
      "\u001b[0;31m---------------------------------------------------------------------------\u001b[0m",
      "\u001b[0;31mNameError\u001b[0m                                 Traceback (most recent call last)",
      "Input \u001b[0;32mIn [9]\u001b[0m, in \u001b[0;36m<cell line: 1>\u001b[0;34m()\u001b[0m\n\u001b[0;32m----> 1\u001b[0m \u001b[43mstatus\u001b[49m\n",
      "\u001b[0;31mNameError\u001b[0m: name 'status' is not defined"
     ]
    }
   ],
   "source": [
    "status"
   ]
  },
  {
   "cell_type": "code",
   "execution_count": 81,
   "id": "2c3adc1b",
   "metadata": {},
   "outputs": [
    {
     "name": "stdout",
     "output_type": "stream",
     "text": [
      "Total co2 =  110.14684590321852 \n",
      "\n",
      "x_position 0 took y_position 5.  CO2 = 16\n",
      "x_position 1 took y_position 4.  CO2 = 16\n",
      "x_position 2 took y_position 5.  CO2 = 16\n",
      "x_position 3 took y_position 6.  CO2 = 6\n",
      "x_position 4 took y_position 5.  CO2 = 6\n",
      "x_position 5 took y_position 4.  CO2 = 8\n",
      "x_position 6 took y_position 3.  CO2 = 8\n",
      "x_position 7 took y_position 3.  CO2 = 16\n",
      "x_position 8 took y_position 4.  CO2 = 16\n",
      "x_position 9 took y_position 5.  CO2 = 16\n"
     ]
    }
   ],
   "source": [
    "# Print solution.\n",
    "if status == pywraplp.Solver.OPTIMAL:\n",
    "    print('Total co2 = ', solver.Objective().Value(), '\\n')\n",
    "    for j in range(x_positions):\n",
    "        for i in range(y_positions):\n",
    "            # Test if x[i,j] is 1 (with tolerance for floating point arithmetic).\n",
    "            if x[i, j].solution_value() > 0.5:\n",
    "                print('x_position %d took y_position %d.  CO2 = %d' %\n",
    "                  (j, i, result_co2[i][j]))"
   ]
  },
  {
   "cell_type": "code",
   "execution_count": 82,
   "id": "ff043f5f",
   "metadata": {},
   "outputs": [
    {
     "name": "stdout",
     "output_type": "stream",
     "text": [
      "+---+---+---+---+---+---+---+---+---+---+\n",
      "|   |   |   |   |   |   |   |   |   |   |\n",
      "+---+---+---+---+---+---+---+---+---+---+\n",
      "|   |   |   |   |   |   |   |   |   |   |\n",
      "+---+---+---+---+---+---+---+---+---+---+\n",
      "|   |   |   |   |   |   |   |   |   |   |\n",
      "+---+---+---+---+---+---+---+---+---+---+\n",
      "|   |   |   |   |   |   | # | # |   |   |\n",
      "+---+---+---+---+---+---+---+---+---+---+\n",
      "|   | # |   |   |   | # |   |   | # |   |\n",
      "+---+---+---+---+---+---+---+---+---+---+\n",
      "| # |   | # |   | # |   |   |   |   | # |\n",
      "+---+---+---+---+---+---+---+---+---+---+\n",
      "|   |   |   | # |   |   |   |   |   |   |\n",
      "+---+---+---+---+---+---+---+---+---+---+\n",
      "|   |   |   |   |   |   |   |   |   |   |\n",
      "+---+---+---+---+---+---+---+---+---+---+\n",
      "|   |   |   |   |   |   |   |   |   |   |\n",
      "+---+---+---+---+---+---+---+---+---+---+\n",
      "|   |   |   |   |   |   |   |   |   |   |\n",
      "+---+---+---+---+---+---+---+---+---+---+\n"
     ]
    }
   ],
   "source": [
    "#create a variavle path that store the solution from the solver\n",
    "for j in range(x_positions):\n",
    "        for i in range(y_positions):\n",
    "            # Test if x[i,j] is 1 (with tolerance for floating point arithmetic).\n",
    "            path[i,j] = (x[i,j].solution_value())\n",
    "\n",
    "# function to represent the solution graphically            \n",
    "def show_table(path):\n",
    "    results = path.tolist()          \n",
    "    for i in range(len(results)):\n",
    "        for j in range(len(results[i])):\n",
    "            if results[i][j] == 1:\n",
    "                results[i][j] = \"#\"\n",
    "            elif results[i][j] == 0:\n",
    "                results[i][j] = \"\"\n",
    "    print(tabulate(list(map(tuple, results)), tablefmt=\"grid\", stralign=\"center\"))\n",
    "\n",
    "show_table(path)"
   ]
  },
  {
   "cell_type": "markdown",
   "id": "98790dd6",
   "metadata": {},
   "source": [
    "# Creating measures of the field to calculate distance and velocity"
   ]
  },
  {
   "cell_type": "code",
   "execution_count": 83,
   "id": "ed9bde8c",
   "metadata": {},
   "outputs": [],
   "source": [
    "# define hight of the map\n",
    "tot_y_distance = 60 #miles\n",
    "tot_x_distance = total_distance #miles\n",
    "y_square = tot_y_distance/y_positions\n",
    "x_square = tot_x_distance/x_positions"
   ]
  },
  {
   "cell_type": "code",
   "execution_count": 84,
   "id": "159c15f8",
   "metadata": {},
   "outputs": [
    {
     "name": "stdout",
     "output_type": "stream",
     "text": [
      "+-------------+-------------+--------------+--------------+--------------+--------------+--------------+--------------+--------------+--------------+\n",
      "| (0.0, 0.0)  | (0.0, 6.0)  | (0.0, 12.0)  | (0.0, 18.0)  | (0.0, 24.0)  | (0.0, 30.0)  | (0.0, 36.0)  | (0.0, 42.0)  | (0.0, 48.0)  | (0.0, 54.0)  |\n",
      "+-------------+-------------+--------------+--------------+--------------+--------------+--------------+--------------+--------------+--------------+\n",
      "| (6.0, 0.0)  | (6.0, 6.0)  | (6.0, 12.0)  | (6.0, 18.0)  | (6.0, 24.0)  | (6.0, 30.0)  | (6.0, 36.0)  | (6.0, 42.0)  | (6.0, 48.0)  | (6.0, 54.0)  |\n",
      "+-------------+-------------+--------------+--------------+--------------+--------------+--------------+--------------+--------------+--------------+\n",
      "| (12.0, 0.0) | (12.0, 6.0) | (12.0, 12.0) | (12.0, 18.0) | (12.0, 24.0) | (12.0, 30.0) | (12.0, 36.0) | (12.0, 42.0) | (12.0, 48.0) | (12.0, 54.0) |\n",
      "+-------------+-------------+--------------+--------------+--------------+--------------+--------------+--------------+--------------+--------------+\n",
      "| (18.0, 0.0) | (18.0, 6.0) | (18.0, 12.0) | (18.0, 18.0) | (18.0, 24.0) | (18.0, 30.0) | (18.0, 36.0) | (18.0, 42.0) | (18.0, 48.0) | (18.0, 54.0) |\n",
      "+-------------+-------------+--------------+--------------+--------------+--------------+--------------+--------------+--------------+--------------+\n",
      "| (24.0, 0.0) | (24.0, 6.0) | (24.0, 12.0) | (24.0, 18.0) | (24.0, 24.0) | (24.0, 30.0) | (24.0, 36.0) | (24.0, 42.0) | (24.0, 48.0) | (24.0, 54.0) |\n",
      "+-------------+-------------+--------------+--------------+--------------+--------------+--------------+--------------+--------------+--------------+\n",
      "| (30.0, 0.0) | (30.0, 6.0) | (30.0, 12.0) | (30.0, 18.0) | (30.0, 24.0) | (30.0, 30.0) | (30.0, 36.0) | (30.0, 42.0) | (30.0, 48.0) | (30.0, 54.0) |\n",
      "+-------------+-------------+--------------+--------------+--------------+--------------+--------------+--------------+--------------+--------------+\n",
      "| (36.0, 0.0) | (36.0, 6.0) | (36.0, 12.0) | (36.0, 18.0) | (36.0, 24.0) | (36.0, 30.0) | (36.0, 36.0) | (36.0, 42.0) | (36.0, 48.0) | (36.0, 54.0) |\n",
      "+-------------+-------------+--------------+--------------+--------------+--------------+--------------+--------------+--------------+--------------+\n",
      "| (42.0, 0.0) | (42.0, 6.0) | (42.0, 12.0) | (42.0, 18.0) | (42.0, 24.0) | (42.0, 30.0) | (42.0, 36.0) | (42.0, 42.0) | (42.0, 48.0) | (42.0, 54.0) |\n",
      "+-------------+-------------+--------------+--------------+--------------+--------------+--------------+--------------+--------------+--------------+\n",
      "| (48.0, 0.0) | (48.0, 6.0) | (48.0, 12.0) | (48.0, 18.0) | (48.0, 24.0) | (48.0, 30.0) | (48.0, 36.0) | (48.0, 42.0) | (48.0, 48.0) | (48.0, 54.0) |\n",
      "+-------------+-------------+--------------+--------------+--------------+--------------+--------------+--------------+--------------+--------------+\n",
      "| (54.0, 0.0) | (54.0, 6.0) | (54.0, 12.0) | (54.0, 18.0) | (54.0, 24.0) | (54.0, 30.0) | (54.0, 36.0) | (54.0, 42.0) | (54.0, 48.0) | (54.0, 54.0) |\n",
      "+-------------+-------------+--------------+--------------+--------------+--------------+--------------+--------------+--------------+--------------+\n"
     ]
    }
   ],
   "source": [
    "coordinates_field = [[(y_square*i,x_square*j) for j in range(x_positions)] for i in range(y_positions)]\n",
    "print(tabulate(coordinates_field, tablefmt=\"grid\", stralign=\"center\"))"
   ]
  },
  {
   "cell_type": "code",
   "execution_count": 85,
   "id": "9b1215d8",
   "metadata": {},
   "outputs": [
    {
     "name": "stdout",
     "output_type": "stream",
     "text": [
      "going straight: 6.0\n",
      "going diagonally: 8.48528137423857\n"
     ]
    }
   ],
   "source": [
    "# we start from (10,0)\n",
    "start_point = coordinates_field[1][0]\n",
    "# we go straight\n",
    "straight_point = coordinates_field[1][1]\n",
    "# we go diagonally\n",
    "diagonal_point = coordinates_field[0][1]\n",
    "\n",
    "def get_distance(starting_point, end_point):\n",
    "    return math.sqrt((end_point[0]-starting_point[0])**2 + (end_point[1]-starting_point[1])**2)\n",
    "\n",
    "print(\"going straight:\", get_distance(start_point, straight_point))\n",
    "print(\"going diagonally:\", get_distance(start_point, diagonal_point))"
   ]
  },
  {
   "cell_type": "code",
   "execution_count": 86,
   "id": "fa318098",
   "metadata": {},
   "outputs": [
    {
     "name": "stdout",
     "output_type": "stream",
     "text": [
      "total distance: 73.88225099390856 miles\n"
     ]
    }
   ],
   "source": [
    "def get_path_distance(path, coordinates_field):\n",
    "    passed_by = []\n",
    "    for j in range(x_positions):\n",
    "        for i in range(y_positions):\n",
    "            if path[i][j] == 1:\n",
    "                passed_by.append(coordinates_field[i][j])\n",
    "    total_distances = [0]            \n",
    "    for way in range(len(passed_by)-1):\n",
    "        total_distances.append(get_distance(passed_by[way], passed_by[way+1]))\n",
    "    return total_distances\n",
    "\n",
    "print(\"total distance: {} miles\".format(sum(get_path_distance(path, coordinates_field))))"
   ]
  },
  {
   "cell_type": "markdown",
   "id": "4720c4d0",
   "metadata": {},
   "source": [
    "# Results"
   ]
  },
  {
   "cell_type": "code",
   "execution_count": null,
   "id": "ef2a1d8b",
   "metadata": {},
   "outputs": [],
   "source": [
    "#calculate the resulting emission\n",
    "co2_path = path*result_co2\n",
    "co2_consumption = co2_path[co2_path!=0]\n",
    "co2_consumption"
   ]
  },
  {
   "cell_type": "code",
   "execution_count": null,
   "id": "f7ab498b",
   "metadata": {},
   "outputs": [],
   "source": []
  },
  {
   "cell_type": "code",
   "execution_count": null,
   "id": "be1cc212",
   "metadata": {},
   "outputs": [],
   "source": []
  },
  {
   "cell_type": "code",
   "execution_count": null,
   "id": "6305b540",
   "metadata": {},
   "outputs": [],
   "source": []
  },
  {
   "cell_type": "code",
   "execution_count": null,
   "id": "cfa04e6d",
   "metadata": {},
   "outputs": [],
   "source": [
    "passed_by = np.zeros((y_positions, x_positions), int)\n",
    "passed_by[i,j] = path[i,j] + passed_by[i,j]\n",
    "get_distance(passed_by[1], passed_by[1+1])"
   ]
  },
  {
   "cell_type": "code",
   "execution_count": null,
   "id": "b6e7431b",
   "metadata": {},
   "outputs": [],
   "source": [
    "def get_distance(starting_point, end_point):\n",
    "    return math.sqrt((end_point[0]-starting_point[0])**2 + (end_point[1]-starting_point[1])**2)"
   ]
  },
  {
   "cell_type": "code",
   "execution_count": null,
   "id": "d1884e3c",
   "metadata": {},
   "outputs": [],
   "source": []
  },
  {
   "cell_type": "code",
   "execution_count": 19,
   "id": "d7d7fbda",
   "metadata": {},
   "outputs": [],
   "source": [
    "from ortools.linear_solver import pywraplp\n",
    "\n",
    "# define the solver\n",
    "solver = pywraplp.Solver('SolveShortestPathProblem',\n",
    "                         pywraplp.Solver.CLP_LINEAR_PROGRAMMING)\n",
    "\n",
    "# define the matrix\n",
    "matrix = [[5, 2, 3, 4, 5, 6],\n",
    "          [5, 2, 3, 4, 7, 6],\n",
    "          [5, 4, 5, 0, 5, 6],\n",
    "          [6, 6, 5, 4, 1, 10],\n",
    "          [8, 2, 3, 6, 4, 6],\n",
    "          [9, 2, 3, 4, 6, 6]]\n",
    "\n",
    "# define the variables\n",
    "path = {}\n",
    "for i in range(6):\n",
    "    for j in range(6):\n",
    "        path[i, j] = solver.IntVar(0, 1, 'path[%i,%i]' % (i, j))\n",
    "\n",
    "# define the constraints\n",
    "# each position can be visited only once\n",
    "for i in range(6):\n",
    "    for j in range(6):\n",
    "        solver.Add(solver.Sum([path[i, j] for i in range(6) for j in range(6)]) == 1)\n",
    "\n",
    "# the path must start at position (3,0) and end at position (3,5)\n",
    "solver.Add(path[3, 0] == 1)\n",
    "solver.Add(path[3, 5] == 1)\n",
    "\n",
    "# the path must pass through each column exactly once\n",
    "for j in range(6):\n",
    "    solver.Add(solver.Sum([path[i, j] for i in range(6)]) == 1)\n",
    "\n",
    "# the path can only move in straight or diagonal directions\n",
    "for i in range(6):\n",
    "    for j in range(6):\n",
    "        if i > 0:\n",
    "            solver.Add(path[i, j] <= path[i - 1, j])\n",
    "        if i < 5:\n",
    "            solver.Add(path[i, j] <= path[i + 1, j])\n",
    "        if j > 0:\n",
    "            solver.Add(path[i, j] <= path[i, j - 1])\n",
    "        if j < 5:\n",
    "            solver.Add(path[i, j] <= path[i, j + 1])\n",
    "        if i > 0 and j > 0:\n",
    "            solver.Add(path[i, j] <= path[i - 1, j - 1])\n",
    "        if i > 0 and j < 5:\n",
    "            solver.Add(path[i, j] <= path[i - 1, j + 1])\n",
    "        if i < 5 and j > 0:\n",
    "            solver.Add(path[i, j] <= path[i + 1, j - 1])\n",
    "        if i < 5 and j < 5:\n",
    "            solver.Add(path[i, j] <= path[i + 1, j + 1])\n"
   ]
  },
  {
   "cell_type": "code",
   "execution_count": 20,
   "id": "47c8c754",
   "metadata": {},
   "outputs": [
    {
     "name": "stdout",
     "output_type": "stream",
     "text": [
      "The problem does not have an optimal solution.\n"
     ]
    }
   ],
   "source": [
    "# minimize the total distance of the path\n",
    "total_distance = solver.Sum([matrix[i][j] * path[i, j]\n",
    "                             for i in range(6)\n",
    "                             for j in range(6)])\n",
    "solver.Minimize(total_distance)\n",
    "\n",
    "# solve the problem\n",
    "status = solver.Solve()\n",
    "\n",
    "# print the results\n",
    "if status == pywraplp.Solver.OPTIMAL:\n",
    "    print('Minimum distance:', solver.Objective().Value())\n",
    "    for i in range(6):\n",
    "        for j in range(6):\n",
    "            if path[i, j].solution_value() > 0:\n",
    "                print('Position (%i, %i) is part of the path.' % (i, j))\n",
    "else:\n",
    "    print('The problem does not have an optimal solution.')"
   ]
  },
  {
   "cell_type": "code",
   "execution_count": null,
   "id": "fba61bb0",
   "metadata": {},
   "outputs": [],
   "source": []
  },
  {
   "cell_type": "code",
   "execution_count": 56,
   "id": "64bac351",
   "metadata": {},
   "outputs": [
    {
     "name": "stdout",
     "output_type": "stream",
     "text": [
      "[1, 2, 3]\n",
      "Total co2 =  80.0 \n",
      "\n",
      "x_position 0 took y_position 2.  CO2 = 16\n",
      "x_position 1 took y_position 1.  CO2 = 16\n",
      "x_position 2 took y_position 0.  CO2 = 0\n",
      "x_position 2 took y_position 2.  CO2 = 0\n",
      "x_position 3 took y_position 2.  CO2 = 16\n",
      "x_position 3 took y_position 3.  CO2 = 16\n",
      "x_position 4 took y_position 3.  CO2 = 0\n",
      "x_position 5 took y_position 2.  CO2 = 16\n",
      "x_position 6 took y_position 2.  CO2 = 16\n",
      "+---+---+--+--+---+---+---+\n",
      "|   |   |  |  |   |   |   |\n",
      "+---+---+--+--+---+---+---+\n",
      "|   | # |  |  |   |   |   |\n",
      "+---+---+--+--+---+---+---+\n",
      "| # |   |  |  |   | # | # |\n",
      "+---+---+--+--+---+---+---+\n",
      "|   |   |  |  | # |   |   |\n",
      "+---+---+--+--+---+---+---+\n",
      "|   |   |  |  |   |   |   |\n",
      "+---+---+--+--+---+---+---+\n"
     ]
    }
   ],
   "source": [
    "#ARBITRARY CONSTANTS TO CHECK !!!\n",
    "total_distance = 60 #miles\n",
    "x_positions = 7 #nb of squares between A and B\n",
    "y_positions = 5\n",
    "eta = 0.05\n",
    "motor_speed = 20 #in mph\n",
    "motor_emission_per_mile = 3.2 #in kgCO2 per mile\n",
    "\n",
    "wind_angle_matrix = random_space(360, x_positions, y_positions) #in degrees\n",
    "wind_speed_matrix = random_space(30, x_positions, y_positions) #in mph\n",
    "\n",
    "\n",
    "def single_line(wind_angle, wind_speed, print_=False):\n",
    "    \n",
    "    #defining the lists to be used\n",
    "    list_sail = []\n",
    "    list_boat_speed = []\n",
    "    list_co2 = []\n",
    "    list_time = []\n",
    "    \n",
    "    for i in range(x_positions):\n",
    "        #evaluating if we open the sails for each position\n",
    "        list_sail.append(open_sail(wind_angle[i],wind_speed[i]))\n",
    "\n",
    "        #determining the boat speeds depending on whether we use sails on motor   \n",
    "        if list_sail[i]==True:\n",
    "            list_boat_speed.append(boat_speed(wind_angle[i],wind_speed[i],eta))\n",
    "\n",
    "        else:\n",
    "            list_boat_speed.append(motor_speed)\n",
    "\n",
    "        #CO2 emissions calculations    \n",
    "        if list_sail[i]==True:\n",
    "            list_co2.append(0)\n",
    "\n",
    "        else:\n",
    "            list_co2.append(motor_emission_per_mile*square_length)\n",
    "\n",
    "        #determining the time needed for the journey    \n",
    "        list_time.append(square_length/list_boat_speed[i])    \n",
    "\n",
    "    #printing results\n",
    "    if print_:\n",
    "        print(\"Wind angles are :\", wind_angle)\n",
    "        print(\"Wind speeds are :\", wind_speed)\n",
    "        print(\"We open the sails :\", list_sail)\n",
    "        print(\"Boat speeds are :\", list_boat_speed)\n",
    "    return (wind_angle,wind_speed, list_sail,list_boat_speed, list_co2)\n",
    "\n",
    "path = np.zeros((y_positions, x_positions), int)\n",
    "result_wind_angle = []\n",
    "result_wind_speed = []\n",
    "result_sail = []\n",
    "result_boat_speed = []\n",
    "result_co2 = []\n",
    "\n",
    "for y in range(y_positions):\n",
    "    results = single_line(wind_angle_matrix[y], wind_speed_matrix[y])\n",
    "    result_wind_angle.append(results[0])\n",
    "    result_wind_speed.append(results[1])\n",
    "    result_sail.append(results[2])\n",
    "    result_boat_speed.append(results[3])\n",
    "    result_co2.append(results[4])\n",
    "    \n",
    "result_co2\n",
    "\n",
    "\n",
    "result_co2[1][2] =16.\n",
    "result_co2\n",
    "\n",
    "\n",
    "## New test\n",
    "\n",
    "solver = pywraplp.Solver.CreateSolver('CLP')\n",
    "\n",
    "x = {}\n",
    "for i in range(y_positions):\n",
    "    for j in range(x_positions):\n",
    "        x[i, j] = solver.IntVar(0, 1, '')\n",
    "\n",
    "# Define the constraints\n",
    "middle_point = middle_point = y_positions // 2 \n",
    "# The starting and ending points are fixed\n",
    "solver.Add(x[middle_point,0] == 1)\n",
    "solver.Add(x[middle_point,x_positions-1] == 1)\n",
    "\n",
    "\n",
    "r = [middle_point-1, middle_point, middle_point+1]\n",
    "print(r)\n",
    "\n",
    "\n",
    "# For each column, only one variable can take the value 1\n",
    "for j in range(x_positions):\n",
    "    solver.Add(solver.Sum([x[i,j] for i in range(y_positions)]) == 1)\n",
    "    # Force second column constraint to follow from middle point and be have only allowed potential solutions\n",
    "    \n",
    "\n",
    "\n",
    "# For each column, the only allowed movements from the previous column are\n",
    "# to the same row, the up-diagonal, or the low-diagonal\n",
    "for j in range(1, x_positions):\n",
    "    for i in range(y_positions):\n",
    "        if i > 0 and i < y_positions-1:\n",
    "            solver.Add(x[i,j] <= x[i,j-1] + x[i-1,j-1] + x[i+1,j-1])\n",
    "        if i == 0:\n",
    "            solver.Add(x[i,j] <= x[i,j-1] + x[i+1,j-1])\n",
    "        if i == y_positions-1:\n",
    "            solver.Add(x[i,j] <= x[i,j-1] + x[i-1,j-1])\n",
    "        if j == 1:\n",
    "            solver.Add(solver.Sum([x[i, j] for i in r]) == 1)\n",
    "\n",
    "\n",
    "# for each x_position, we need the boat to pass by there\n",
    "for j in range(x_positions):\n",
    "    solver.Add(solver.Sum([x[i, j] for i in range(y_positions)]) == 1)\n",
    "\n",
    "\n",
    "\n",
    "\n",
    "\n",
    "solver.Minimize(solver.Sum([result_co2[i][j] * x[i,j] for i in range(y_positions)\n",
    "                                                  for j in range(x_positions)]))\n",
    "status = solver.Solve()\n",
    "\n",
    "\n",
    "\n",
    "# Print solution.\n",
    "if status == pywraplp.Solver.OPTIMAL:\n",
    "    print('Total co2 = ', solver.Objective().Value(), '\\n')\n",
    "    for j in range(x_positions):\n",
    "        for i in range(y_positions):\n",
    "            # Test if x[i,j] is 1 (with tolerance for floating point arithmetic).\n",
    "            if x[i, j].solution_value() >= 0.5:\n",
    "                print('x_position %d took y_position %d.  CO2 = %d' %\n",
    "                      (j, i, result_co2[i][j]))\n",
    "\n",
    "\n",
    "for j in range(x_positions):\n",
    "        for i in range(y_positions):\n",
    "            # Test if x[i,j] is 1 (with tolerance for floating point arithmetic).\n",
    "            path[i,j] = (x[i,j].solution_value())\n",
    "\n",
    "def show_table(path):\n",
    "    results = path.tolist()          \n",
    "    for i in range(len(results)):\n",
    "        for j in range(len(results[i])):\n",
    "            if results[i][j] == 1:\n",
    "                results[i][j] = \"#\"\n",
    "            elif results[i][j] == 0:\n",
    "                results[i][j] = \"\"\n",
    "    print(tabulate(list(map(tuple, results)), tablefmt=\"grid\", stralign=\"center\"))\n",
    "\n",
    "show_table(path)"
   ]
  },
  {
   "cell_type": "code",
   "execution_count": 41,
   "id": "8a55cee8",
   "metadata": {},
   "outputs": [
    {
     "data": {
      "text/plain": [
       "[[16.0, 0, 16.0, 0, 16.0, 0, 0],\n",
       " [16.0, 0, 16.0, 0, 16.0, 0, 0],\n",
       " [16.0, 0, 16.0, 0, 16.0, 0, 16.0],\n",
       " [16.0, 16.0, 16.0, 0, 16.0, 0, 16.0],\n",
       " [16.0, 16.0, 16.0, 0, 16.0, 0, 0]]"
      ]
     },
     "execution_count": 41,
     "metadata": {},
     "output_type": "execute_result"
    }
   ],
   "source": [
    "result_co2"
   ]
  },
  {
   "cell_type": "code",
   "execution_count": 60,
   "id": "8b3ff203",
   "metadata": {},
   "outputs": [
    {
     "name": "stdout",
     "output_type": "stream",
     "text": [
      "\n",
      "\n",
      "0.0\n",
      "0.0\n",
      "1.0\n",
      "0.0\n",
      "0.0\n",
      "\n",
      "\n",
      "0.0\n",
      "1.0\n",
      "0.0\n",
      "0.0\n",
      "0.0\n",
      "\n",
      "\n",
      "0.5\n",
      "0.0\n",
      "0.5\n",
      "0.0\n",
      "0.0\n",
      "\n",
      "\n",
      "0.0\n",
      "0.0\n",
      "0.5\n",
      "0.5\n",
      "0.0\n",
      "\n",
      "\n",
      "0.0\n",
      "0.0\n",
      "0.0\n",
      "1.0\n",
      "0.0\n",
      "\n",
      "\n",
      "0.0\n",
      "0.0\n",
      "1.0\n",
      "0.0\n",
      "0.0\n",
      "\n",
      "\n",
      "0.0\n",
      "0.0\n",
      "1.0\n",
      "0.0\n",
      "0.0\n"
     ]
    }
   ],
   "source": [
    "for j in range(x_positions):\n",
    "    print(\"\\n\")\n",
    "    for i in range(y_positions):\n",
    "               print(x[i,j].solution_value())\n",
    "                \n",
    "                "
   ]
  },
  {
   "cell_type": "code",
   "execution_count": 53,
   "id": "f48465a6",
   "metadata": {},
   "outputs": [
    {
     "data": {
      "text/plain": [
       "array([[0, 0, 0, 0, 0, 0, 0],\n",
       "       [0, 1, 0, 0, 0, 1, 0],\n",
       "       [1, 0, 0, 0, 0, 0, 1],\n",
       "       [0, 0, 0, 0, 0, 0, 0],\n",
       "       [0, 0, 0, 0, 0, 0, 0]])"
      ]
     },
     "execution_count": 53,
     "metadata": {},
     "output_type": "execute_result"
    }
   ],
   "source": [
    "path"
   ]
  }
 ],
 "metadata": {
  "kernelspec": {
   "display_name": "Python 3 (ipykernel)",
   "language": "python",
   "name": "python3"
  },
  "language_info": {
   "codemirror_mode": {
    "name": "ipython",
    "version": 3
   },
   "file_extension": ".py",
   "mimetype": "text/x-python",
   "name": "python",
   "nbconvert_exporter": "python",
   "pygments_lexer": "ipython3",
   "version": "3.9.12"
  }
 },
 "nbformat": 4,
 "nbformat_minor": 5
}
