{
 "cells": [
  {
   "cell_type": "code",
   "execution_count": 2,
   "id": "196eaffe",
   "metadata": {},
   "outputs": [],
   "source": [
    "import math\n",
    "from scipy.optimize import rosen\n",
    "from scipy.optimize import fsolve\n",
    "import ortools\n",
    "\n",
    "import matplotlib.pyplot as plt"
   ]
  },
  {
   "cell_type": "code",
   "execution_count": 89,
   "id": "51d24ff5",
   "metadata": {},
   "outputs": [
    {
     "name": "stdout",
     "output_type": "stream",
     "text": [
      "a0: 1 and VB: -10.023145028390143\n",
      "a0: 11 and VB: 7.284340989954599\n",
      "a0: 21 and VB: 12.17523173098572\n",
      "a0: 31 and VB: 16.256802551906826\n",
      "a0: 41 and VB: 19.723695262550066\n",
      "a0: 51 and VB: 22.643149682114263\n",
      "a0: 61 and VB: 25.03587223156829\n",
      "a0: 71 and VB: 26.902297917862196\n",
      "a0: 81 and VB: 28.233506971920598\n",
      "a0: 91 and VB: 845.5401977356662\n",
      "a0: 101 and VB: 65472.24181358112\n",
      "a0: 111 and VB: 498.93852438238645\n",
      "a0: 121 and VB: 27.92524382847948\n",
      "a0: 131 and VB: 26.35957827753804\n",
      "a0: 141 and VB: 24.156024998109462\n",
      "a0: 151 and VB: 21.27527530555433\n",
      "a0: 161 and VB: 17.6499201842131\n",
      "a0: 171 and VB: 13.208893673983779\n",
      "a0: 181 and VB: 9.975487895290517\n",
      "a0: 191 and VB: 14.157184729765714\n",
      "a0: 201 and VB: 18.439050244771572\n",
      "a0: 211 and VB: 21.908301637476512\n",
      "a0: 221 and VB: 24.649352422655358\n",
      "a0: 231 and VB: 26.7228037318256\n",
      "a0: 241 and VB: 28.16417228972917\n",
      "a0: 251 and VB: 28.996661059181754\n",
      "a0: 261 and VB: 29.238116940570098\n",
      "a0: 271 and VB: 845.1911496069193\n",
      "a0: 281 and VB: 65468.42563367619\n",
      "a0: 291 and VB: 491.77116539148335\n",
      "a0: 301 and VB: 24.59926492667706\n",
      "a0: 311 and VB: 22.101668342370395\n",
      "a0: 321 and VB: 19.07533733277104\n",
      "a0: 331 and VB: 15.493183852003066\n",
      "a0: 341 and VB: 11.272278986960021\n",
      "a0: 351 and VB: 6.167708932904542\n"
     ]
    }
   ],
   "source": [
    "# 0<a0<180\n",
    "for a0 in range(1,360,10) :\n",
    "    #a0 = 30\n",
    "    VW = 10\n",
    "    eta = 0.001\n",
    "\n",
    "\n",
    "    f = lambda a: math.sin(math.pi*a0/180) * math.sin(math.pi*a/180) * math.pow((math.sin(math.pi*a/180/2) / math.sin(math.pi*a0/180-math.pi*a/180)), 2)-VW * eta\n",
    "    a = fsolve(f, [0])[0]\n",
    "    #print(\"a:\", a)\n",
    "    VB = VW * (math.sin(math.pi*(a0-a)/180)/math.sin(math.pi*a/180))\n",
    "    print(\"a0:\",a0,\"and VB:\", VB)\n",
    "\n"
   ]
  },
  {
   "cell_type": "code",
   "execution_count": null,
   "id": "d85d6b88",
   "metadata": {},
   "outputs": [],
   "source": []
  }
 ],
 "metadata": {
  "kernelspec": {
   "display_name": "Python 3 (ipykernel)",
   "language": "python",
   "name": "python3"
  },
  "language_info": {
   "codemirror_mode": {
    "name": "ipython",
    "version": 3
   },
   "file_extension": ".py",
   "mimetype": "text/x-python",
   "name": "python",
   "nbconvert_exporter": "python",
   "pygments_lexer": "ipython3",
   "version": "3.9.7"
  }
 },
 "nbformat": 4,
 "nbformat_minor": 5
}
