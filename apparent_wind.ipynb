{
 "cells": [
  {
   "cell_type": "code",
   "execution_count": 2,
   "id": "196eaffe",
   "metadata": {},
   "outputs": [],
   "source": [
    "import math\n",
    "from scipy.optimize import rosen\n",
    "from scipy.optimize import fsolve\n",
    "import ortools\n",
    "\n",
    "import matplotlib.pyplot as plt"
   ]
  },
  {
   "cell_type": "code",
   "execution_count": 4,
   "id": "51d24ff5",
   "metadata": {},
   "outputs": [
    {
     "name": "stdout",
     "output_type": "stream",
     "text": [
      "a0: 1 and VB: -30.65927123966384\n",
      "a0: 11 and VB: -38.481738846912506\n",
      "a0: 21 and VB: -33.82571588899388\n",
      "a0: 31 and VB: -1.7697139279538863\n",
      "a0: 41 and VB: -2.3556404779859217\n",
      "a0: 51 and VB: 2.5604489828010317\n",
      "a0: 61 and VB: 2.9872013778495194\n",
      "a0: 71 and VB: 3.3834665671763213\n",
      "a0: 81 and VB: -4.614716728185721\n",
      "a0: 91 and VB: -5.118439254138298\n",
      "a0: 101 and VB: 133.774175123245\n",
      "a0: 111 and VB: -6.001425419032583\n",
      "a0: 121 and VB: 4.84247786651183\n",
      "a0: 131 and VB: 5.0227409982152444\n",
      "a0: 141 and VB: -6.947121636533806\n",
      "a0: 151 and VB: 5.274126905001858\n",
      "a0: 161 and VB: 5.348454622013815\n",
      "a0: 171 and VB: 5.3909584395388075\n",
      "a0: 181 and VB: 5.40297441409629\n",
      "a0: 191 and VB: 5.384928482750714\n",
      "a0: 201 and VB: 5.336189486953641\n",
      "a0: 211 and VB: 5.255285152502064\n",
      "a0: 221 and VB: 5.140361848271082\n",
      "a0: 231 and VB: 4.989670962232302\n",
      "a0: 241 and VB: 4.801922348061255\n",
      "a0: 251 and VB: 4.576461955983881\n",
      "a0: 261 and VB: 4.313309116637747\n",
      "a0: 271 and VB: -5.020656837284708\n",
      "a0: 281 and VB: 126.1418153081884\n",
      "a0: 291 and VB: -3.9679079308303256\n",
      "a0: 301 and VB: 2.904216113279161\n",
      "a0: 311 and VB: 59.137781994231126\n",
      "a0: 321 and VB: -2.2383373961670903\n",
      "a0: 331 and VB: -1.6529205819687032\n",
      "a0: 341 and VB: -34.87593544548007\n",
      "a0: 351 and VB: -39.718910053495506\n"
     ]
    }
   ],
   "source": [
    "# 0<a0<180\n",
    "for a0 in range(1,360,10) :\n",
    "    #a0 = 30\n",
    "    VW = 20\n",
    "    eta = 0.5\n",
    "\n",
    "\n",
    "    f = lambda a: math.sin(math.pi*a0/180) * math.sin(math.pi*a/180) * math.pow((math.sin(math.pi*a/180/2) / math.sin(math.pi*a0/180-math.pi*a/180)), 2)-VW * eta\n",
    "    a = fsolve(f, [0])[0]\n",
    "    #print(\"a:\", a)\n",
    "    VB = VW * (math.sin(math.pi*(a0-a)/180)/math.sin(math.pi*a/180))\n",
    "    print(\"a0:\",a0,\"and VB:\", VB)\n",
    "\n"
   ]
  },
  {
   "cell_type": "code",
   "execution_count": null,
   "id": "d85d6b88",
   "metadata": {},
   "outputs": [],
   "source": []
  }
 ],
 "metadata": {
  "kernelspec": {
   "display_name": "Python 3 (ipykernel)",
   "language": "python",
   "name": "python3"
  },
  "language_info": {
   "codemirror_mode": {
    "name": "ipython",
    "version": 3
   },
   "file_extension": ".py",
   "mimetype": "text/x-python",
   "name": "python",
   "nbconvert_exporter": "python",
   "pygments_lexer": "ipython3",
   "version": "3.9.12"
  }
 },
 "nbformat": 4,
 "nbformat_minor": 5
}
