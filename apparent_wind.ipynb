{
 "cells": [
  {
   "cell_type": "code",
   "execution_count": 3,
   "id": "196eaffe",
   "metadata": {},
   "outputs": [],
   "source": [
    "import math\n",
    "from scipy.optimize import rosen\n",
    "from scipy.optimize import fsolve\n",
    "import ortools\n",
    "\n",
    "import matplotlib.pyplot as plt"
   ]
  },
  {
   "cell_type": "code",
   "execution_count": 6,
   "id": "51d24ff5",
   "metadata": {},
   "outputs": [
    {
     "name": "stdout",
     "output_type": "stream",
     "text": [
      "a0: 1 and VB: -19.99024419941607\n",
      "a0: 11 and VB: -19.240869423456253\n",
      "a0: 21 and VB: -17.129449613819933\n",
      "a0: 31 and VB: -5.3351174820742795\n",
      "a0: 41 and VB: 4.141609816641042\n",
      "a0: 51 and VB: 90.65057760646317\n",
      "a0: 61 and VB: 5.630657932194799\n",
      "a0: 71 and VB: 6.247062414105285\n",
      "a0: 81 and VB: 6.773369626191266\n",
      "a0: 91 and VB: 7.205607533046241\n",
      "a0: 101 and VB: 1311.2902441578985\n",
      "a0: 111 and VB: 7.773653579285251\n",
      "a0: 121 and VB: 7.904953655845581\n",
      "a0: 131 and VB: 7.93516215763329\n",
      "a0: 141 and VB: 7.870682063102727\n",
      "a0: 151 and VB: 7.727949845723989\n",
      "a0: 161 and VB: 7.5424035498582755\n",
      "a0: 171 and VB: 7.379066929576188\n",
      "a0: 181 and VB: 7.321269117143584\n",
      "a0: 191 and VB: 7.405849584023656\n",
      "a0: 201 and VB: 7.5802890242949905\n",
      "a0: 211 and VB: 7.761425278816002\n",
      "a0: 221 and VB: 7.890566673823203\n",
      "a0: 231 and VB: 7.937004176304097\n",
      "a0: 241 and VB: 7.8868744007122995\n",
      "a0: 251 and VB: 7.735095929209854\n",
      "a0: 261 and VB: 7.4811327381626205\n",
      "a0: 271 and VB: 7.126872284704716\n",
      "a0: 281 and VB: 1307.4740642504198\n",
      "a0: 291 and VB: 6.130863428123117\n",
      "a0: 301 and VB: 5.4969030933289575\n",
      "a0: 311 and VB: 4.777232339425278\n",
      "a0: 321 and VB: 3.974488115990859\n",
      "a0: 331 and VB: -4.801561617809244\n",
      "a0: 341 and VB: -17.6628093419872\n",
      "a0: 351 and VB: -19.510260701702585\n"
     ]
    }
   ],
   "source": [
    "# 0<a0<180\n",
    "for a0 in range(1,360,10) :\n",
    "    #a0 = 30\n",
    "    VW = 10\n",
    "    eta = 0.05\n",
    "\n",
    "\n",
    "    f = lambda a: math.sin(math.pi*a0/180) * math.sin(math.pi*a/180) * math.pow((math.sin(math.pi*a/180/2) / math.sin(math.pi*a0/180-math.pi*a/180)), 2)-VW * eta\n",
    "    a = fsolve(f, [0])[0]\n",
    "    #print(\"a:\", a)\n",
    "    VB = VW * (math.sin(math.pi*(a0-a)/180)/math.sin(math.pi*a/180))\n",
    "    print(\"a0:\",a0,\"and VB:\", VB)\n",
    "\n"
   ]
  },
  {
   "cell_type": "code",
   "execution_count": null,
   "id": "d85d6b88",
   "metadata": {},
   "outputs": [],
   "source": []
  }
 ],
 "metadata": {
  "kernelspec": {
   "display_name": "Python 3 (ipykernel)",
   "language": "python",
   "name": "python3"
  },
  "language_info": {
   "codemirror_mode": {
    "name": "ipython",
    "version": 3
   },
   "file_extension": ".py",
   "mimetype": "text/x-python",
   "name": "python",
   "nbconvert_exporter": "python",
   "pygments_lexer": "ipython3",
   "version": "3.9.7"
  }
 },
 "nbformat": 4,
 "nbformat_minor": 5
}
