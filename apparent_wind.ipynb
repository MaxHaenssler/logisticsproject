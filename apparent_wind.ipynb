{
 "cells": [
  {
   "cell_type": "code",
   "execution_count": 2,
   "id": "196eaffe",
   "metadata": {},
   "outputs": [],
   "source": [
    "import math\n",
    "from scipy.optimize import rosen\n",
    "from scipy.optimize import fsolve\n",
    "import ortools\n",
    "\n",
    "import matplotlib.pyplot as plt"
   ]
  },
  {
   "cell_type": "code",
   "execution_count": 8,
   "id": "51d24ff5",
   "metadata": {},
   "outputs": [
    {
     "name": "stdout",
     "output_type": "stream",
     "text": [
      "a0: 150 and VB: 3.5109445464075857\n",
      "a0: 150 and VB: 3.5109445464075857\n",
      "a0: 150 and VB: 3.5109445464075857\n",
      "a0: 150 and VB: 3.5109445464075857\n",
      "a0: 150 and VB: 3.5109445464075857\n",
      "a0: 150 and VB: 3.5109445464075857\n",
      "a0: 150 and VB: 3.5109445464075857\n",
      "a0: 150 and VB: 3.5109445464075857\n",
      "a0: 150 and VB: 3.5109445464075857\n",
      "a0: 150 and VB: 3.5109445464075857\n",
      "a0: 150 and VB: 3.5109445464075857\n",
      "a0: 150 and VB: 3.5109445464075857\n",
      "a0: 150 and VB: 3.5109445464075857\n",
      "a0: 150 and VB: 3.5109445464075857\n",
      "a0: 150 and VB: 3.5109445464075857\n",
      "a0: 150 and VB: 3.5109445464075857\n",
      "a0: 150 and VB: 3.5109445464075857\n",
      "a0: 150 and VB: 3.5109445464075857\n",
      "a0: 150 and VB: 3.5109445464075857\n",
      "a0: 150 and VB: 3.5109445464075857\n",
      "a0: 150 and VB: 3.5109445464075857\n",
      "a0: 150 and VB: 3.5109445464075857\n",
      "a0: 150 and VB: 3.5109445464075857\n",
      "a0: 150 and VB: 3.5109445464075857\n",
      "a0: 150 and VB: 3.5109445464075857\n",
      "a0: 150 and VB: 3.5109445464075857\n",
      "a0: 150 and VB: 3.5109445464075857\n",
      "a0: 150 and VB: 3.5109445464075857\n",
      "a0: 150 and VB: 3.5109445464075857\n",
      "a0: 150 and VB: 3.5109445464075857\n",
      "a0: 150 and VB: 3.5109445464075857\n",
      "a0: 150 and VB: 3.5109445464075857\n",
      "a0: 150 and VB: 3.5109445464075857\n",
      "a0: 150 and VB: 3.5109445464075857\n",
      "a0: 150 and VB: 3.5109445464075857\n",
      "a0: 150 and VB: 3.5109445464075857\n"
     ]
    }
   ],
   "source": [
    "# 0<a0<180\n",
    "for a0 in range(1,360,10) :\n",
    "    a0 = 150\n",
    "    VW = 10\n",
    "    eta = 0.5\n",
    "\n",
    "\n",
    "    f = lambda a: math.sin(math.pi*a0/180) * math.sin(math.pi*a/180) * math.pow((math.sin(math.pi*a/180/2) / math.sin(math.pi*a0/180-math.pi*a/180)), 2)-VW * eta\n",
    "    a = fsolve(f, [0])[0]\n",
    "    #print(\"a:\", a)\n",
    "    VB = VW * (math.sin(math.pi*(a0-a)/180)/math.sin(math.pi*a/180))\n",
    "    print(\"a0:\",a0,\"and VB:\", VB)\n",
    "\n"
   ]
  },
  {
   "cell_type": "code",
   "execution_count": null,
   "id": "d85d6b88",
   "metadata": {},
   "outputs": [],
   "source": []
  }
 ],
 "metadata": {
  "kernelspec": {
   "display_name": "Python 3 (ipykernel)",
   "language": "python",
   "name": "python3"
  },
  "language_info": {
   "codemirror_mode": {
    "name": "ipython",
    "version": 3
   },
   "file_extension": ".py",
   "mimetype": "text/x-python",
   "name": "python",
   "nbconvert_exporter": "python",
   "pygments_lexer": "ipython3",
   "version": "3.9.12"
  }
 },
 "nbformat": 4,
 "nbformat_minor": 5
}
