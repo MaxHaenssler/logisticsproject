{
 "cells": [
  {
   "cell_type": "markdown",
   "id": "046f3a31",
   "metadata": {},
   "source": [
    "# Vessel Route Optimization"
   ]
  },
  {
   "cell_type": "code",
   "execution_count": 10,
   "id": "4967c137",
   "metadata": {},
   "outputs": [],
   "source": [
    "import math\n",
    "import numpy as np\n",
    "from numpy import random\n",
    "from scipy.optimize import fsolve"
   ]
  },
  {
   "cell_type": "markdown",
   "id": "8cb722ab",
   "metadata": {},
   "source": [
    "## Semi-random vectors generation"
   ]
  },
  {
   "cell_type": "code",
   "execution_count": 2,
   "id": "6fe669da",
   "metadata": {},
   "outputs": [
    {
     "name": "stdout",
     "output_type": "stream",
     "text": [
      "Wind direction (degrees): [184, 179, 210, 169, 127, 89, 92, 67, 59, 66]\n",
      "Wind speed (m/s): [23, 21, 11, 2, 8, 14, 25, 15, 19, 22]\n"
     ]
    }
   ],
   "source": [
    "wind_degrees = []\n",
    "days = 10\n",
    "max_change = 0.3\n",
    "#random.seed(1234)\n",
    "\n",
    "for day in range(days):\n",
    "    if day == 0:\n",
    "        wind_degrees.append(random.randint(0,360))\n",
    "    else:\n",
    "        last_day = wind_degrees[day-1]\n",
    "        wind_degrees.append(random.randint(last_day*(1-max_change),last_day*(1+max_change)))\n",
    "        \n",
    "wind_speed = list(random.randint(0,28,(1,days)).flatten())\n",
    "\n",
    "print(\"Wind direction (degrees):\", wind_degrees)\n",
    "print(\"Wind speed (m/s):\", wind_speed)"
   ]
  },
  {
   "cell_type": "markdown",
   "id": "9729dca9",
   "metadata": {},
   "source": [
    "## Multiple array problem"
   ]
  },
  {
   "cell_type": "code",
   "execution_count": 3,
   "id": "7b209d05",
   "metadata": {},
   "outputs": [
    {
     "name": "stdout",
     "output_type": "stream",
     "text": [
      "Wind direction (degrees): [[159, 268, 358, 44, 80], [148, 296, 351, 33, 61], [193, 321, 306, 40, 60]]\n",
      "Wind speed (m/s): [[18, 11, 23, 11, 8], [22, 7, 24, 13, 8], [19, 11, 21, 12, 7]]\n"
     ]
    }
   ],
   "source": [
    "def random_space(max_value, days=5, positions=1, day_max_change=0.3, position_max_change=0.2, seed=None):    \n",
    "    random.seed(seed)\n",
    "    degrees_matrix = []\n",
    "    wind_degrees = []\n",
    "    \n",
    "    for day in range(days):\n",
    "        wind_degrees.append(random.randint(1,max_value))\n",
    "    degrees_matrix.append(wind_degrees) \n",
    "\n",
    "    for position in range(0,positions-1):\n",
    "        position_degree = []\n",
    "        for day in range(days):\n",
    "            same_day_other_position = abs(degrees_matrix[position-1][day])  \n",
    "            if same_day_other_position != 0:\n",
    "                position_degree.append(random.randint(same_day_other_position*(1-position_max_change),same_day_other_position*(1+position_max_change)))\n",
    "            else: \n",
    "                position_degree.append(random.randint(1,max_value))\n",
    "        degrees_matrix.append(position_degree)\n",
    "    \n",
    "    return degrees_matrix\n",
    "\n",
    "days = 5\n",
    "positions = 3\n",
    "day_max_change = 0.3\n",
    "position_max_change = 0.3\n",
    "seed = 126\n",
    "\n",
    "wind_direction = random_space(360, days, positions, day_max_change, position_max_change)\n",
    "wind_speed = random_space(27, days, positions, day_max_change, position_max_change)\n",
    "\n",
    "print(\"Wind direction (degrees):\", wind_direction)\n",
    "print(\"Wind speed (m/s):\", wind_speed)"
   ]
  },
  {
   "cell_type": "markdown",
   "id": "12e302a1",
   "metadata": {},
   "source": [
    "# Open_sail function"
   ]
  },
  {
   "cell_type": "code",
   "execution_count": 53,
   "id": "5cebd975",
   "metadata": {},
   "outputs": [
    {
     "name": "stdout",
     "output_type": "stream",
     "text": [
      "We open the sail :  True\n"
     ]
    }
   ],
   "source": [
    "#CONSTANTS TO BE DETERMINED\n",
    "min_wind_angle = 60 \n",
    "max_wind_angle = 300 \n",
    "min_wind_strength = 10\n",
    "\n",
    "def open_sail(wind_angle, wind_strength):\n",
    "    open_sail_bool = False \n",
    "    \n",
    "    if wind_angle > min_wind_angle and wind_angle < max_wind_angle and wind_strength > min_wind_strength :\n",
    "        open_sail_bool = True\n",
    "        \n",
    "    #EXCLUDING CRIETRIA FOR THE BOAT_SPEED FUNCTION NOT TO EXPLODE\n",
    "    if wind_angle > 80 and wind_angle < 120 : open_sail_bool = False\n",
    "    if wind_angle > 260 and wind_angle < 300 : open_sail_bool = False\n",
    "\n",
    "\n",
    "    return open_sail_bool\n",
    "\n",
    "\n",
    "print(\"We open the sail : \", open_sail(80,40))"
   ]
  },
  {
   "cell_type": "markdown",
   "id": "f551e780",
   "metadata": {},
   "source": [
    "# Apparent wind function for boat speed"
   ]
  },
  {
   "cell_type": "code",
   "execution_count": 54,
   "id": "de53a428",
   "metadata": {},
   "outputs": [],
   "source": [
    "# 0<a0<180\n",
    "\n",
    "def boat_speed(a0,VW,eta):\n",
    "\n",
    "    f = lambda a: math.sin(math.pi*a0/180) * math.sin(math.pi*a/180) * math.pow((math.sin(math.pi*a/180/2) / math.sin(math.pi*a0/180-math.pi*a/180)), 2)-VW * eta\n",
    "    a = fsolve(f, [0])[0]\n",
    "    #print(\"a:\", a)\n",
    "    VB = VW * (math.sin(math.pi*(a0-a)/180)/math.sin(math.pi*a/180))\n",
    "    #print(\"a0:\",a0,\"and VB:\", VB)\n",
    "    \n",
    "    return VB"
   ]
  },
  {
   "cell_type": "markdown",
   "id": "d40938df",
   "metadata": {},
   "source": [
    "# Problem in 1 dimension"
   ]
  },
  {
   "cell_type": "code",
   "execution_count": 61,
   "id": "911f6533",
   "metadata": {},
   "outputs": [
    {
     "name": "stdout",
     "output_type": "stream",
     "text": [
      "The squares length is 5.0\n",
      "Wind angles are : [38, 43, 38, 38, 41, 37]\n",
      "Wind speeds are : [27, 30, 31, 24, 24, 25]\n",
      "We open the sails : [False, False, False, False, False, False]\n",
      "Boat speeds are : [15, 15, 15, 15, 15, 15]\n",
      "The emissions for each square are: [15.0, 15.0, 15.0, 15.0, 15.0, 15.0]\n",
      "The total emissions are: 90.0\n",
      "The time need for each square is: [0.3333333333333333, 0.3333333333333333, 0.3333333333333333, 0.3333333333333333, 0.3333333333333333, 0.3333333333333333]\n",
      "The total time needed is: 1.9999999999999998\n"
     ]
    }
   ],
   "source": [
    "#ARBITRARY CONSTANTS TO CHECK !!!\n",
    "total_distance = 30 #miles\n",
    "positions = 6 #nb of squares between A and B\n",
    "eta = 0.001\n",
    "motor_speed = 15 #in mph\n",
    "motor_emission_per_mile = 3.2 #in kg CO2 per mile\n",
    "\n",
    "wind_angle = random_space(360,1,positions) #in degrees\n",
    "wind_speed = random_space(30,1,positions) #in mph\n",
    "square_length = total_distance/positions\n",
    "\n",
    "#defining the lists to be used\n",
    "list_sail = []\n",
    "list_boat_speed = []\n",
    "list_co2 = []\n",
    "list_time = []\n",
    "\n",
    "#flatten the list of list into a simple list\n",
    "wind_angle = [item for sublist in wind_angle for item in sublist]\n",
    "wind_speed = [item for sublist in wind_speed for item in sublist]\n",
    "\n",
    "#evaluating if we open the sails for each position\n",
    "for i in range(positions):\n",
    "    list_sail.append(open_sail(wind_angle[i],wind_speed[i]))\n",
    "    \n",
    "#determining the boat speeds depending on whether we use sails on motor   \n",
    "for i in range(positions):\n",
    "    if list_sail[i]==True:\n",
    "        list_boat_speed.append(boat_speed(wind_angle[i],wind_speed[i],eta))\n",
    "        \n",
    "    else:\n",
    "        list_boat_speed.append(motor_speed)\n",
    "        \n",
    "#CO2 emissions calculations\n",
    "for i in range(positions):\n",
    "    if list_sail[i]==True:\n",
    "        list_co2.append(0)\n",
    "        \n",
    "    else:\n",
    "        list_co2.append(motor_emission_per_mile*square_length)\n",
    "        \n",
    "total_emissions = sum(list_co2)\n",
    "        \n",
    "#determining the time needed for the journey\n",
    "for i in range(positions):\n",
    "    list_time.append(square_length/list_boat_speed[i])\n",
    "        \n",
    "total_time = sum(list_time)        \n",
    "        \n",
    "    \n",
    "    \n",
    "#printing results\n",
    "print(\"The squares length is\", square_length)\n",
    "print(\"Wind angles are :\", wind_angle)\n",
    "print(\"Wind speeds are :\", wind_speed)\n",
    "print(\"We open the sails :\", list_sail)\n",
    "print(\"Boat speeds are :\", list_boat_speed)\n",
    "print(\"The emissions for each square are:\", list_co2)\n",
    "print(\"The total emissions are:\", total_emissions)\n",
    "print(\"The time need for each square is:\", list_time)\n",
    "print(\"The total time needed is:\", total_time)"
   ]
  },
  {
   "cell_type": "code",
   "execution_count": null,
   "id": "e79704ab",
   "metadata": {},
   "outputs": [],
   "source": []
  }
 ],
 "metadata": {
  "kernelspec": {
   "display_name": "Python 3 (ipykernel)",
   "language": "python",
   "name": "python3"
  },
  "language_info": {
   "codemirror_mode": {
    "name": "ipython",
    "version": 3
   },
   "file_extension": ".py",
   "mimetype": "text/x-python",
   "name": "python",
   "nbconvert_exporter": "python",
   "pygments_lexer": "ipython3",
   "version": "3.9.12"
  }
 },
 "nbformat": 4,
 "nbformat_minor": 5
}
