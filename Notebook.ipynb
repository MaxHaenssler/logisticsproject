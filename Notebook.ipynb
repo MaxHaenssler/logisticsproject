{
 "cells": [
  {
   "cell_type": "markdown",
   "id": "046f3a31",
   "metadata": {},
   "source": [
    "# Vessel Route Optimization"
   ]
  },
  {
   "cell_type": "code",
   "execution_count": 32,
   "id": "4967c137",
   "metadata": {},
   "outputs": [],
   "source": [
    "import numpy as np\n",
    "from numpy import random"
   ]
  },
  {
   "cell_type": "markdown",
   "id": "8cb722ab",
   "metadata": {},
   "source": [
    "## Semi-random vectors generation"
   ]
  },
  {
   "cell_type": "code",
   "execution_count": 68,
   "id": "6fe669da",
   "metadata": {},
   "outputs": [
    {
     "name": "stdout",
     "output_type": "stream",
     "text": [
      "Wind direction (degrees): [231, 289, 277, 273, 194, 137, 114, 91, 64, 55]\n",
      "Wind speed (m/s): [19, 11, 26, 17, 14, 19, 7, 10, 11, 14]\n"
     ]
    }
   ],
   "source": [
    "wind_degrees = []\n",
    "days = 10\n",
    "max_change = 0.3\n",
    "#random.seed(1234)\n",
    "\n",
    "for day in range(days):\n",
    "    if day == 0:\n",
    "        wind_degrees.append(random.randint(0,360))\n",
    "    else:\n",
    "        last_day = wind_degrees[day-1]\n",
    "        wind_degrees.append(random.randint(last_day*(1-max_change),last_day*(1+max_change)))\n",
    "        \n",
    "wind_speed = list(random.randint(0,28,(1,days)).flatten())\n",
    "\n",
    "print(\"Wind direction (degrees):\", wind_degrees)\n",
    "print(\"Wind speed (m/s):\", wind_speed)"
   ]
  },
  {
   "cell_type": "markdown",
   "id": "9729dca9",
   "metadata": {},
   "source": [
    "## Multiple array problem"
   ]
  },
  {
   "cell_type": "code",
   "execution_count": 276,
   "id": "7b209d05",
   "metadata": {},
   "outputs": [
    {
     "name": "stdout",
     "output_type": "stream",
     "text": [
      "Wind direction (degrees): [[119, 164, 66, 136, 29], [115, 181, 78, 109, 32], [94, 129, 73, 125, 33]]\n",
      "Wind speed (m/s): [[17, 9, 13, 12, 20], [15, 8, 13, 10, 22], [19, 7, 9, 8, 14]]\n"
     ]
    }
   ],
   "source": [
    "def random_space(max_value, days=5, positions=1, day_max_change=0.3, position_max_change=0.2, seed=None):    \n",
    "    random.seed(seed)\n",
    "    degrees_matrix = []\n",
    "    wind_degrees = []\n",
    "    \n",
    "    for day in range(days):\n",
    "        wind_degrees.append(random.randint(1,max_value))\n",
    "    degrees_matrix.append(wind_degrees) \n",
    "\n",
    "    for position in range(0,positions-1):\n",
    "        position_degree = []\n",
    "        for day in range(days):\n",
    "            same_day_other_position = abs(degrees_matrix[position-1][day])  \n",
    "            if same_day_other_position != 0:\n",
    "                position_degree.append(random.randint(same_day_other_position*(1-position_max_change),same_day_other_position*(1+position_max_change)))\n",
    "            else: \n",
    "                position_degree.append(random.randint(1,max_value))\n",
    "        degrees_matrix.append(position_degree)\n",
    "    \n",
    "    return degrees_matrix\n",
    "\n",
    "days = 5\n",
    "positions = 3\n",
    "day_max_change = 0.3\n",
    "position_max_change = 0.3\n",
    "seed = 126\n",
    "\n",
    "print(\"Wind direction (degrees):\", random_space(360, days, positions, day_max_change, position_max_change))\n",
    "print(\"Wind speed (m/s):\", random_space(27, days, positions, day_max_change, position_max_change))"
   ]
  },
  {
   "cell_type": "code",
   "execution_count": null,
   "id": "6709694f",
   "metadata": {},
   "outputs": [],
   "source": []
  },
  {
   "cell_type": "code",
   "execution_count": null,
   "id": "5cebd975",
   "metadata": {},
   "outputs": [],
   "source": []
  }
 ],
 "metadata": {
  "kernelspec": {
   "display_name": "Python 3 (ipykernel)",
   "language": "python",
   "name": "python3"
  },
  "language_info": {
   "codemirror_mode": {
    "name": "ipython",
    "version": 3
   },
   "file_extension": ".py",
   "mimetype": "text/x-python",
   "name": "python",
   "nbconvert_exporter": "python",
   "pygments_lexer": "ipython3",
   "version": "3.9.7"
  }
 },
 "nbformat": 4,
 "nbformat_minor": 5
}
