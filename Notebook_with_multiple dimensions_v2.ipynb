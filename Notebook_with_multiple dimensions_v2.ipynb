{
 "cells": [
  {
   "cell_type": "markdown",
   "id": "046f3a31",
   "metadata": {},
   "source": [
    "# Vessel Route Optimization"
   ]
  },
  {
   "cell_type": "code",
   "execution_count": 140,
   "id": "5b9b75f8",
   "metadata": {},
   "outputs": [
    {
     "name": "stdout",
     "output_type": "stream",
     "text": [
      "\u001b[33mDEPRECATION: Configuring installation scheme with distutils config files is deprecated and will no longer work in the near future. If you are using a Homebrew or Linuxbrew Python, please see discussion at https://github.com/Homebrew/homebrew-core/issues/76621\u001b[0m\u001b[33m\n",
      "\u001b[0mRequirement already satisfied: ortools in /Users/mgajda/Library/Python/3.9/lib/python/site-packages (9.4.1874)\n",
      "Requirement already satisfied: protobuf>=3.19.4 in /Users/mgajda/Library/Python/3.9/lib/python/site-packages (from ortools) (4.21.6)\n",
      "Requirement already satisfied: absl-py>=0.13 in /Users/mgajda/Library/Python/3.9/lib/python/site-packages (from ortools) (1.2.0)\n",
      "Requirement already satisfied: numpy>=1.13.3 in /opt/homebrew/lib/python3.9/site-packages (from ortools) (1.23.5)\n",
      "\u001b[33mDEPRECATION: Configuring installation scheme with distutils config files is deprecated and will no longer work in the near future. If you are using a Homebrew or Linuxbrew Python, please see discussion at https://github.com/Homebrew/homebrew-core/issues/76621\u001b[0m\u001b[33m\n",
      "\u001b[0m"
     ]
    }
   ],
   "source": [
    "!pip install ortools"
   ]
  },
  {
   "cell_type": "code",
   "execution_count": 141,
   "id": "4967c137",
   "metadata": {},
   "outputs": [],
   "source": [
    "import math\n",
    "import numpy as np\n",
    "from numpy import random\n",
    "from scipy.optimize import fsolve\n",
    "import ortools\n",
    "from tabulate import tabulate\n",
    "from ortools.linear_solver import pywraplp"
   ]
  },
  {
   "cell_type": "markdown",
   "id": "8cb722ab",
   "metadata": {},
   "source": [
    "## Semi-random vectors generation"
   ]
  },
  {
   "cell_type": "code",
   "execution_count": 142,
   "id": "6fe669da",
   "metadata": {},
   "outputs": [
    {
     "ename": "ValueError",
     "evalue": "high <= 0",
     "output_type": "error",
     "traceback": [
      "\u001b[0;31m---------------------------------------------------------------------------\u001b[0m",
      "\u001b[0;31mValueError\u001b[0m                                Traceback (most recent call last)",
      "Cell \u001b[0;32mIn[142], line 11\u001b[0m\n\u001b[1;32m      9\u001b[0m     \u001b[38;5;28;01melse\u001b[39;00m:\n\u001b[1;32m     10\u001b[0m         last_day \u001b[38;5;241m=\u001b[39m wind_degrees[day\u001b[38;5;241m-\u001b[39m\u001b[38;5;241m1\u001b[39m]\n\u001b[0;32m---> 11\u001b[0m         wind_degrees\u001b[38;5;241m.\u001b[39mappend(\u001b[43mrandom\u001b[49m\u001b[38;5;241;43m.\u001b[39;49m\u001b[43mrandint\u001b[49m\u001b[43m(\u001b[49m\u001b[43mlast_day\u001b[49m\u001b[38;5;241;43m*\u001b[39;49m\u001b[43m(\u001b[49m\u001b[38;5;241;43m1\u001b[39;49m\u001b[38;5;241;43m-\u001b[39;49m\u001b[43mmax_change\u001b[49m\u001b[43m)\u001b[49m\u001b[43m,\u001b[49m\u001b[43mlast_day\u001b[49m\u001b[38;5;241;43m*\u001b[39;49m\u001b[43m(\u001b[49m\u001b[38;5;241;43m1\u001b[39;49m\u001b[38;5;241;43m+\u001b[39;49m\u001b[43mmax_change\u001b[49m\u001b[43m)\u001b[49m\u001b[43m)\u001b[49m)\n\u001b[1;32m     13\u001b[0m wind_speed \u001b[38;5;241m=\u001b[39m \u001b[38;5;28mlist\u001b[39m(random\u001b[38;5;241m.\u001b[39mrandint(\u001b[38;5;241m0\u001b[39m,\u001b[38;5;241m28\u001b[39m,(\u001b[38;5;241m1\u001b[39m,x_positions))\u001b[38;5;241m.\u001b[39mflatten())\n\u001b[1;32m     15\u001b[0m \u001b[38;5;28mprint\u001b[39m(\u001b[38;5;124m\"\u001b[39m\u001b[38;5;124mWind direction (degrees):\u001b[39m\u001b[38;5;124m\"\u001b[39m, wind_degrees)\n",
      "File \u001b[0;32mmtrand.pyx:748\u001b[0m, in \u001b[0;36mnumpy.random.mtrand.RandomState.randint\u001b[0;34m()\u001b[0m\n",
      "File \u001b[0;32m_bounded_integers.pyx:1247\u001b[0m, in \u001b[0;36mnumpy.random._bounded_integers._rand_int64\u001b[0;34m()\u001b[0m\n",
      "\u001b[0;31mValueError\u001b[0m: high <= 0"
     ]
    }
   ],
   "source": [
    "wind_degrees = []\n",
    "x_positions = 10\n",
    "max_change = 0.3\n",
    "#random.seed(1234)\n",
    "\n",
    "for day in range(x_positions):\n",
    "    if day == 0:\n",
    "        wind_degrees.append(random.randint(0,360))\n",
    "    else:\n",
    "        last_day = wind_degrees[day-1]\n",
    "        wind_degrees.append(random.randint(last_day*(1-max_change),last_day*(1+max_change)))\n",
    "        \n",
    "wind_speed = list(random.randint(0,28,(1,x_positions)).flatten())\n",
    "\n",
    "print(\"Wind direction (degrees):\", wind_degrees)\n",
    "print(\"Wind speed (m/s):\", wind_speed)"
   ]
  },
  {
   "cell_type": "markdown",
   "id": "9729dca9",
   "metadata": {},
   "source": [
    "## Multiple array problem"
   ]
  },
  {
   "cell_type": "code",
   "execution_count": null,
   "id": "7b209d05",
   "metadata": {},
   "outputs": [
    {
     "name": "stdout",
     "output_type": "stream",
     "text": [
      "Wind direction (degrees): [[199, 302, 317, 249, 242], [209, 312, 312, 312, 312], [171, 263, 321, 213, 299]]\n",
      "Wind speed (m/s): [[10, 13, 18, 8, 20], [12, 11, 14, 8, 22], [11, 10, 18, 8, 19]]\n"
     ]
    }
   ],
   "source": [
    "def random_space(max_value, x_positions=5, y_positions=1, day_max_change=0.3, position_max_change=0.2, seed=None):    \n",
    "    random.seed(seed)\n",
    "    degrees_matrix = []\n",
    "    wind_degrees = []\n",
    "    \n",
    "    for day in range(x_positions):\n",
    "        wind_degrees.append(random.randint(1,max_value))\n",
    "    degrees_matrix.append(wind_degrees) \n",
    "\n",
    "    for position in range(0,y_positions-1):\n",
    "        position_degree = []\n",
    "        for day in range(x_positions):\n",
    "            same_day_other_position = abs(degrees_matrix[position-1][day])  \n",
    "            if same_day_other_position != 0:\n",
    "                position_degree.append(random.randint(same_day_other_position*(1-position_max_change),same_day_other_position*(1+position_max_change)))\n",
    "            else: \n",
    "                position_degree.append(random.randint(1,max_value))\n",
    "        degrees_matrix.append(position_degree)\n",
    "    \n",
    "    return degrees_matrix\n",
    "\n",
    "x_positions = 5\n",
    "y_positions = 3\n",
    "day_max_change = 0.3\n",
    "position_max_change = 0.3\n",
    "seed = 126\n",
    "\n",
    "wind_direction = random_space(360, x_positions, y_positions, day_max_change, position_max_change)\n",
    "wind_speed = random_space(27, x_positions, y_positions, day_max_change, position_max_change)\n",
    "\n",
    "print(\"Wind direction (degrees):\", wind_direction)\n",
    "print(\"Wind speed (m/s):\", wind_speed)"
   ]
  },
  {
   "cell_type": "markdown",
   "id": "b665f475",
   "metadata": {},
   "source": [
    "# Open_sail function"
   ]
  },
  {
   "cell_type": "code",
   "execution_count": null,
   "id": "5cebd975",
   "metadata": {},
   "outputs": [
    {
     "name": "stdout",
     "output_type": "stream",
     "text": [
      "We open the sail :  True\n"
     ]
    }
   ],
   "source": [
    "#CONSTANTS TO BE DETERMINED\n",
    "min_wind_angle = 60 \n",
    "max_wind_angle = 300 \n",
    "min_wind_strength = 10\n",
    "\n",
    "def open_sail(wind_angle, wind_strength):\n",
    "    open_sail_bool = False \n",
    "    \n",
    "    if wind_angle > min_wind_angle and wind_angle < max_wind_angle and wind_strength > min_wind_strength :\n",
    "        open_sail_bool = True\n",
    "        \n",
    "    #EXCLUDING CRIETRIA FOR THE BOAT_SPEED FUNCTION NOT TO EXPLODE\n",
    "    if wind_angle > 80 and wind_angle < 120 : open_sail_bool = False\n",
    "    if wind_angle > 260 and wind_angle < 300 : open_sail_bool = False\n",
    "\n",
    "\n",
    "    return open_sail_bool\n",
    "\n",
    "\n",
    "print(\"We open the sail : \", open_sail(80,40))"
   ]
  },
  {
   "cell_type": "markdown",
   "id": "d2126e98",
   "metadata": {},
   "source": [
    "# Apparent wind function for boat speed"
   ]
  },
  {
   "cell_type": "code",
   "execution_count": null,
   "id": "de53a428",
   "metadata": {},
   "outputs": [],
   "source": [
    "# 0<a0<180\n",
    "\n",
    "def boat_speed(a0,VW,eta):\n",
    "\n",
    "    f = lambda a: math.sin(math.pi*a0/180) * math.sin(math.pi*a/180) * math.pow((math.sin(math.pi*a/180/2) / math.sin(math.pi*a0/180-math.pi*a/180)), 2)-VW * eta\n",
    "    a = fsolve(f, [0])[0]\n",
    "    #print(\"a:\", a)\n",
    "    VB = VW * (math.sin(math.pi*(a0-a)/180)/math.sin(math.pi*a/180))\n",
    "    #print(\"a0:\",a0,\"and VB:\", VB)\n",
    "    \n",
    "    return VB"
   ]
  },
  {
   "cell_type": "markdown",
   "id": "f84ab242",
   "metadata": {},
   "source": [
    "# Problem in 1 dimension"
   ]
  },
  {
   "cell_type": "code",
   "execution_count": null,
   "id": "911f6533",
   "metadata": {},
   "outputs": [
    {
     "name": "stdout",
     "output_type": "stream",
     "text": [
      "The squares length is 5.0\n",
      "Wind angles are : [298, 268, 257, 307, 242, 343]\n",
      "Wind speeds are : [24, 25, 26, 24, 29, 20]\n",
      "We open the sails : [False, False, True, False, True, False]\n",
      "Boat speeds are : [22, 22, 55.285843373413464, 22, 58.350706168427685, 22]\n",
      "The emissions for each square are: [16.0, 16.0, 0, 16.0, 0, 16.0]\n",
      "The total emissions are: 64.0\n",
      "The time need for each square is: [0.22727272727272727, 0.22727272727272727, 0.09043906531783978, 0.22727272727272727, 0.08568876588344346, 0.22727272727272727]\n",
      "The total time needed is: 1.0852187402921922\n"
     ]
    }
   ],
   "source": [
    "#ARBITRARY CONSTANTS TO CHECK !!!\n",
    "total_distance = 30 #miles\n",
    "x_positions = 6 #nb of squares between A and B\n",
    "eta = 0.001\n",
    "motor_speed = 22 #in mph\n",
    "motor_emission_per_mile = 3.2 #in kgCO2 per mile\n",
    "\n",
    "wind_angle = random_space(360,1,x_positions) #in degrees\n",
    "wind_speed = random_space(30,1,x_positions) #in mph\n",
    "square_length = total_distance/x_positions\n",
    "\n",
    "#defining the lists to be used\n",
    "list_sail = []\n",
    "list_boat_speed = []\n",
    "list_co2 = []\n",
    "list_time = []\n",
    "\n",
    "#flatten the list of list into a simple list\n",
    "wind_angle = [item for sublist in wind_angle for item in sublist]\n",
    "wind_speed = [item for sublist in wind_speed for item in sublist]\n",
    "\n",
    "#evaluating if we open the sails for each position\n",
    "for i in range(x_positions):\n",
    "    list_sail.append(open_sail(wind_angle[i],wind_speed[i]))\n",
    "    \n",
    "#determining the boat speeds depending on whether we use sails on motor   \n",
    "for i in range(x_positions):\n",
    "    if list_sail[i]==True:\n",
    "        list_boat_speed.append(boat_speed(wind_angle[i],wind_speed[i],eta))\n",
    "        \n",
    "    else:\n",
    "        list_boat_speed.append(motor_speed)\n",
    "        \n",
    "#CO2 emissions calculations\n",
    "for i in range(x_positions):\n",
    "    if list_sail[i]==True:\n",
    "        list_co2.append(0)\n",
    "        \n",
    "    else:\n",
    "        list_co2.append(motor_emission_per_mile*square_length)\n",
    "        \n",
    "total_emissions = sum(list_co2)\n",
    "        \n",
    "#determining the time needed for the journey\n",
    "for i in range(x_positions):\n",
    "    list_time.append(square_length/list_boat_speed[i])\n",
    "        \n",
    "total_time = sum(list_time)        \n",
    "        \n",
    "    \n",
    "    \n",
    "#printing results\n",
    "print(\"The squares length is\", square_length)\n",
    "print(\"Wind angles are :\", wind_angle)\n",
    "print(\"Wind speeds are :\", wind_speed)\n",
    "print(\"We open the sails :\", list_sail)\n",
    "print(\"Boat speeds are :\", list_boat_speed)\n",
    "print(\"The emissions for each square are:\", list_co2)\n",
    "print(\"The total emissions are:\", total_emissions)\n",
    "print(\"The time need for each square is:\", list_time)\n",
    "print(\"The total time needed is:\", total_time)"
   ]
  },
  {
   "cell_type": "code",
   "execution_count": null,
   "id": "e79704ab",
   "metadata": {},
   "outputs": [
    {
     "name": "stdout",
     "output_type": "stream",
     "text": [
      "The squares length is 5.0\n",
      "Wind angles are : [332, 395, 268, 392, 262, 335]\n",
      "Wind speeds are : [12, 12, 10, 11, 11, 11]\n",
      "We open the sails : [False, False, False, False, False, False]\n",
      "Boat speeds are : [15, 15, 15, 15, 15, 15]\n",
      "The emissions for each square are: [16.0, 16.0, 16.0, 16.0, 16.0, 16.0]\n",
      "The total emissions are: 96.0\n",
      "The time need for each square is: [0.3333333333333333, 0.3333333333333333, 0.3333333333333333, 0.3333333333333333, 0.3333333333333333, 0.3333333333333333]\n",
      "The total time needed is: 1.9999999999999998\n"
     ]
    }
   ],
   "source": [
    "#ARBITRARY CONSTANTS TO CHECK !!!\n",
    "total_distance = 30 #miles\n",
    "x_positions = 6 #nb of squares between A and B\n",
    "eta = 0.001\n",
    "motor_speed = 15 #in mph\n",
    "motor_emission_per_mile = 3.2 #in kgCO2 per mile\n",
    "\n",
    "wind_angle = random_space(360,1,x_positions, seed =12) #in degrees\n",
    "wind_speed = random_space(30,1,x_positions, seed =12) #in mph\n",
    "square_length = total_distance/x_positions\n",
    "\n",
    "#defining the lists to be used\n",
    "list_sail = []\n",
    "list_boat_speed = []\n",
    "list_co2 = []\n",
    "list_time = []\n",
    "\n",
    "#flatten the list of list into a simple list\n",
    "wind_angle = [item for sublist in wind_angle for item in sublist]\n",
    "wind_speed = [item for sublist in wind_speed for item in sublist]\n",
    "\n",
    "for i in range(x_positions):\n",
    "    #evaluating if we open the sails for each position\n",
    "    list_sail.append(open_sail(wind_angle[i],wind_speed[i]))\n",
    "    \n",
    "    #determining the boat speeds depending on whether we use sails on motor   \n",
    "    if list_sail[i]==True:\n",
    "        list_boat_speed.append(boat_speed(wind_angle[i],wind_speed[i],eta))\n",
    "        \n",
    "    else:\n",
    "        list_boat_speed.append(motor_speed)\n",
    "        \n",
    "    #CO2 emissions calculations    \n",
    "    if list_sail[i]==True:\n",
    "        list_co2.append(0)\n",
    "        \n",
    "    else:\n",
    "        list_co2.append(motor_emission_per_mile*square_length)\n",
    "        \n",
    "    #determining the time needed for the journey    \n",
    "    list_time.append(square_length/list_boat_speed[i])\n",
    "        \n",
    "        \n",
    "total_emissions = sum(list_co2)     \n",
    "total_time = sum(list_time)         \n",
    "    \n",
    "#printing results\n",
    "print(\"The squares length is\", square_length)\n",
    "print(\"Wind angles are :\", wind_angle)\n",
    "print(\"Wind speeds are :\", wind_speed)\n",
    "print(\"We open the sails :\", list_sail)\n",
    "print(\"Boat speeds are :\", list_boat_speed)\n",
    "print(\"The emissions for each square are:\", list_co2)\n",
    "print(\"The total emissions are:\", total_emissions)\n",
    "print(\"The time need for each square is:\", list_time)\n",
    "print(\"The total time needed is:\", total_time)"
   ]
  },
  {
   "cell_type": "markdown",
   "id": "5bfad444",
   "metadata": {},
   "source": [
    "# Problem in 2 dimension"
   ]
  },
  {
   "cell_type": "code",
   "execution_count": null,
   "id": "fd8a46bd",
   "metadata": {},
   "outputs": [
    {
     "data": {
      "text/plain": [
       "[[16.0, 16.0, 16.0, 16.0, 16.0],\n",
       " [16.0, 0, 16.0, 16.0, 0],\n",
       " [16.0, 16.0, 16.0, 16.0, 0]]"
      ]
     },
     "execution_count": 135,
     "metadata": {},
     "output_type": "execute_result"
    }
   ],
   "source": [
    "#ARBITRARY CONSTANTS TO CHECK !!!\n",
    "total_distance = 60 #miles\n",
    "x_positions = 5 #nb of squares between A and B\n",
    "y_positions = 3\n",
    "eta = 0.001\n",
    "motor_speed = 15 #in mph\n",
    "motor_emission_per_mile = 3.2 #in kgCO2 per mile\n",
    "\n",
    "wind_angle_matrix = random_space(360, x_positions, y_positions) #in degrees\n",
    "wind_speed_matrix = random_space(30, x_positions, y_positions) #in mph\n",
    "\n",
    "\n",
    "def single_line(wind_angle, wind_speed, print_=False):\n",
    "    \n",
    "    #defining the lists to be used\n",
    "    list_sail = []\n",
    "    list_boat_speed = []\n",
    "    list_co2 = []\n",
    "    list_time = []\n",
    "    \n",
    "    for i in range(x_positions):\n",
    "        #evaluating if we open the sails for each position\n",
    "        list_sail.append(open_sail(wind_angle[i],wind_speed[i]))\n",
    "\n",
    "        #determining the boat speeds depending on whether we use sails on motor   \n",
    "        if list_sail[i]==True:\n",
    "            list_boat_speed.append(boat_speed(wind_angle[i],wind_speed[i],eta))\n",
    "\n",
    "        else:\n",
    "            list_boat_speed.append(motor_speed)\n",
    "\n",
    "        #CO2 emissions calculations    \n",
    "        if list_sail[i]==True:\n",
    "            list_co2.append(0)\n",
    "\n",
    "        else:\n",
    "            list_co2.append(motor_emission_per_mile*square_length)\n",
    "\n",
    "        #determining the time needed for the journey    \n",
    "        list_time.append(square_length/list_boat_speed[i])    \n",
    "\n",
    "    #printing results\n",
    "    if print_:\n",
    "        print(\"Wind angles are :\", wind_angle)\n",
    "        print(\"Wind speeds are :\", wind_speed)\n",
    "        print(\"We open the sails :\", list_sail)\n",
    "        print(\"Boat speeds are :\", list_boat_speed)\n",
    "    return (wind_angle,wind_speed, list_sail,list_boat_speed, list_co2)\n",
    "\n",
    "path = np.zeros((y_positions, x_positions), int)\n",
    "result_wind_angle = []\n",
    "result_wind_speed = []\n",
    "result_sail = []\n",
    "result_boat_speed = []\n",
    "result_co2 = []\n",
    "\n",
    "for y in range(y_positions):\n",
    "    results = single_line(wind_angle_matrix[y], wind_speed_matrix[y])\n",
    "    result_wind_angle.append(results[0])\n",
    "    result_wind_speed.append(results[1])\n",
    "    result_sail.append(results[2])\n",
    "    result_boat_speed.append(results[3])\n",
    "    result_co2.append(results[4])\n",
    "    \n",
    "result_co2"
   ]
  },
  {
   "cell_type": "code",
   "execution_count": null,
   "id": "9c39df6f",
   "metadata": {},
   "outputs": [
    {
     "data": {
      "text/plain": [
       "[[16.0, 16.0, 16.0, 16.0, 16.0],\n",
       " [16.0, 0, 16.0, 16.0, 0],\n",
       " [16.0, 16.0, 16.0, 16.0, 0]]"
      ]
     },
     "execution_count": 136,
     "metadata": {},
     "output_type": "execute_result"
    }
   ],
   "source": [
    "result_co2[1][2] =16.\n",
    "result_co2"
   ]
  },
  {
   "cell_type": "code",
   "execution_count": null,
   "id": "3dd64375",
   "metadata": {},
   "outputs": [
    {
     "name": "stdout",
     "output_type": "stream",
     "text": [
      "middle point:  1\n",
      "\n"
     ]
    }
   ],
   "source": [
    "# solver = pywraplp.Solver.CreateSolver('CLP')\n",
    "\n",
    "# x = {}\n",
    "# for i in range(y_positions):\n",
    "#     for j in range(x_positions):\n",
    "#         x[i, j] = solver.IntVar(0, 1, '')\n",
    "        \n",
    "# # Constraints\n",
    "\n",
    "# # for each x_position, we need the boat to pass by there\n",
    "# for j in range(x_positions):\n",
    "#     solver.Add(solver.Sum([x[i, j] for i in range(y_positions)]) == 1)\n",
    "\n",
    "# middle_point = y_positions // 2 \n",
    "# print(\"middle point: \", middle_point)   \n",
    "# #choose a specific starting point (i)\n",
    "# solver.Add(x[middle_point,0] == 1)\n",
    "# #chose a specific ending point (i)\n",
    "# #solver.Add(x[middle_point,x_positions-1] == 1)\n",
    "\n",
    "# # you can only move either the square in front of you either in the two closest diagonals    \n",
    "# for j in range(x_positions-1):\n",
    "#     solver.Add(solver.Sum([x[i+1,j+1] + x[i,j+1] + x[i-1, j+1] for i in range(1,y_positions-1)]) <= 1)\n",
    "#     solver.Add((x[0,j+1] + x[1,j+1]) <= 1)\n",
    "#     solver.Add((x[y_positions-2,j+1] + x[y_positions-1,j+1]) <= 1)\n",
    "    \n",
    "    \n",
    "#     #for i in range(1,y_positions-1):\n",
    "#     #    solver.Add(x[i,j+1] == x[i+1,j] + x[i-1, j] + x[i, j])\n",
    "\n",
    "\n",
    "\n",
    "# solver.Minimize(solver.Sum([result_co2[i][j] * x[i,j] for i in range(y_positions)\n",
    "#                                                   for j in range(x_positions)]))\n",
    "# status = solver.Solve()\n",
    "\n",
    "# print ()"
   ]
  },
  {
   "cell_type": "code",
   "execution_count": null,
   "id": "e8e08cf1",
   "metadata": {},
   "outputs": [
    {
     "name": "stdout",
     "output_type": "stream",
     "text": [
      "[0, 1, 2]\n"
     ]
    }
   ],
   "source": [
    "## New test\n",
    "\n",
    "solver = pywraplp.Solver.CreateSolver('CLP')\n",
    "\n",
    "x = {}\n",
    "for i in range(y_positions):\n",
    "    for j in range(x_positions):\n",
    "        x[i, j] = solver.IntVar(0, 1, '')\n",
    "\n",
    "# Define the constraints\n",
    "middle_point = middle_point = y_positions // 2 \n",
    "# The starting and ending points are fixed\n",
    "solver.Add(x[middle_point,0] == 1)\n",
    "solver.Add(x[middle_point,x_positions-1] == 1)\n",
    "\n",
    "\n",
    "r = [middle_point-1, middle_point, middle_point+1]\n",
    "print(r)\n",
    "\n",
    "\n",
    "# For each column, only one variable can take the value 1\n",
    "for j in range(x_positions):\n",
    "    solver.Add(solver.Sum([x[i,j] for i in range(y_positions)]) == 1)\n",
    "    \n",
    "    \n",
    "\n",
    "\n",
    "# For each column, the only allowed movements from the previous column are\n",
    "# to the same row, the up-diagonal, or the low-diagonal\n",
    "for j in range(1, x_positions):\n",
    "    for i in range(y_positions-1):\n",
    "        if i > 0 & i < y_positions-1:\n",
    "            solver.Add(x[i,j] <= x[i,j-1] + x[i-1,j-1] + x[i+1,j-1])\n",
    "        if i == 0:\n",
    "            solver.Add(x[i,j] <= x[i,j-1] + x[i+1,j-1])\n",
    "        if i == y_positions-1:\n",
    "            solver.Add(x[i,j] <= x[i,j-1] + x[i-1,j-1])\n",
    "        if j == 1:\n",
    "            solver.Add(solver.Sum([x[i, j] for i in r]) == 1)\n",
    "\n",
    "\n",
    "\n",
    "# for each x_position, we need the boat to pass by there\n",
    "for j in range(x_positions):\n",
    "    solver.Add(solver.Sum([x[i, j] for i in range(y_positions)]) == 1)\n",
    "\n",
    "\n",
    "\n",
    "\n",
    "\n",
    "\n",
    "solver.Minimize(solver.Sum([result_co2[i][j] * x[i,j] for i in range(y_positions)\n",
    "                                                  for j in range(x_positions)]))\n",
    "status = solver.Solve()"
   ]
  },
  {
   "cell_type": "code",
   "execution_count": null,
   "id": "a6cb6027",
   "metadata": {},
   "outputs": [
    {
     "name": "stdout",
     "output_type": "stream",
     "text": [
      "Total co2 =  48.0 \n",
      "\n",
      "x_position 0 took y_position 1.  CO2 = 16\n",
      "x_position 1 took y_position 1.  CO2 = 0\n",
      "x_position 2 took y_position 0.  CO2 = 16\n",
      "x_position 3 took y_position 0.  CO2 = 16\n",
      "x_position 4 took y_position 1.  CO2 = 0\n"
     ]
    }
   ],
   "source": [
    "# Print solution.\n",
    "if status == pywraplp.Solver.OPTIMAL:\n",
    "    print('Total co2 = ', solver.Objective().Value(), '\\n')\n",
    "    for j in range(x_positions):\n",
    "        for i in range(y_positions):\n",
    "            # Test if x[i,j] is 1 (with tolerance for floating point arithmetic).\n",
    "            if x[i, j].solution_value() > 0.5:\n",
    "                print('x_position %d took y_position %d.  CO2 = %d' %\n",
    "                      (j, i, result_co2[i][j]))"
   ]
  },
  {
   "cell_type": "code",
   "execution_count": null,
   "id": "07ef4f4c",
   "metadata": {},
   "outputs": [
    {
     "name": "stdout",
     "output_type": "stream",
     "text": [
      "+---+---+---+---+---+\n",
      "|   |   | # | # |   |\n",
      "+---+---+---+---+---+\n",
      "| # | # |   |   | # |\n",
      "+---+---+---+---+---+\n",
      "|   |   |   |   |   |\n",
      "+---+---+---+---+---+\n"
     ]
    }
   ],
   "source": [
    "for j in range(x_positions):\n",
    "        for i in range(y_positions):\n",
    "            # Test if x[i,j] is 1 (with tolerance for floating point arithmetic).\n",
    "            path[i,j] = (x[i,j].solution_value())\n",
    "\n",
    "def show_table(path):\n",
    "    results = path.tolist()          \n",
    "    for i in range(len(results)):\n",
    "        for j in range(len(results[i])):\n",
    "            if results[i][j] == 1:\n",
    "                results[i][j] = \"#\"\n",
    "            elif results[i][j] == 0:\n",
    "                results[i][j] = \"\"\n",
    "    print(tabulate(list(map(tuple, results)), tablefmt=\"grid\", stralign=\"center\"))\n",
    "\n",
    "show_table(path)"
   ]
  },
  {
   "cell_type": "markdown",
   "id": "77df8d74",
   "metadata": {},
   "source": [
    "## All together just to test test"
   ]
  },
  {
   "cell_type": "code",
   "execution_count": 421,
   "id": "7bd53a4d",
   "metadata": {},
   "outputs": [
    {
     "name": "stdout",
     "output_type": "stream",
     "text": [
      "[1, 2, 3]\n",
      "Total co2 =  32.0 \n",
      "\n",
      "x_position 0 took y_position 2.  CO2 = 0\n",
      "x_position 1 took y_position 1.  CO2 = 0\n",
      "x_position 2 took y_position 0.  CO2 = 16\n",
      "x_position 3 took y_position 0.  CO2 = 0\n",
      "x_position 4 took y_position 4.  CO2 = 16\n",
      "x_position 5 took y_position 3.  CO2 = 0\n",
      "x_position 6 took y_position 2.  CO2 = 0\n",
      "+---+---+---+---+---+---+---+\n",
      "|   |   | # | # |   |   |   |\n",
      "+---+---+---+---+---+---+---+\n",
      "|   | # |   |   |   |   |   |\n",
      "+---+---+---+---+---+---+---+\n",
      "| # |   |   |   |   |   | # |\n",
      "+---+---+---+---+---+---+---+\n",
      "|   |   |   |   |   | # |   |\n",
      "+---+---+---+---+---+---+---+\n",
      "|   |   |   |   | # |   |   |\n",
      "+---+---+---+---+---+---+---+\n"
     ]
    }
   ],
   "source": [
    "#ARBITRARY CONSTANTS TO CHECK !!!\n",
    "total_distance = 60 #miles\n",
    "x_positions = 7 #nb of squares between A and B\n",
    "y_positions = 5\n",
    "eta = 0.001\n",
    "motor_speed = 15 #in mph\n",
    "motor_emission_per_mile = 3.2 #in kgCO2 per mile\n",
    "\n",
    "wind_angle_matrix = random_space(360, x_positions, y_positions) #in degrees\n",
    "wind_speed_matrix = random_space(30, x_positions, y_positions) #in mph\n",
    "\n",
    "\n",
    "def single_line(wind_angle, wind_speed, print_=False):\n",
    "    \n",
    "    #defining the lists to be used\n",
    "    list_sail = []\n",
    "    list_boat_speed = []\n",
    "    list_co2 = []\n",
    "    list_time = []\n",
    "    \n",
    "    for i in range(x_positions):\n",
    "        #evaluating if we open the sails for each position\n",
    "        list_sail.append(open_sail(wind_angle[i],wind_speed[i]))\n",
    "\n",
    "        #determining the boat speeds depending on whether we use sails on motor   \n",
    "        if list_sail[i]==True:\n",
    "            list_boat_speed.append(boat_speed(wind_angle[i],wind_speed[i],eta))\n",
    "\n",
    "        else:\n",
    "            list_boat_speed.append(motor_speed)\n",
    "\n",
    "        #CO2 emissions calculations    \n",
    "        if list_sail[i]==True:\n",
    "            list_co2.append(0)\n",
    "\n",
    "        else:\n",
    "            list_co2.append(motor_emission_per_mile*square_length)\n",
    "\n",
    "        #determining the time needed for the journey    \n",
    "        list_time.append(square_length/list_boat_speed[i])    \n",
    "\n",
    "    #printing results\n",
    "    if print_:\n",
    "        print(\"Wind angles are :\", wind_angle)\n",
    "        print(\"Wind speeds are :\", wind_speed)\n",
    "        print(\"We open the sails :\", list_sail)\n",
    "        print(\"Boat speeds are :\", list_boat_speed)\n",
    "    return (wind_angle,wind_speed, list_sail,list_boat_speed, list_co2)\n",
    "\n",
    "path = np.zeros((y_positions, x_positions), int)\n",
    "result_wind_angle = []\n",
    "result_wind_speed = []\n",
    "result_sail = []\n",
    "result_boat_speed = []\n",
    "result_co2 = []\n",
    "\n",
    "for y in range(y_positions):\n",
    "    results = single_line(wind_angle_matrix[y], wind_speed_matrix[y])\n",
    "    result_wind_angle.append(results[0])\n",
    "    result_wind_speed.append(results[1])\n",
    "    result_sail.append(results[2])\n",
    "    result_boat_speed.append(results[3])\n",
    "    result_co2.append(results[4])\n",
    "    \n",
    "result_co2\n",
    "\n",
    "\n",
    "result_co2[1][2] =16.\n",
    "result_co2\n",
    "\n",
    "\n",
    "## New test\n",
    "\n",
    "solver = pywraplp.Solver.CreateSolver('CLP')\n",
    "\n",
    "x = {}\n",
    "for i in range(y_positions):\n",
    "    for j in range(x_positions):\n",
    "        x[i, j] = solver.IntVar(0, 1, '')\n",
    "\n",
    "# Define the constraints\n",
    "middle_point = middle_point = y_positions // 2 \n",
    "# The starting and ending points are fixed\n",
    "solver.Add(x[middle_point,0] == 1)\n",
    "solver.Add(x[middle_point,x_positions-1] == 1)\n",
    "\n",
    "\n",
    "r = [middle_point-1, middle_point, middle_point+1]\n",
    "print(r)\n",
    "\n",
    "\n",
    "# For each column, only one variable can take the value 1\n",
    "for j in range(x_positions):\n",
    "    solver.Add(solver.Sum([x[i,j] for i in range(y_positions)]) == 1)\n",
    "    # Force second column constraint to follow from middle point and be have only allowed potential solutions\n",
    "    \n",
    "\n",
    "\n",
    "# For each column, the only allowed movements from the previous column are\n",
    "# to the same row, the up-diagonal, or the low-diagonal\n",
    "for j in range(1, x_positions):\n",
    "    for i in range(y_positions-1):\n",
    "        if i > 0 & i < y_positions-1:\n",
    "            solver.Add(x[i,j] <= x[i,j-1] + x[i-1,j-1] + x[i+1,j-1])\n",
    "        if i == 0:\n",
    "            solver.Add(x[i,j] <= x[i,j-1] + x[i+1,j-1])\n",
    "        if i == y_positions-1:\n",
    "            solver.Add(x[i,j] <= x[i,j-1] + x[i-1,j-1])\n",
    "        if j == 1:\n",
    "            solver.Add(solver.Sum([x[i, j] for i in r]) == 1)\n",
    "\n",
    "\n",
    "# for each x_position, we need the boat to pass by there\n",
    "for j in range(x_positions):\n",
    "    solver.Add(solver.Sum([x[i, j] for i in range(y_positions)]) == 1)\n",
    "\n",
    "\n",
    "\n",
    "\n",
    "\n",
    "solver.Minimize(solver.Sum([result_co2[i][j] * x[i,j] for i in range(y_positions)\n",
    "                                                  for j in range(x_positions)]))\n",
    "status = solver.Solve()\n",
    "\n",
    "\n",
    "\n",
    "# Print solution.\n",
    "if status == pywraplp.Solver.OPTIMAL:\n",
    "    print('Total co2 = ', solver.Objective().Value(), '\\n')\n",
    "    for j in range(x_positions):\n",
    "        for i in range(y_positions):\n",
    "            # Test if x[i,j] is 1 (with tolerance for floating point arithmetic).\n",
    "            if x[i, j].solution_value() > 0.5:\n",
    "                print('x_position %d took y_position %d.  CO2 = %d' %\n",
    "                      (j, i, result_co2[i][j]))\n",
    "\n",
    "\n",
    "for j in range(x_positions):\n",
    "        for i in range(y_positions):\n",
    "            # Test if x[i,j] is 1 (with tolerance for floating point arithmetic).\n",
    "            path[i,j] = (x[i,j].solution_value())\n",
    "\n",
    "def show_table(path):\n",
    "    results = path.tolist()          \n",
    "    for i in range(len(results)):\n",
    "        for j in range(len(results[i])):\n",
    "            if results[i][j] == 1:\n",
    "                results[i][j] = \"#\"\n",
    "            elif results[i][j] == 0:\n",
    "                results[i][j] = \"\"\n",
    "    print(tabulate(list(map(tuple, results)), tablefmt=\"grid\", stralign=\"center\"))\n",
    "\n",
    "show_table(path)"
   ]
  },
  {
   "cell_type": "markdown",
   "id": "f1c6944c",
   "metadata": {},
   "source": [
    "# Creating measures of the field to calculate distance and velocity"
   ]
  },
  {
   "cell_type": "code",
   "execution_count": null,
   "id": "760929a7",
   "metadata": {},
   "outputs": [],
   "source": []
  },
  {
   "cell_type": "code",
   "execution_count": 12,
   "id": "ddb18de5",
   "metadata": {},
   "outputs": [],
   "source": [
    "tot_y_distance = 18 #miles\n",
    "tot_x_distance = total_distance #miles\n",
    "y_square = tot_y_distance/y_positions\n",
    "x_square = tot_x_distance/x_positions"
   ]
  },
  {
   "cell_type": "code",
   "execution_count": 13,
   "id": "32b9bf59",
   "metadata": {},
   "outputs": [
    {
     "name": "stdout",
     "output_type": "stream",
     "text": [
      "+-------------+-------------+--------------+--------------+--------------+--------------+--------------+--------------+\n",
      "| (0.0, 0.0)  | (0.0, 7.5)  | (0.0, 15.0)  | (0.0, 22.5)  | (0.0, 30.0)  | (0.0, 37.5)  | (0.0, 45.0)  | (0.0, 52.5)  |\n",
      "+-------------+-------------+--------------+--------------+--------------+--------------+--------------+--------------+\n",
      "| (6.0, 0.0)  | (6.0, 7.5)  | (6.0, 15.0)  | (6.0, 22.5)  | (6.0, 30.0)  | (6.0, 37.5)  | (6.0, 45.0)  | (6.0, 52.5)  |\n",
      "+-------------+-------------+--------------+--------------+--------------+--------------+--------------+--------------+\n",
      "| (12.0, 0.0) | (12.0, 7.5) | (12.0, 15.0) | (12.0, 22.5) | (12.0, 30.0) | (12.0, 37.5) | (12.0, 45.0) | (12.0, 52.5) |\n",
      "+-------------+-------------+--------------+--------------+--------------+--------------+--------------+--------------+\n"
     ]
    }
   ],
   "source": [
    "coordinates_field = [[(y_square*i,x_square*j) for j in range(x_positions)] for i in range(y_positions)]\n",
    "print(tabulate(coordinates_field, tablefmt=\"grid\", stralign=\"center\"))"
   ]
  },
  {
   "cell_type": "code",
   "execution_count": 14,
   "id": "1bdb1922",
   "metadata": {},
   "outputs": [
    {
     "data": {
      "text/plain": [
       "9.604686356149273"
      ]
     },
     "execution_count": 14,
     "metadata": {},
     "output_type": "execute_result"
    }
   ],
   "source": [
    "# we start from (10,0)\n",
    "start_point = coordinates_field[1][0]\n",
    "# we go straight\n",
    "straight_point = coordinates_field[1][1]\n",
    "# we go diagonally\n",
    "diagonal_point = coordinates_field[0][1]\n",
    "\n",
    "def get_distance(starting_point, end_point):\n",
    "    return math.sqrt((end_point[0]-starting_point[0])**2 + (end_point[1]-starting_point[1])**2)\n",
    "\n",
    "get_distance(start_point, diagonal_point)"
   ]
  },
  {
   "cell_type": "code",
   "execution_count": 15,
   "id": "fdaa78cd",
   "metadata": {},
   "outputs": [
    {
     "data": {
      "text/plain": [
       "[7.5, 7.5, 7.5, 7.5, 7.5, 7.5, 7.5]"
      ]
     },
     "execution_count": 15,
     "metadata": {},
     "output_type": "execute_result"
    }
   ],
   "source": [
    "def get_path_distance(path, coordinates_field):\n",
    "    passed_by = []\n",
    "    for j in range(x_positions):\n",
    "        for i in range(y_positions):\n",
    "            if path[i][j] == 1:\n",
    "                passed_by.append(coordinates_field[i][j])\n",
    "\n",
    "    total_distances = []            \n",
    "    for way in range(len(passed_by)-1):\n",
    "        total_distances.append(get_distance(passed_by[way], passed_by[way+1]))\n",
    "    return total_distances\n",
    "\n",
    "get_path_distance(path, coordinates_field)"
   ]
  },
  {
   "cell_type": "code",
   "execution_count": 16,
   "id": "f0f045b6",
   "metadata": {},
   "outputs": [
    {
     "data": {
      "text/plain": [
       "array([[0, 0, 0, 0, 0, 0, 0, 0],\n",
       "       [1, 1, 1, 1, 1, 1, 1, 1],\n",
       "       [0, 0, 0, 0, 0, 0, 0, 0]])"
      ]
     },
     "execution_count": 16,
     "metadata": {},
     "output_type": "execute_result"
    }
   ],
   "source": [
    "path"
   ]
  },
  {
   "cell_type": "markdown",
   "id": "232b206f",
   "metadata": {},
   "source": [
    "# Experiment"
   ]
  },
  {
   "cell_type": "code",
   "execution_count": 18,
   "id": "729d8068",
   "metadata": {},
   "outputs": [],
   "source": [
    "#ARBITRARY CONSTANTS TO CHECK !!!\n",
    "tot_y_distance = 60 #miles\n",
    "tot_x_distance = total_distance\n",
    "x_positions = 8 #nb of squares between A and B\n",
    "y_positions = 3\n",
    "eta = 0.001\n",
    "motor_speed = 15 #in mph\n",
    "motor_emission_per_mile = 3.2 #in kgCO2 per mile\n",
    "\n",
    "wind_angle_matrix = random_space(360, x_positions, y_positions, seed =12) #in degrees\n",
    "wind_speed_matrix = random_space(30, x_positions, y_positions, seed =12) #in mph\n",
    "\n",
    "\n",
    "def single_line(wind_angle, wind_speed, print_=False):\n",
    "    \n",
    "    #defining the lists to be used\n",
    "    list_sail = []\n",
    "    list_boat_speed = []\n",
    "    list_co2 = []\n",
    "    list_time = []\n",
    "    \n",
    "    for i in range(x_positions):\n",
    "        #evaluating if we open the sails for each position\n",
    "        list_sail.append(open_sail(wind_angle[i],wind_speed[i]))\n",
    "\n",
    "        #determining the boat speeds depending on whether we use sails on motor   \n",
    "        if list_sail[i]==True:\n",
    "            list_boat_speed.append(boat_speed(wind_angle[i],wind_speed[i],eta))\n",
    "\n",
    "        else:\n",
    "            list_boat_speed.append(motor_speed)\n",
    "\n",
    "        #CO2 emissions calculations    \n",
    "        if list_sail[i]==True:\n",
    "            list_co2.append(0)\n",
    "\n",
    "        else:\n",
    "            list_co2.append(motor_emission_per_mile*square_length)\n",
    "\n",
    "        #determining the time needed for the journey    \n",
    "        list_time.append(square_length/list_boat_speed[i])    \n",
    "\n",
    "    #printing results\n",
    "    if print_:\n",
    "        print(\"Wind angles are :\", wind_angle)\n",
    "        print(\"Wind speeds are :\", wind_speed)\n",
    "        print(\"We open the sails :\", list_sail)\n",
    "        print(\"Boat speeds are :\", list_boat_speed)\n",
    "    return (wind_angle, wind_speed, list_sail,list_boat_speed, list_co2)\n",
    "\n",
    "path = np.zeros((y_positions, x_positions), int)\n",
    "result_wind_angle = []\n",
    "result_wind_speed = []\n",
    "result_sail = []\n",
    "result_boat_speed = []\n",
    "result_co2 = []\n",
    "\n",
    "for y in range(y_positions):\n",
    "    results = single_line(wind_angle_matrix[y], wind_speed_matrix[y])\n",
    "    result_wind_angle.append(results[0])\n",
    "    result_wind_speed.append(results[1])\n",
    "    result_sail.append(results[2])\n",
    "    result_boat_speed.append(results[3])\n",
    "    result_co2.append(results[4])\n",
    "    \n",
    "get_sail_integer = np.vectorize(int)\n",
    "sail_integer = get_sail_integer(result_sail)\n",
    "\n",
    "get_motor = np.vectorize(np.logical_not)\n",
    "motor_integer = get_sail_integer(get_motor(result_sail))"
   ]
  },
  {
   "cell_type": "code",
   "execution_count": 19,
   "id": "99844888",
   "metadata": {},
   "outputs": [
    {
     "data": {
      "text/plain": [
       "array([[0, 1, 0, 1, 0, 0, 0, 0],\n",
       "       [0, 1, 0, 1, 0, 0, 0, 0],\n",
       "       [0, 1, 0, 1, 0, 0, 0, 0]])"
      ]
     },
     "execution_count": 19,
     "metadata": {},
     "output_type": "execute_result"
    }
   ],
   "source": [
    "sail_integer"
   ]
  },
  {
   "cell_type": "code",
   "execution_count": 20,
   "id": "4587624d",
   "metadata": {},
   "outputs": [
    {
     "data": {
      "text/plain": [
       "array([[1, 0, 1, 0, 1, 1, 1, 1],\n",
       "       [1, 0, 1, 0, 1, 1, 1, 1],\n",
       "       [1, 0, 1, 0, 1, 1, 1, 1]])"
      ]
     },
     "execution_count": 20,
     "metadata": {},
     "output_type": "execute_result"
    }
   ],
   "source": [
    "motor_integer"
   ]
  },
  {
   "cell_type": "code",
   "execution_count": 21,
   "id": "7843a9f9",
   "metadata": {},
   "outputs": [],
   "source": [
    "fixed = {\"speed\":result_boat_speed, \"sail\":sail_integer, \"motor\":motor_integer}\n",
    "tot_y_distance = 60 #miles\n",
    "tot_x_distance = total_distance #miles\n",
    "y_square = tot_y_distance/y_positions\n",
    "x_square = tot_x_distance/x_positions\n",
    "coordinates_field = [[(y_square*i,x_square*j) for j in range(x_positions)] for i in range(y_positions)]\n",
    "# print(tabulate(coordinates_field, tablefmt=\"grid\", stralign=\"center\"))\n"
   ]
  },
  {
   "cell_type": "code",
   "execution_count": 84,
   "id": "92af565e",
   "metadata": {},
   "outputs": [],
   "source": [
    "solver = pywraplp.Solver.CreateSolver('CLP')\n",
    "\n",
    "x = {}\n",
    "for i in range(y_positions):\n",
    "    for j in range(x_positions):\n",
    "        x[i, j] = solver.IntVar(0, 1, '')\n",
    "        \n",
    "# Constraints\n",
    "\n",
    "# for each x_position, we need the boat to pass by there\n",
    "for j in range(x_positions):\n",
    "    solver.Add(solver.Sum([x[i, j] for i in range(y_positions)]) == 1)\n",
    "\n",
    "# you can only move either the square in front of you either in the two closest diagonals    \n",
    "for j in range(1, x_positions):\n",
    "    solver.Add(solver.Sum([x[i+1,j-1] + x[i,j-1] + x[i-1, j-1] for i in range(1,y_positions-1)]) == 1)\n",
    "    solver.Add((x[0,j-1] + x[1,j-1]) == 1)\n",
    "    solver.Add((x[y_positions-2,j-1] + x[y_positions-1,j-1]) == 1)\n",
    "\n",
    "middle_point = y_positions // 2    \n",
    "#choose a specific starting point (i)\n",
    "solver.Add(x[middle_point,0] == 1)\n",
    "#chose a specific ending point (i)\n",
    "solver.Add(x[0,x_positions-1] == 1)\n",
    "\n",
    "\n",
    "def get_distance(starting_point, end_point):\n",
    "    return math.sqrt((end_point[0]-starting_point[0])**2 + (end_point[1]-starting_point[1])**2)\n",
    "\n",
    "solver.Minimize(solver.Sum([x[i,j] * motor_integer[i][j] * motor_emission_per_mile for i in range(y_positions)\n",
    "                                                  for j in range(1,x_positions)]))\n",
    "status = solver.Solve()"
   ]
  },
  {
   "cell_type": "code",
   "execution_count": 87,
   "id": "b9e7eafb",
   "metadata": {},
   "outputs": [
    {
     "name": "stdout",
     "output_type": "stream",
     "text": [
      "Total co2 =  16.0 \n",
      "\n",
      "x_position 1 took y_position 1.  CO2 = 999\n",
      "x_position 2 took y_position 1.  CO2 = 999\n",
      "x_position 3 took y_position 1.  CO2 = 999\n",
      "x_position 4 took y_position 1.  CO2 = 999\n",
      "x_position 5 took y_position 1.  CO2 = 999\n",
      "x_position 6 took y_position 1.  CO2 = 999\n",
      "x_position 7 took y_position 0.  CO2 = 999\n"
     ]
    }
   ],
   "source": [
    "# Print solution.\n",
    "if status == pywraplp.Solver.OPTIMAL:\n",
    "    print('Total co2 = ', solver.Objective().Value(), '\\n')\n",
    "    for j in range(1,x_positions):\n",
    "        for i in range(y_positions):\n",
    "            # Test if x[i,j] is 1 (with tolerance for floating point arithmetic).\n",
    "            if x[i, j].solution_value() > 0.5:\n",
    "                print('x_position %d took y_position %d.  CO2 = %d' %\n",
    "                      (j, i, 999))"
   ]
  },
  {
   "cell_type": "code",
   "execution_count": 88,
   "id": "11634564",
   "metadata": {},
   "outputs": [
    {
     "data": {
      "text/plain": [
       "array([[0, 0, 0, 0, 0, 0, 0, 0],\n",
       "       [1, 1, 1, 1, 1, 1, 1, 1],\n",
       "       [0, 0, 0, 0, 0, 0, 0, 0]])"
      ]
     },
     "execution_count": 88,
     "metadata": {},
     "output_type": "execute_result"
    }
   ],
   "source": [
    "path"
   ]
  },
  {
   "cell_type": "code",
   "execution_count": 37,
   "id": "591ce2da",
   "metadata": {},
   "outputs": [
    {
     "data": {
      "text/plain": [
       "(0.0, 7.5)"
      ]
     },
     "execution_count": 37,
     "metadata": {},
     "output_type": "execute_result"
    }
   ],
   "source": [
    "print(coordinates_field[0][1])\n",
    "print(coordinates_fiel[])"
   ]
  },
  {
   "cell_type": "code",
   "execution_count": 71,
   "id": "599bf36b",
   "metadata": {},
   "outputs": [
    {
     "data": {
      "text/plain": [
       "(20.0, 15.0)"
      ]
     },
     "execution_count": 71,
     "metadata": {},
     "output_type": "execute_result"
    }
   ],
   "source": [
    "coordinates_field[1][2]"
   ]
  },
  {
   "cell_type": "code",
   "execution_count": 95,
   "id": "6f63929b",
   "metadata": {},
   "outputs": [
    {
     "data": {
      "text/plain": [
       "[[0.0, 0.0, 0.0, 0.0, 0.0, 0.0, 0.0, 0.0],\n",
       " [52.5, 7.5, 7.5, 7.5, 7.5, 7.5, 7.5, 7.5],\n",
       " [0.0, 0.0, 0.0, 0.0, 0.0, 0.0, 0.0, 0.0]]"
      ]
     },
     "execution_count": 95,
     "metadata": {},
     "output_type": "execute_result"
    }
   ],
   "source": [
    "passed_by = list(map(list,path))\n",
    "for j in range(x_positions):\n",
    "    for i in range(y_positions):\n",
    "        passed_by[i][j] = passed_by[i][j] * get_distance(coordinates_field[i][j], coordinates_field[i][j-1])\n",
    "\n",
    "passed_by\n",
    "#def get_distance(starting_point, end_point):"
   ]
  },
  {
   "cell_type": "code",
   "execution_count": 93,
   "id": "97e0e081",
   "metadata": {},
   "outputs": [
    {
     "ename": "IndexError",
     "evalue": "list index out of range",
     "output_type": "error",
     "traceback": [
      "\u001b[1;31m---------------------------------------------------------------------------\u001b[0m",
      "\u001b[1;31mIndexError\u001b[0m                                Traceback (most recent call last)",
      "\u001b[1;32m~\\AppData\\Local\\Temp/ipykernel_15284/2370568003.py\u001b[0m in \u001b[0;36m<module>\u001b[1;34m\u001b[0m\n\u001b[0;32m     11\u001b[0m     \u001b[1;32mreturn\u001b[0m \u001b[0mresult\u001b[0m\u001b[1;33m\u001b[0m\u001b[1;33m\u001b[0m\u001b[0m\n\u001b[0;32m     12\u001b[0m \u001b[1;33m\u001b[0m\u001b[0m\n\u001b[1;32m---> 13\u001b[1;33m \u001b[0mget_path_distance\u001b[0m\u001b[1;33m(\u001b[0m\u001b[0mpath\u001b[0m\u001b[1;33m,\u001b[0m \u001b[0mcoordinates_field\u001b[0m\u001b[1;33m)\u001b[0m\u001b[1;33m\u001b[0m\u001b[1;33m\u001b[0m\u001b[0m\n\u001b[0m",
      "\u001b[1;32m~\\AppData\\Local\\Temp/ipykernel_15284/2370568003.py\u001b[0m in \u001b[0;36mget_path_distance\u001b[1;34m(path, coordinates_field)\u001b[0m\n\u001b[0;32m      3\u001b[0m     \u001b[1;32mfor\u001b[0m \u001b[0mj\u001b[0m \u001b[1;32min\u001b[0m \u001b[0mrange\u001b[0m\u001b[1;33m(\u001b[0m\u001b[1;36m1\u001b[0m\u001b[1;33m,\u001b[0m\u001b[0mx_positions\u001b[0m\u001b[1;33m+\u001b[0m\u001b[1;36m1\u001b[0m\u001b[1;33m)\u001b[0m\u001b[1;33m:\u001b[0m\u001b[1;33m\u001b[0m\u001b[1;33m\u001b[0m\u001b[0m\n\u001b[0;32m      4\u001b[0m         \u001b[1;32mfor\u001b[0m \u001b[0mi\u001b[0m \u001b[1;32min\u001b[0m \u001b[0mrange\u001b[0m\u001b[1;33m(\u001b[0m\u001b[0my_positions\u001b[0m\u001b[1;33m)\u001b[0m\u001b[1;33m:\u001b[0m\u001b[1;33m\u001b[0m\u001b[1;33m\u001b[0m\u001b[0m\n\u001b[1;32m----> 5\u001b[1;33m             \u001b[0mpassed_by\u001b[0m\u001b[1;33m[\u001b[0m\u001b[0mi\u001b[0m\u001b[1;33m]\u001b[0m\u001b[1;33m[\u001b[0m\u001b[0mj\u001b[0m\u001b[1;33m]\u001b[0m \u001b[1;33m=\u001b[0m \u001b[0mpassed_by\u001b[0m\u001b[1;33m[\u001b[0m\u001b[0mi\u001b[0m\u001b[1;33m]\u001b[0m\u001b[1;33m[\u001b[0m\u001b[0mj\u001b[0m\u001b[1;33m]\u001b[0m \u001b[1;33m*\u001b[0m \u001b[0mget_distance\u001b[0m\u001b[1;33m(\u001b[0m\u001b[0mcoordinates_field\u001b[0m\u001b[1;33m[\u001b[0m\u001b[0mi\u001b[0m\u001b[1;33m]\u001b[0m\u001b[1;33m[\u001b[0m\u001b[0mj\u001b[0m\u001b[1;33m]\u001b[0m\u001b[1;33m,\u001b[0m \u001b[0mcoordinates_field\u001b[0m\u001b[1;33m[\u001b[0m\u001b[0mi\u001b[0m\u001b[1;33m]\u001b[0m\u001b[1;33m[\u001b[0m\u001b[0mj\u001b[0m\u001b[1;33m-\u001b[0m\u001b[1;36m1\u001b[0m\u001b[1;33m]\u001b[0m\u001b[1;33m)\u001b[0m\u001b[1;33m\u001b[0m\u001b[1;33m\u001b[0m\u001b[0m\n\u001b[0m\u001b[0;32m      6\u001b[0m \u001b[1;33m\u001b[0m\u001b[0m\n\u001b[0;32m      7\u001b[0m     \u001b[0mresult\u001b[0m \u001b[1;33m=\u001b[0m \u001b[0mpath\u001b[0m\u001b[1;33m\u001b[0m\u001b[1;33m\u001b[0m\u001b[0m\n",
      "\u001b[1;31mIndexError\u001b[0m: list index out of range"
     ]
    }
   ],
   "source": [
    "def get_path_distance(path, coordinates_field):\n",
    "    passed_by = list(map(list,path))\n",
    "    for j in range(1,x_positions+1):\n",
    "        for i in range(y_positions):\n",
    "            passed_by[i][j] = passed_by[i][j] * get_distance(coordinates_field[i][j], coordinates_field[i][j-1])\n",
    "     \n",
    "    result = path\n",
    "    for i in range(y_positions):\n",
    "        for j in range(x_positions):\n",
    "            result[i,j] += get_distance(passed_by[way], passed_by[way+1])\n",
    "    return result\n",
    "\n",
    "get_path_distance(path, coordinates_field)"
   ]
  },
  {
   "cell_type": "code",
   "execution_count": 90,
   "id": "55ac33ae",
   "metadata": {},
   "outputs": [
    {
     "data": {
      "text/plain": [
       "array([[0, 0, 0, 0, 0, 0, 0, 0],\n",
       "       [1, 1, 1, 1, 1, 1, 1, 1],\n",
       "       [0, 0, 0, 0, 0, 0, 0, 0]])"
      ]
     },
     "execution_count": 90,
     "metadata": {},
     "output_type": "execute_result"
    }
   ],
   "source": [
    "path"
   ]
  },
  {
   "cell_type": "code",
   "execution_count": 50,
   "id": "9e9b8f7f",
   "metadata": {},
   "outputs": [
    {
     "data": {
      "text/plain": [
       "0.0"
      ]
     },
     "execution_count": 50,
     "metadata": {},
     "output_type": "execute_result"
    }
   ],
   "source": [
    "passed_by = np.zeros((y_positions, x_positions), int)\n",
    "passed_by[i,j] = path[i,j] + passed_by[i,j]\n",
    "get_distance(passed_by[1], passed_by[1+1])"
   ]
  },
  {
   "cell_type": "code",
   "execution_count": 48,
   "id": "76721025",
   "metadata": {},
   "outputs": [
    {
     "data": {
      "text/plain": [
       "array([[0, 0, 0, 0, 0, 0, 0, 0],\n",
       "       [0, 0, 0, 0, 0, 0, 0, 0],\n",
       "       [0, 0, 0, 0, 0, 0, 0, 0]])"
      ]
     },
     "execution_count": 48,
     "metadata": {},
     "output_type": "execute_result"
    }
   ],
   "source": [
    "def get_distance(starting_point, end_point):\n",
    "    return math.sqrt((end_point[0]-starting_point[0])**2 + (end_point[1]-starting_point[1])**2)"
   ]
  },
  {
   "cell_type": "code",
   "execution_count": null,
   "id": "91c29763",
   "metadata": {},
   "outputs": [],
   "source": []
  }
 ],
 "metadata": {
  "kernelspec": {
   "display_name": "Python 3 (ipykernel)",
   "language": "python",
   "name": "python3"
  },
  "language_info": {
   "codemirror_mode": {
    "name": "ipython",
    "version": 3
   },
   "file_extension": ".py",
   "mimetype": "text/x-python",
   "name": "python",
   "nbconvert_exporter": "python",
   "pygments_lexer": "ipython3",
   "version": "3.11.0"
  }
 },
 "nbformat": 4,
 "nbformat_minor": 5
}
